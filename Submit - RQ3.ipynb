{
 "cells": [
  {
   "cell_type": "markdown",
   "id": "200c4821",
   "metadata": {},
   "source": [
    "# RQ3:  One year after the Covid-19, how to successfully get an offer?"
   ]
  },
  {
   "cell_type": "markdown",
   "id": "0faf928b",
   "metadata": {},
   "source": [
    "# 1. Objective Factors"
   ]
  },
  {
   "cell_type": "markdown",
   "id": "39d00c0a",
   "metadata": {},
   "source": [
    "## (1) Waffle Chart: US/UK/HK* Offer distribution (offer/reject/waiting)\n",
    "- IV: US/UK/HK\n",
    "- DV: Offer Distribution"
   ]
  },
  {
   "cell_type": "markdown",
   "id": "bc4efed9",
   "metadata": {},
   "source": [
    "### extract the data needed"
   ]
  },
  {
   "cell_type": "code",
   "execution_count": 1,
   "id": "1d1651e5",
   "metadata": {},
   "outputs": [],
   "source": [
    "import pandas as pd"
   ]
  },
  {
   "cell_type": "code",
   "execution_count": 2,
   "id": "7038b52a",
   "metadata": {},
   "outputs": [
    {
     "name": "stderr",
     "output_type": "stream",
     "text": [
      "/Users/hujiaying/opt/anaconda3/lib/python3.8/site-packages/IPython/core/interactiveshell.py:3165: DtypeWarning: Columns (6) have mixed types.Specify dtype option on import or set low_memory=False.\n",
      "  has_raised = await self.run_ast_nodes(code_ast.body, cell_name,\n"
     ]
    }
   ],
   "source": [
    "df = pd.read_csv('index_new_time.csv')"
   ]
  },
  {
   "cell_type": "code",
   "execution_count": 3,
   "id": "97db99df",
   "metadata": {},
   "outputs": [
    {
     "data": {
      "text/plain": [
       "Index(['Unnamed: 0', 'Unnamed: 0.1', 'case', 'Unnamed: 0.1.1',\n",
       "       'Unnamed: 0.1.1.1', 'id', 'uniqid', 'schoolname', 'professional',\n",
       "       'countries', 'sid', 'pid', 'nid', 'offer_id', 'uid', 'degree',\n",
       "       'degree_other', 'apply_results', 'apply_lang', 'year', 'timestamp',\n",
       "       'updatetime', 'time_year', 'time_month', 'time_day', 'semester',\n",
       "       'notice_time', 'vieworder', 'state', 'urls', 'toefl', 'gre', 'ielts',\n",
       "       'ptea', 'sub', 'gmat', 'undergraduate_subject', 'undergraduate_sid',\n",
       "       'undergraduate_gpa', 'graduate_subject', 'case.1'],\n",
       "      dtype='object')"
      ]
     },
     "execution_count": 3,
     "metadata": {},
     "output_type": "execute_result"
    }
   ],
   "source": [
    "df.columns"
   ]
  },
  {
   "cell_type": "code",
   "execution_count": 4,
   "id": "9380d86d",
   "metadata": {},
   "outputs": [
    {
     "data": {
      "text/plain": [
       "0        1\n",
       "1        4\n",
       "2        5\n",
       "3        5\n",
       "4        4\n",
       "        ..\n",
       "96071    3\n",
       "96072    5\n",
       "96073    5\n",
       "96074    4\n",
       "96075    1\n",
       "Name: apply_results, Length: 96076, dtype: int64"
      ]
     },
     "execution_count": 4,
     "metadata": {},
     "output_type": "execute_result"
    }
   ],
   "source": [
    "df['apply_results']"
   ]
  },
  {
   "cell_type": "code",
   "execution_count": 5,
   "id": "d62948f0",
   "metadata": {},
   "outputs": [
    {
     "data": {
      "text/plain": [
       "1    38993\n",
       "3    32102\n",
       "4    14588\n",
       "2     8335\n",
       "5     2057\n",
       "0        1\n",
       "Name: apply_results, dtype: int64"
      ]
     },
     "execution_count": 5,
     "metadata": {},
     "output_type": "execute_result"
    }
   ],
   "source": [
    "df.apply_results.value_counts()"
   ]
  },
  {
   "cell_type": "markdown",
   "id": "a4ab4e85",
   "metadata": {},
   "source": [
    "### recode the apply_results"
   ]
  },
  {
   "cell_type": "code",
   "execution_count": 6,
   "id": "26069b8c",
   "metadata": {},
   "outputs": [],
   "source": [
    "df['apply_results'].replace(4,0,inplace=True)"
   ]
  },
  {
   "cell_type": "code",
   "execution_count": 7,
   "id": "b076c9c5",
   "metadata": {},
   "outputs": [],
   "source": [
    "df['apply_results'].replace([1,2,3],1,inplace=True)"
   ]
  },
  {
   "cell_type": "code",
   "execution_count": 8,
   "id": "761c6bb6",
   "metadata": {},
   "outputs": [],
   "source": [
    "df['apply_results'].replace(5,2,inplace=True)"
   ]
  },
  {
   "cell_type": "code",
   "execution_count": 9,
   "id": "54dc2305",
   "metadata": {},
   "outputs": [
    {
     "data": {
      "text/plain": [
       "1    79430\n",
       "0    14589\n",
       "2     2057\n",
       "Name: apply_results, dtype: int64"
      ]
     },
     "execution_count": 9,
     "metadata": {},
     "output_type": "execute_result"
    }
   ],
   "source": [
    "#0-拒绝；1-offer；2-waiting list\n",
    "df.apply_results.value_counts()"
   ]
  },
  {
   "cell_type": "markdown",
   "id": "31d59ee3",
   "metadata": {},
   "source": [
    "### after covid-19, the apply_results of different countries"
   ]
  },
  {
   "cell_type": "code",
   "execution_count": 10,
   "id": "b4f3f5fa",
   "metadata": {},
   "outputs": [
    {
     "data": {
      "text/plain": [
       "countries  apply_results\n",
       "荷兰         1                454\n",
       "           0                 79\n",
       "西班牙        1                 54\n",
       "           0                 15\n",
       "           2                  7\n",
       "韩国         0                  2\n",
       "香港         1                860\n",
       "           0                 86\n",
       "           2                 15\n",
       "马来西亚       1                  1\n",
       "Name: apply_results, dtype: int64"
      ]
     },
     "execution_count": 10,
     "metadata": {},
     "output_type": "execute_result"
    }
   ],
   "source": [
    "df[\n",
    "    (   df['time_year'] == 2020) & \n",
    "        ((df['time_month'] >= 9) & \n",
    "        (df['time_month'] <= 12)    )     |\n",
    "    (   df['time_year'] == 2021) & \n",
    "        ((df['time_month'] >= 1) & \n",
    "        (df['time_month'] <= 8)    )     \n",
    "\n",
    "].groupby(by='countries').apply_results.value_counts().tail(10)"
   ]
  },
  {
   "cell_type": "code",
   "execution_count": 11,
   "id": "65a2ebcc",
   "metadata": {},
   "outputs": [
    {
     "name": "stdout",
     "output_type": "stream",
     "text": [
      "apply_results      0      1     2    All\n",
      "countries                               \n",
      "丹麦               197    701     7    905\n",
      "以色列                1      6     0      7\n",
      "其他                 0     12     0     12\n",
      "冰岛                 0      3     0      3\n",
      "加拿大             1425   4209    62   5696\n",
      "匈牙利                3     11     1     15\n",
      "台湾                 0      5     0      5\n",
      "奥地利                4     11     0     15\n",
      "德国               126    311     3    440\n",
      "意大利              115    581     7    703\n",
      "挪威                71    149     3    223\n",
      "捷克                 1      9     0     10\n",
      "新加坡              487   3658    24   4169\n",
      "新西兰                4     80     0     84\n",
      "日本                74    293     3    370\n",
      "欧洲                 0     65     0     65\n",
      "比利时               74    481     3    558\n",
      "沙特阿拉伯              4     13     0     17\n",
      "法国               108    262     4    374\n",
      "波兰                 1      0     0      1\n",
      "港/澳/台              0    705     0    705\n",
      "澳大利亚              63   1790     8   1861\n",
      "澳洲/新西兰             0     12     0     12\n",
      "澳门                10     56     2     68\n",
      "爱尔兰                8    148     1    157\n",
      "瑞典               117    966   106   1189\n",
      "瑞士               319    586     8    913\n",
      "美国              7777  30867  1435  40079\n",
      "芬兰               111    364     4    479\n",
      "英国              2107  11497   117  13721\n",
      "荷兰               412   2880     6   3298\n",
      "西班牙               42    254    16    312\n",
      "阿联酋                5      0     0      5\n",
      "韩国                 3      4     0      7\n",
      "香港               646  16976   194  17816\n",
      "马来西亚               0      4     0      4\n",
      "All            14315  77969  2014  94298\n"
     ]
    }
   ],
   "source": [
    "print(pd.crosstab(df['countries'],df['apply_results'],margins=True)) "
   ]
  },
  {
   "cell_type": "markdown",
   "id": "0da92d0e",
   "metadata": {},
   "source": [
    "### take US,UK,HK as example, and visualize the data"
   ]
  },
  {
   "cell_type": "code",
   "execution_count": 35,
   "id": "506ac726",
   "metadata": {
    "collapsed": true
   },
   "outputs": [
    {
     "name": "stdout",
     "output_type": "stream",
     "text": [
      "Collecting pywaffle\n",
      "  Downloading pywaffle-0.6.3-py2.py3-none-any.whl (526 kB)\n",
      "\u001b[K     |████████████████████████████████| 526 kB 2.4 MB/s eta 0:00:01\n",
      "\u001b[?25hRequirement already satisfied: matplotlib in /Users/hujiaying/opt/anaconda3/lib/python3.8/site-packages (from pywaffle) (3.3.4)\n",
      "Requirement already satisfied: cycler>=0.10 in /Users/hujiaying/opt/anaconda3/lib/python3.8/site-packages (from matplotlib->pywaffle) (0.10.0)\n",
      "Requirement already satisfied: pyparsing!=2.0.4,!=2.1.2,!=2.1.6,>=2.0.3 in /Users/hujiaying/opt/anaconda3/lib/python3.8/site-packages (from matplotlib->pywaffle) (2.4.7)\n",
      "Requirement already satisfied: pillow>=6.2.0 in /Users/hujiaying/opt/anaconda3/lib/python3.8/site-packages (from matplotlib->pywaffle) (8.2.0)\n",
      "Requirement already satisfied: python-dateutil>=2.1 in /Users/hujiaying/opt/anaconda3/lib/python3.8/site-packages (from matplotlib->pywaffle) (2.8.1)\n",
      "Requirement already satisfied: kiwisolver>=1.0.1 in /Users/hujiaying/opt/anaconda3/lib/python3.8/site-packages (from matplotlib->pywaffle) (1.3.1)\n",
      "Requirement already satisfied: numpy>=1.15 in /Users/hujiaying/opt/anaconda3/lib/python3.8/site-packages (from matplotlib->pywaffle) (1.20.1)\n",
      "Requirement already satisfied: six in /Users/hujiaying/opt/anaconda3/lib/python3.8/site-packages (from cycler>=0.10->matplotlib->pywaffle) (1.15.0)\n",
      "Installing collected packages: pywaffle\n",
      "Successfully installed pywaffle-0.6.3\n",
      "Note: you may need to restart the kernel to use updated packages.\n"
     ]
    }
   ],
   "source": [
    "#pip install pywaffle"
   ]
  },
  {
   "cell_type": "code",
   "execution_count": 13,
   "id": "0159006d",
   "metadata": {},
   "outputs": [],
   "source": [
    "import matplotlib.pyplot as plt\n",
    "from pywaffle import Waffle"
   ]
  },
  {
   "cell_type": "code",
   "execution_count": 14,
   "id": "2069546b",
   "metadata": {},
   "outputs": [],
   "source": [
    "import pandas as pd\n",
    "data = pd.DataFrame(\n",
    "    {\n",
    "        'labels': ['Offer', 'Reject', 'Waiting'],\n",
    "        'America': [30867,7777,1435],\n",
    "        'England': [11497,2107,117],\n",
    "        'Hong Kong': [16976,646,194],\n",
    "    },\n",
    ").set_index('labels')"
   ]
  },
  {
   "cell_type": "code",
   "execution_count": 15,
   "id": "8db881f6",
   "metadata": {},
   "outputs": [
    {
     "name": "stderr",
     "output_type": "stream",
     "text": [
      "/Users/hujiaying/opt/anaconda3/lib/python3.8/site-packages/pywaffle/waffle.py:394: MatplotlibDeprecationWarning: Passing non-integers as three-element position specification is deprecated since 3.3 and will be removed two minor releases later.\n",
      "  self.ax = self.add_subplot(loc, aspect=\"equal\")\n"
     ]
    },
    {
     "data": {
      "image/png": "[encoded data removed]",
      "text/plain": [
       "<Waffle size 648x360 with 3 Axes>"
      ]
     },
     "metadata": {
      "needs_background": "light"
     },
     "output_type": "display_data"
    }
   ],
   "source": [
    "fig = plt.figure(\n",
    "    FigureClass=Waffle,\n",
    "    plots={\n",
    "        '311': {\n",
    "            'values': data['America'] / 280,\n",
    "            'labels': ['{} {:.1f}%'.format(k, (v/(sum(data['America']))*100)) for k, v in data['America'].items()],\n",
    "            'legend': {\n",
    "                'loc': 'upper left',\n",
    "                'bbox_to_anchor': (1.05, 1),\n",
    "                'fontsize': 8\n",
    "            },\n",
    "            'title': {\n",
    "                'label': '2020.9 - 2021.8 America',\n",
    "                'loc': 'left'\n",
    "            }\n",
    "        },\n",
    "        '312': {\n",
    "            'values': data['Hong Kong'] / 280,\n",
    "            'labels': ['{} {:.1f}%'.format(k, (v/(sum(data['Hong Kong']))*100)) for k, v in data['Hong Kong'].items()],\n",
    "            'legend': {\n",
    "                'loc': 'upper left',\n",
    "                'bbox_to_anchor': (1.2, 1),\n",
    "                'fontsize': 8\n",
    "            },\n",
    "            'title': {\n",
    "                'label': '2020.9 - 2021.8 Hong Kong',\n",
    "                'loc': 'left'\n",
    "            }\n",
    "        },\n",
    "        '313': {\n",
    "            'values': data['England'] / 280,\n",
    "            'labels': ['{} {:.1f}%'.format(k, (v/(sum(data['England']))*100)) for k, v in data['England'].items()],\n",
    "            'legend': {\n",
    "                'loc': 'upper left',\n",
    "                'bbox_to_anchor': (1.3, 1),\n",
    "                'fontsize': 8\n",
    "            },\n",
    "            'title': {\n",
    "                'label': '2020.9 - 2021.8 England',\n",
    "                'loc': 'left'\n",
    "            }\n",
    "        },\n",
    "    },\n",
    "    rows=5,\n",
    "    colors=(\"#2196f3\", \"#ff5252\", \"#999999\"),  # shared parameter among subplots\n",
    "    figsize=(9, 5)  # figsize is a parameter of plt.figure\n",
    ")"
   ]
  },
  {
   "cell_type": "code",
   "execution_count": null,
   "id": "50ac877f",
   "metadata": {},
   "outputs": [],
   "source": []
  },
  {
   "cell_type": "markdown",
   "id": "bee371d1",
   "metadata": {},
   "source": [
    "## (2) Calender Chart: US/UK/HK* Day* Number of Offer Noticed\n",
    "- IV1: US/UK/HK\n",
    "- IV2: Day\n",
    "- DV: Number of Offer Noticed"
   ]
  },
  {
   "cell_type": "code",
   "execution_count": 16,
   "id": "0b17dc2e",
   "metadata": {},
   "outputs": [
    {
     "name": "stderr",
     "output_type": "stream",
     "text": [
      "/Users/hujiaying/opt/anaconda3/lib/python3.8/site-packages/IPython/core/interactiveshell.py:3165: DtypeWarning: Columns (6) have mixed types.Specify dtype option on import or set low_memory=False.\n",
      "  has_raised = await self.run_ast_nodes(code_ast.body, cell_name,\n"
     ]
    }
   ],
   "source": [
    "import pandas as pd\n",
    "df = pd.read_csv('index_new_time.csv')"
   ]
  },
  {
   "cell_type": "markdown",
   "id": "b16d1dc7",
   "metadata": {},
   "source": [
    "### extract data of US"
   ]
  },
  {
   "cell_type": "code",
   "execution_count": 17,
   "id": "b0e3ef0b",
   "metadata": {},
   "outputs": [],
   "source": [
    "source = df[\n",
    "    (df['countries'] == '美国')             &  \n",
    "    \n",
    "    (   (   (df['time_year'] == 2020) & \n",
    "            ((df['time_month'] >= 9) & \n",
    "            (df['time_month'] <= 12))   )  |\n",
    "        (   (df['time_year'] == 2021) & \n",
    "            ((df['time_month'] >= 1) & \n",
    "            (df['time_month'] <= 8))    )  )\n",
    "\n",
    "]"
   ]
  },
  {
   "cell_type": "code",
   "execution_count": 18,
   "id": "42aeda24",
   "metadata": {},
   "outputs": [
    {
     "name": "stderr",
     "output_type": "stream",
     "text": [
      "<ipython-input-18-2584b28e64ed>:2: SettingWithCopyWarning: \n",
      "A value is trying to be set on a copy of a slice from a DataFrame.\n",
      "Try using .loc[row_indexer,col_indexer] = value instead\n",
      "\n",
      "See the caveats in the documentation: https://pandas.pydata.org/pandas-docs/stable/user_guide/indexing.html#returning-a-view-versus-a-copy\n",
      "  source['notice_time']=pd.to_datetime(source['notice_time'],unit='s')\n"
     ]
    }
   ],
   "source": [
    "import time\n",
    "source['notice_time']=pd.to_datetime(source['notice_time'],unit='s')"
   ]
  },
  {
   "cell_type": "code",
   "execution_count": 19,
   "id": "a537fcaf",
   "metadata": {},
   "outputs": [
    {
     "data": {
      "text/plain": [
       "120     2021-04-12 16:00:00\n",
       "121     2021-04-04 16:00:00\n",
       "124     2021-03-16 16:00:00\n",
       "125     2021-02-16 16:00:00\n",
       "126     2021-03-29 16:00:00\n",
       "                ...        \n",
       "33873   2020-10-01 16:00:00\n",
       "33881   2020-09-08 16:00:00\n",
       "33884   2020-09-25 16:00:00\n",
       "33959   2020-09-05 16:00:00\n",
       "34150   2021-02-27 16:00:00\n",
       "Name: notice_time, Length: 1764, dtype: datetime64[ns]"
      ]
     },
     "execution_count": 19,
     "metadata": {},
     "output_type": "execute_result"
    }
   ],
   "source": [
    "source['notice_time']"
   ]
  },
  {
   "cell_type": "code",
   "execution_count": 20,
   "id": "8a9e9325",
   "metadata": {},
   "outputs": [
    {
     "name": "stderr",
     "output_type": "stream",
     "text": [
      "<ipython-input-20-c1d5f93a67dc>:1: SettingWithCopyWarning: \n",
      "A value is trying to be set on a copy of a slice from a DataFrame.\n",
      "Try using .loc[row_indexer,col_indexer] = value instead\n",
      "\n",
      "See the caveats in the documentation: https://pandas.pydata.org/pandas-docs/stable/user_guide/indexing.html#returning-a-view-versus-a-copy\n",
      "  source['notice_time'] = source['notice_time'].apply(lambda x: x.strftime('%Y-%m-%d'))\n"
     ]
    }
   ],
   "source": [
    "source['notice_time'] = source['notice_time'].apply(lambda x: x.strftime('%Y-%m-%d'))"
   ]
  },
  {
   "cell_type": "code",
   "execution_count": 21,
   "id": "0e8550b0",
   "metadata": {},
   "outputs": [
    {
     "data": {
      "text/plain": [
       "120      2021-04-12\n",
       "121      2021-04-04\n",
       "124      2021-03-16\n",
       "125      2021-02-16\n",
       "126      2021-03-29\n",
       "            ...    \n",
       "33873    2020-10-01\n",
       "33881    2020-09-08\n",
       "33884    2020-09-25\n",
       "33959    2020-09-05\n",
       "34150    2021-02-27\n",
       "Name: notice_time, Length: 1764, dtype: object"
      ]
     },
     "execution_count": 21,
     "metadata": {},
     "output_type": "execute_result"
    }
   ],
   "source": [
    "source['notice_time']"
   ]
  },
  {
   "cell_type": "code",
   "execution_count": 22,
   "id": "edf5b1c7",
   "metadata": {},
   "outputs": [],
   "source": [
    "new = source[(source['countries'] == '美国')\n",
    "      ]['notice_time'].value_counts()   #这里是所有类型的offer通知"
   ]
  },
  {
   "cell_type": "code",
   "execution_count": 23,
   "id": "53e014fd",
   "metadata": {},
   "outputs": [],
   "source": [
    "new = new.to_dict()"
   ]
  },
  {
   "cell_type": "code",
   "execution_count": 24,
   "id": "5e916970",
   "metadata": {},
   "outputs": [
    {
     "data": {
      "text/html": [
       "<div>\n",
       "<style scoped>\n",
       "    .dataframe tbody tr th:only-of-type {\n",
       "        vertical-align: middle;\n",
       "    }\n",
       "\n",
       "    .dataframe tbody tr th {\n",
       "        vertical-align: top;\n",
       "    }\n",
       "\n",
       "    .dataframe thead th {\n",
       "        text-align: right;\n",
       "    }\n",
       "</style>\n",
       "<table border=\"1\" class=\"dataframe\">\n",
       "  <thead>\n",
       "    <tr style=\"text-align: right;\">\n",
       "      <th></th>\n",
       "      <th>date</th>\n",
       "      <th>offers</th>\n",
       "    </tr>\n",
       "  </thead>\n",
       "  <tbody>\n",
       "    <tr>\n",
       "      <th>0</th>\n",
       "      <td>2021-03-01</td>\n",
       "      <td>77</td>\n",
       "    </tr>\n",
       "    <tr>\n",
       "      <th>1</th>\n",
       "      <td>2021-02-24</td>\n",
       "      <td>66</td>\n",
       "    </tr>\n",
       "    <tr>\n",
       "      <th>2</th>\n",
       "      <td>2021-03-09</td>\n",
       "      <td>61</td>\n",
       "    </tr>\n",
       "    <tr>\n",
       "      <th>3</th>\n",
       "      <td>2021-03-02</td>\n",
       "      <td>45</td>\n",
       "    </tr>\n",
       "    <tr>\n",
       "      <th>4</th>\n",
       "      <td>2021-03-12</td>\n",
       "      <td>45</td>\n",
       "    </tr>\n",
       "    <tr>\n",
       "      <th>...</th>\n",
       "      <td>...</td>\n",
       "      <td>...</td>\n",
       "    </tr>\n",
       "    <tr>\n",
       "      <th>181</th>\n",
       "      <td>2021-05-19</td>\n",
       "      <td>1</td>\n",
       "    </tr>\n",
       "    <tr>\n",
       "      <th>182</th>\n",
       "      <td>2020-09-29</td>\n",
       "      <td>1</td>\n",
       "    </tr>\n",
       "    <tr>\n",
       "      <th>183</th>\n",
       "      <td>2020-12-29</td>\n",
       "      <td>1</td>\n",
       "    </tr>\n",
       "    <tr>\n",
       "      <th>184</th>\n",
       "      <td>2021-05-31</td>\n",
       "      <td>1</td>\n",
       "    </tr>\n",
       "    <tr>\n",
       "      <th>185</th>\n",
       "      <td>2021-04-26</td>\n",
       "      <td>1</td>\n",
       "    </tr>\n",
       "  </tbody>\n",
       "</table>\n",
       "<p>186 rows × 2 columns</p>\n",
       "</div>"
      ],
      "text/plain": [
       "           date  offers\n",
       "0    2021-03-01      77\n",
       "1    2021-02-24      66\n",
       "2    2021-03-09      61\n",
       "3    2021-03-02      45\n",
       "4    2021-03-12      45\n",
       "..          ...     ...\n",
       "181  2021-05-19       1\n",
       "182  2020-09-29       1\n",
       "183  2020-12-29       1\n",
       "184  2021-05-31       1\n",
       "185  2021-04-26       1\n",
       "\n",
       "[186 rows x 2 columns]"
      ]
     },
     "execution_count": 24,
     "metadata": {},
     "output_type": "execute_result"
    }
   ],
   "source": [
    "usa_after = pd.DataFrame({'date':new.keys(),'offers':new.values()})\n",
    "usa_after"
   ]
  },
  {
   "cell_type": "code",
   "execution_count": 25,
   "id": "59a92155",
   "metadata": {},
   "outputs": [],
   "source": [
    "usa_after['date'] = pd.to_datetime(usa_after['date'])"
   ]
  },
  {
   "cell_type": "code",
   "execution_count": 26,
   "id": "e4b7ecf9",
   "metadata": {},
   "outputs": [],
   "source": [
    "usa_after['year'] = usa_after['date'].apply(lambda x: x.strftime('%Y'))"
   ]
  },
  {
   "cell_type": "code",
   "execution_count": 27,
   "id": "8191b1e3",
   "metadata": {},
   "outputs": [
    {
     "data": {
      "text/plain": [
       "0      2021\n",
       "1      2021\n",
       "2      2021\n",
       "3      2021\n",
       "4      2021\n",
       "       ... \n",
       "181    2021\n",
       "182    2020\n",
       "183    2020\n",
       "184    2021\n",
       "185    2021\n",
       "Name: year, Length: 186, dtype: object"
      ]
     },
     "execution_count": 27,
     "metadata": {},
     "output_type": "execute_result"
    }
   ],
   "source": [
    "usa_after['year']"
   ]
  },
  {
   "cell_type": "code",
   "execution_count": 28,
   "id": "92ad6fe0",
   "metadata": {},
   "outputs": [
    {
     "data": {
      "text/html": [
       "<div>\n",
       "<style scoped>\n",
       "    .dataframe tbody tr th:only-of-type {\n",
       "        vertical-align: middle;\n",
       "    }\n",
       "\n",
       "    .dataframe tbody tr th {\n",
       "        vertical-align: top;\n",
       "    }\n",
       "\n",
       "    .dataframe thead th {\n",
       "        text-align: right;\n",
       "    }\n",
       "</style>\n",
       "<table border=\"1\" class=\"dataframe\">\n",
       "  <thead>\n",
       "    <tr style=\"text-align: right;\">\n",
       "      <th></th>\n",
       "      <th>date</th>\n",
       "      <th>offers</th>\n",
       "      <th>year</th>\n",
       "    </tr>\n",
       "  </thead>\n",
       "  <tbody>\n",
       "    <tr>\n",
       "      <th>0</th>\n",
       "      <td>2021-03-01</td>\n",
       "      <td>77</td>\n",
       "      <td>2021</td>\n",
       "    </tr>\n",
       "    <tr>\n",
       "      <th>1</th>\n",
       "      <td>2021-02-24</td>\n",
       "      <td>66</td>\n",
       "      <td>2021</td>\n",
       "    </tr>\n",
       "    <tr>\n",
       "      <th>2</th>\n",
       "      <td>2021-03-09</td>\n",
       "      <td>61</td>\n",
       "      <td>2021</td>\n",
       "    </tr>\n",
       "    <tr>\n",
       "      <th>3</th>\n",
       "      <td>2021-03-02</td>\n",
       "      <td>45</td>\n",
       "      <td>2021</td>\n",
       "    </tr>\n",
       "    <tr>\n",
       "      <th>4</th>\n",
       "      <td>2021-03-12</td>\n",
       "      <td>45</td>\n",
       "      <td>2021</td>\n",
       "    </tr>\n",
       "    <tr>\n",
       "      <th>...</th>\n",
       "      <td>...</td>\n",
       "      <td>...</td>\n",
       "      <td>...</td>\n",
       "    </tr>\n",
       "    <tr>\n",
       "      <th>181</th>\n",
       "      <td>2021-05-19</td>\n",
       "      <td>1</td>\n",
       "      <td>2021</td>\n",
       "    </tr>\n",
       "    <tr>\n",
       "      <th>182</th>\n",
       "      <td>2020-09-29</td>\n",
       "      <td>1</td>\n",
       "      <td>2020</td>\n",
       "    </tr>\n",
       "    <tr>\n",
       "      <th>183</th>\n",
       "      <td>2020-12-29</td>\n",
       "      <td>1</td>\n",
       "      <td>2020</td>\n",
       "    </tr>\n",
       "    <tr>\n",
       "      <th>184</th>\n",
       "      <td>2021-05-31</td>\n",
       "      <td>1</td>\n",
       "      <td>2021</td>\n",
       "    </tr>\n",
       "    <tr>\n",
       "      <th>185</th>\n",
       "      <td>2021-04-26</td>\n",
       "      <td>1</td>\n",
       "      <td>2021</td>\n",
       "    </tr>\n",
       "  </tbody>\n",
       "</table>\n",
       "<p>186 rows × 3 columns</p>\n",
       "</div>"
      ],
      "text/plain": [
       "          date  offers  year\n",
       "0   2021-03-01      77  2021\n",
       "1   2021-02-24      66  2021\n",
       "2   2021-03-09      61  2021\n",
       "3   2021-03-02      45  2021\n",
       "4   2021-03-12      45  2021\n",
       "..         ...     ...   ...\n",
       "181 2021-05-19       1  2021\n",
       "182 2020-09-29       1  2020\n",
       "183 2020-12-29       1  2020\n",
       "184 2021-05-31       1  2021\n",
       "185 2021-04-26       1  2021\n",
       "\n",
       "[186 rows x 3 columns]"
      ]
     },
     "execution_count": 28,
     "metadata": {},
     "output_type": "execute_result"
    }
   ],
   "source": [
    "usa_after"
   ]
  },
  {
   "cell_type": "code",
   "execution_count": 29,
   "id": "ff06976d",
   "metadata": {},
   "outputs": [],
   "source": [
    "usa_after.to_csv('usa_after_offers_for_calender.csv')"
   ]
  },
  {
   "cell_type": "markdown",
   "id": "c0036781",
   "metadata": {},
   "source": [
    "### visualize data of US"
   ]
  },
  {
   "cell_type": "code",
   "execution_count": 33,
   "id": "7617d55e",
   "metadata": {
    "scrolled": true
   },
   "outputs": [
    {
     "data": {
      "text/plain": [
       "<matplotlib.colorbar.Colorbar at 0x7f978ac091f0>"
      ]
     },
     "execution_count": 33,
     "metadata": {},
     "output_type": "execute_result"
    },
    {
     "data": {
      "image/png": "[encoded data removed]",
      "text/plain": [
       "<Figure size 1080x720 with 3 Axes>"
      ]
     },
     "metadata": {
      "needs_background": "light"
     },
     "output_type": "display_data"
    }
   ],
   "source": [
    "fig,ax=calmap.calendarplot(df['offers'],\n",
    "                           fig_kws={'figsize': (15,10)}, \n",
    "                           #cmap= 'YlGn',\n",
    "                           #cmap= 'seismic',\n",
    "                           cmap = 'bwr',\n",
    "                           yearlabel_kws={'color':'black', 'fontsize':18}, \n",
    "                           subplot_kws={'title':'2020.9 - 2021.8 : America'},\n",
    "                          #linewidth=0\n",
    "                          )\n",
    "\n",
    "fig.colorbar(ax[0].get_children()[1], ax=ax.ravel().tolist(),orientation='horizontal')"
   ]
  },
  {
   "cell_type": "markdown",
   "id": "c0f10bc2",
   "metadata": {},
   "source": [
    "### extract data of UK"
   ]
  },
  {
   "cell_type": "code",
   "execution_count": 53,
   "id": "ec1fd94d",
   "metadata": {},
   "outputs": [
    {
     "name": "stderr",
     "output_type": "stream",
     "text": [
      "/Users/hujiaying/opt/anaconda3/lib/python3.8/site-packages/IPython/core/interactiveshell.py:3165: DtypeWarning: Columns (6) have mixed types.Specify dtype option on import or set low_memory=False.\n",
      "  has_raised = await self.run_ast_nodes(code_ast.body, cell_name,\n"
     ]
    }
   ],
   "source": [
    "import pandas as pd\n",
    "df = pd.read_csv('index_new_time.csv')"
   ]
  },
  {
   "cell_type": "code",
   "execution_count": 54,
   "id": "5367e73e",
   "metadata": {},
   "outputs": [],
   "source": [
    "source = df[\n",
    "    (df['countries'] == '英国')             &  \n",
    "    \n",
    "    (   (   (df['time_year'] == 2020) & \n",
    "            ((df['time_month'] >= 9) & \n",
    "            (df['time_month'] <= 12))   )  |\n",
    "        (   (df['time_year'] == 2021) & \n",
    "            ((df['time_month'] >= 1) & \n",
    "            (df['time_month'] <= 8))    )  )\n",
    "\n",
    "]"
   ]
  },
  {
   "cell_type": "code",
   "execution_count": 55,
   "id": "09098e80",
   "metadata": {},
   "outputs": [
    {
     "name": "stderr",
     "output_type": "stream",
     "text": [
      "<ipython-input-55-642e7f235d29>:2: SettingWithCopyWarning: \n",
      "A value is trying to be set on a copy of a slice from a DataFrame.\n",
      "Try using .loc[row_indexer,col_indexer] = value instead\n",
      "\n",
      "See the caveats in the documentation: https://pandas.pydata.org/pandas-docs/stable/user_guide/indexing.html#returning-a-view-versus-a-copy\n",
      "  source['notice_time']=pd.to_datetime(source['notice_time'],unit='s')\n"
     ]
    },
    {
     "data": {
      "text/plain": [
       "30      2021-03-22 16:00:00\n",
       "96      2021-07-04 16:00:00\n",
       "123     2021-02-24 16:00:00\n",
       "135     2021-03-24 16:00:00\n",
       "136     2021-06-29 16:00:00\n",
       "                ...        \n",
       "33950   2020-09-08 16:00:00\n",
       "33958   2020-09-03 16:00:00\n",
       "33987   2020-12-08 16:00:00\n",
       "34708   2020-11-17 16:00:00\n",
       "35674   2020-11-17 16:00:00\n",
       "Name: notice_time, Length: 1071, dtype: datetime64[ns]"
      ]
     },
     "execution_count": 55,
     "metadata": {},
     "output_type": "execute_result"
    }
   ],
   "source": [
    "import time\n",
    "source['notice_time']=pd.to_datetime(source['notice_time'],unit='s')\n",
    "source['notice_time']"
   ]
  },
  {
   "cell_type": "code",
   "execution_count": 56,
   "id": "51bdac49",
   "metadata": {},
   "outputs": [
    {
     "name": "stderr",
     "output_type": "stream",
     "text": [
      "<ipython-input-56-a5edf7382907>:1: SettingWithCopyWarning: \n",
      "A value is trying to be set on a copy of a slice from a DataFrame.\n",
      "Try using .loc[row_indexer,col_indexer] = value instead\n",
      "\n",
      "See the caveats in the documentation: https://pandas.pydata.org/pandas-docs/stable/user_guide/indexing.html#returning-a-view-versus-a-copy\n",
      "  source['notice_time'] = source['notice_time'].apply(lambda x: x.strftime('%Y-%m-%d'))\n"
     ]
    },
    {
     "data": {
      "text/plain": [
       "30       2021-03-22\n",
       "96       2021-07-04\n",
       "123      2021-02-24\n",
       "135      2021-03-24\n",
       "136      2021-06-29\n",
       "            ...    \n",
       "33950    2020-09-08\n",
       "33958    2020-09-03\n",
       "33987    2020-12-08\n",
       "34708    2020-11-17\n",
       "35674    2020-11-17\n",
       "Name: notice_time, Length: 1071, dtype: object"
      ]
     },
     "execution_count": 56,
     "metadata": {},
     "output_type": "execute_result"
    }
   ],
   "source": [
    "source['notice_time'] = source['notice_time'].apply(lambda x: x.strftime('%Y-%m-%d'))\n",
    "source['notice_time']"
   ]
  },
  {
   "cell_type": "code",
   "execution_count": 57,
   "id": "56a31b4c",
   "metadata": {},
   "outputs": [],
   "source": [
    "new = source[(source['countries'] == '英国')\n",
    "      ]['notice_time'].value_counts()   #这里是所有类型的offer通知"
   ]
  },
  {
   "cell_type": "code",
   "execution_count": 58,
   "id": "bda9e182",
   "metadata": {},
   "outputs": [],
   "source": [
    "new = new.to_dict()"
   ]
  },
  {
   "cell_type": "code",
   "execution_count": 59,
   "id": "8bc6607f",
   "metadata": {},
   "outputs": [
    {
     "data": {
      "text/html": [
       "<div>\n",
       "<style scoped>\n",
       "    .dataframe tbody tr th:only-of-type {\n",
       "        vertical-align: middle;\n",
       "    }\n",
       "\n",
       "    .dataframe tbody tr th {\n",
       "        vertical-align: top;\n",
       "    }\n",
       "\n",
       "    .dataframe thead th {\n",
       "        text-align: right;\n",
       "    }\n",
       "</style>\n",
       "<table border=\"1\" class=\"dataframe\">\n",
       "  <thead>\n",
       "    <tr style=\"text-align: right;\">\n",
       "      <th></th>\n",
       "      <th>date</th>\n",
       "      <th>offers</th>\n",
       "    </tr>\n",
       "  </thead>\n",
       "  <tbody>\n",
       "    <tr>\n",
       "      <th>0</th>\n",
       "      <td>2021-01-20</td>\n",
       "      <td>18</td>\n",
       "    </tr>\n",
       "    <tr>\n",
       "      <th>1</th>\n",
       "      <td>2020-12-17</td>\n",
       "      <td>16</td>\n",
       "    </tr>\n",
       "    <tr>\n",
       "      <th>2</th>\n",
       "      <td>2021-01-13</td>\n",
       "      <td>15</td>\n",
       "    </tr>\n",
       "    <tr>\n",
       "      <th>3</th>\n",
       "      <td>2020-12-16</td>\n",
       "      <td>15</td>\n",
       "    </tr>\n",
       "    <tr>\n",
       "      <th>4</th>\n",
       "      <td>2020-12-02</td>\n",
       "      <td>15</td>\n",
       "    </tr>\n",
       "    <tr>\n",
       "      <th>...</th>\n",
       "      <td>...</td>\n",
       "      <td>...</td>\n",
       "    </tr>\n",
       "    <tr>\n",
       "      <th>213</th>\n",
       "      <td>2021-05-30</td>\n",
       "      <td>1</td>\n",
       "    </tr>\n",
       "    <tr>\n",
       "      <th>214</th>\n",
       "      <td>2021-06-02</td>\n",
       "      <td>1</td>\n",
       "    </tr>\n",
       "    <tr>\n",
       "      <th>215</th>\n",
       "      <td>2020-09-30</td>\n",
       "      <td>1</td>\n",
       "    </tr>\n",
       "    <tr>\n",
       "      <th>216</th>\n",
       "      <td>2020-12-30</td>\n",
       "      <td>1</td>\n",
       "    </tr>\n",
       "    <tr>\n",
       "      <th>217</th>\n",
       "      <td>2021-01-02</td>\n",
       "      <td>1</td>\n",
       "    </tr>\n",
       "  </tbody>\n",
       "</table>\n",
       "<p>218 rows × 2 columns</p>\n",
       "</div>"
      ],
      "text/plain": [
       "           date  offers\n",
       "0    2021-01-20      18\n",
       "1    2020-12-17      16\n",
       "2    2021-01-13      15\n",
       "3    2020-12-16      15\n",
       "4    2020-12-02      15\n",
       "..          ...     ...\n",
       "213  2021-05-30       1\n",
       "214  2021-06-02       1\n",
       "215  2020-09-30       1\n",
       "216  2020-12-30       1\n",
       "217  2021-01-02       1\n",
       "\n",
       "[218 rows x 2 columns]"
      ]
     },
     "execution_count": 59,
     "metadata": {},
     "output_type": "execute_result"
    }
   ],
   "source": [
    "uk_after = pd.DataFrame({'date':new.keys(),'offers':new.values()})\n",
    "uk_after"
   ]
  },
  {
   "cell_type": "code",
   "execution_count": 60,
   "id": "01f61fa9",
   "metadata": {},
   "outputs": [],
   "source": [
    "uk_after['date'] = pd.to_datetime(uk_after['date'])"
   ]
  },
  {
   "cell_type": "code",
   "execution_count": 61,
   "id": "5c9e2e86",
   "metadata": {},
   "outputs": [],
   "source": [
    "uk_after['year'] = uk_after['date'].apply(lambda x: x.strftime('%Y'))"
   ]
  },
  {
   "cell_type": "code",
   "execution_count": 62,
   "id": "a5f5a55e",
   "metadata": {},
   "outputs": [
    {
     "data": {
      "text/plain": [
       "0      2021\n",
       "1      2020\n",
       "2      2021\n",
       "3      2020\n",
       "4      2020\n",
       "       ... \n",
       "213    2021\n",
       "214    2021\n",
       "215    2020\n",
       "216    2020\n",
       "217    2021\n",
       "Name: year, Length: 218, dtype: object"
      ]
     },
     "execution_count": 62,
     "metadata": {},
     "output_type": "execute_result"
    }
   ],
   "source": [
    "uk_after['year']"
   ]
  },
  {
   "cell_type": "code",
   "execution_count": 63,
   "id": "069b4e53",
   "metadata": {},
   "outputs": [
    {
     "data": {
      "text/html": [
       "<div>\n",
       "<style scoped>\n",
       "    .dataframe tbody tr th:only-of-type {\n",
       "        vertical-align: middle;\n",
       "    }\n",
       "\n",
       "    .dataframe tbody tr th {\n",
       "        vertical-align: top;\n",
       "    }\n",
       "\n",
       "    .dataframe thead th {\n",
       "        text-align: right;\n",
       "    }\n",
       "</style>\n",
       "<table border=\"1\" class=\"dataframe\">\n",
       "  <thead>\n",
       "    <tr style=\"text-align: right;\">\n",
       "      <th></th>\n",
       "      <th>date</th>\n",
       "      <th>offers</th>\n",
       "      <th>year</th>\n",
       "    </tr>\n",
       "  </thead>\n",
       "  <tbody>\n",
       "    <tr>\n",
       "      <th>0</th>\n",
       "      <td>2021-01-20</td>\n",
       "      <td>18</td>\n",
       "      <td>2021</td>\n",
       "    </tr>\n",
       "    <tr>\n",
       "      <th>1</th>\n",
       "      <td>2020-12-17</td>\n",
       "      <td>16</td>\n",
       "      <td>2020</td>\n",
       "    </tr>\n",
       "    <tr>\n",
       "      <th>2</th>\n",
       "      <td>2021-01-13</td>\n",
       "      <td>15</td>\n",
       "      <td>2021</td>\n",
       "    </tr>\n",
       "    <tr>\n",
       "      <th>3</th>\n",
       "      <td>2020-12-16</td>\n",
       "      <td>15</td>\n",
       "      <td>2020</td>\n",
       "    </tr>\n",
       "    <tr>\n",
       "      <th>4</th>\n",
       "      <td>2020-12-02</td>\n",
       "      <td>15</td>\n",
       "      <td>2020</td>\n",
       "    </tr>\n",
       "    <tr>\n",
       "      <th>...</th>\n",
       "      <td>...</td>\n",
       "      <td>...</td>\n",
       "      <td>...</td>\n",
       "    </tr>\n",
       "    <tr>\n",
       "      <th>213</th>\n",
       "      <td>2021-05-30</td>\n",
       "      <td>1</td>\n",
       "      <td>2021</td>\n",
       "    </tr>\n",
       "    <tr>\n",
       "      <th>214</th>\n",
       "      <td>2021-06-02</td>\n",
       "      <td>1</td>\n",
       "      <td>2021</td>\n",
       "    </tr>\n",
       "    <tr>\n",
       "      <th>215</th>\n",
       "      <td>2020-09-30</td>\n",
       "      <td>1</td>\n",
       "      <td>2020</td>\n",
       "    </tr>\n",
       "    <tr>\n",
       "      <th>216</th>\n",
       "      <td>2020-12-30</td>\n",
       "      <td>1</td>\n",
       "      <td>2020</td>\n",
       "    </tr>\n",
       "    <tr>\n",
       "      <th>217</th>\n",
       "      <td>2021-01-02</td>\n",
       "      <td>1</td>\n",
       "      <td>2021</td>\n",
       "    </tr>\n",
       "  </tbody>\n",
       "</table>\n",
       "<p>218 rows × 3 columns</p>\n",
       "</div>"
      ],
      "text/plain": [
       "          date  offers  year\n",
       "0   2021-01-20      18  2021\n",
       "1   2020-12-17      16  2020\n",
       "2   2021-01-13      15  2021\n",
       "3   2020-12-16      15  2020\n",
       "4   2020-12-02      15  2020\n",
       "..         ...     ...   ...\n",
       "213 2021-05-30       1  2021\n",
       "214 2021-06-02       1  2021\n",
       "215 2020-09-30       1  2020\n",
       "216 2020-12-30       1  2020\n",
       "217 2021-01-02       1  2021\n",
       "\n",
       "[218 rows x 3 columns]"
      ]
     },
     "execution_count": 63,
     "metadata": {},
     "output_type": "execute_result"
    }
   ],
   "source": [
    "uk_after"
   ]
  },
  {
   "cell_type": "code",
   "execution_count": 64,
   "id": "6825d256",
   "metadata": {},
   "outputs": [],
   "source": [
    "uk_after.to_csv('uk_after_offers_for_calender.csv')"
   ]
  },
  {
   "cell_type": "markdown",
   "id": "093c4dbe",
   "metadata": {},
   "source": [
    "### visualize data of UK"
   ]
  },
  {
   "cell_type": "code",
   "execution_count": 65,
   "id": "c4ecfa92",
   "metadata": {},
   "outputs": [],
   "source": [
    "# import data\n",
    "df = pd.read_csv('uk_after_offers_for_calender.csv',parse_dates=['date'])\n",
    "df.set_index('date', inplace=True)"
   ]
  },
  {
   "cell_type": "code",
   "execution_count": 66,
   "id": "bce62992",
   "metadata": {},
   "outputs": [],
   "source": [
    "df.index = pd.to_datetime(df.index)\n",
    "df = df.sort_index()"
   ]
  },
  {
   "cell_type": "code",
   "execution_count": 67,
   "id": "6a87fca4",
   "metadata": {},
   "outputs": [
    {
     "name": "stderr",
     "output_type": "stream",
     "text": [
      "<ipython-input-67-1e949567b836>:1: FutureWarning: Indexing a DataFrame with a datetimelike index using a single string to slice the rows, like `frame[string]`, is deprecated and will be removed in a future version. Use `frame.loc[string]` instead.\n",
      "  df_sub = df['2020']\n"
     ]
    }
   ],
   "source": [
    "df_sub = df['2020']"
   ]
  },
  {
   "cell_type": "code",
   "execution_count": 68,
   "id": "b2aed6cb",
   "metadata": {
    "scrolled": true
   },
   "outputs": [
    {
     "data": {
      "text/plain": [
       "<matplotlib.colorbar.Colorbar at 0x7f978ba271f0>"
      ]
     },
     "execution_count": 68,
     "metadata": {},
     "output_type": "execute_result"
    },
    {
     "data": {
      "image/png": "[encoded data removed]",
      "text/plain": [
       "<Figure size 1080x720 with 3 Axes>"
      ]
     },
     "metadata": {
      "needs_background": "light"
     },
     "output_type": "display_data"
    }
   ],
   "source": [
    "fig,ax=calmap.calendarplot(df['offers'],\n",
    "                           fig_kws={'figsize': (15,10)}, \n",
    "                           #cmap= 'YlGn',\n",
    "                           #cmap= 'seismic',\n",
    "                           cmap = 'bwr',\n",
    "                           yearlabel_kws={'color':'black', 'fontsize':18}, \n",
    "                           subplot_kws={'title':'2020.9 - 2021.8 : England'},\n",
    "                          #linewidth=0\n",
    "                          )\n",
    "\n",
    "fig.colorbar(ax[0].get_children()[1], ax=ax.ravel().tolist(),orientation='horizontal')"
   ]
  },
  {
   "cell_type": "markdown",
   "id": "06e1efea",
   "metadata": {},
   "source": [
    "### extract data of HK"
   ]
  },
  {
   "cell_type": "code",
   "execution_count": 69,
   "id": "bf09908d",
   "metadata": {},
   "outputs": [
    {
     "name": "stderr",
     "output_type": "stream",
     "text": [
      "/Users/hujiaying/opt/anaconda3/lib/python3.8/site-packages/IPython/core/interactiveshell.py:3165: DtypeWarning: Columns (6) have mixed types.Specify dtype option on import or set low_memory=False.\n",
      "  has_raised = await self.run_ast_nodes(code_ast.body, cell_name,\n"
     ]
    }
   ],
   "source": [
    "import pandas as pd\n",
    "df = pd.read_csv('index_new_time.csv')"
   ]
  },
  {
   "cell_type": "code",
   "execution_count": 71,
   "id": "7fc062be",
   "metadata": {},
   "outputs": [],
   "source": [
    "source = df[\n",
    "    (df['countries'] == '香港')             &  \n",
    "    \n",
    "    (   (   (df['time_year'] == 2020) & \n",
    "            ((df['time_month'] >= 9) & \n",
    "            (df['time_month'] <= 12))   )  |\n",
    "        (   (df['time_year'] == 2021) & \n",
    "            ((df['time_month'] >= 1) & \n",
    "            (df['time_month'] <= 8))    )  )\n",
    "\n",
    "]"
   ]
  },
  {
   "cell_type": "code",
   "execution_count": 72,
   "id": "a8cbadd1",
   "metadata": {},
   "outputs": [
    {
     "name": "stderr",
     "output_type": "stream",
     "text": [
      "<ipython-input-72-642e7f235d29>:2: SettingWithCopyWarning: \n",
      "A value is trying to be set on a copy of a slice from a DataFrame.\n",
      "Try using .loc[row_indexer,col_indexer] = value instead\n",
      "\n",
      "See the caveats in the documentation: https://pandas.pydata.org/pandas-docs/stable/user_guide/indexing.html#returning-a-view-versus-a-copy\n",
      "  source['notice_time']=pd.to_datetime(source['notice_time'],unit='s')\n"
     ]
    },
    {
     "data": {
      "text/plain": [
       "105     2021-08-30 16:00:00\n",
       "106     2021-08-30 16:00:00\n",
       "142     2021-06-06 16:00:00\n",
       "157     2021-04-09 16:00:00\n",
       "160     2021-01-19 16:00:00\n",
       "                ...        \n",
       "33768   2020-11-03 16:00:00\n",
       "33814   2020-10-22 16:00:00\n",
       "33859   2020-10-08 16:00:00\n",
       "33892   2020-09-25 16:00:00\n",
       "33893   2020-09-25 16:00:00\n",
       "Name: notice_time, Length: 961, dtype: datetime64[ns]"
      ]
     },
     "execution_count": 72,
     "metadata": {},
     "output_type": "execute_result"
    }
   ],
   "source": [
    "import time\n",
    "source['notice_time']=pd.to_datetime(source['notice_time'],unit='s')\n",
    "source['notice_time']"
   ]
  },
  {
   "cell_type": "code",
   "execution_count": 73,
   "id": "db5ae27b",
   "metadata": {},
   "outputs": [
    {
     "name": "stderr",
     "output_type": "stream",
     "text": [
      "<ipython-input-73-a5edf7382907>:1: SettingWithCopyWarning: \n",
      "A value is trying to be set on a copy of a slice from a DataFrame.\n",
      "Try using .loc[row_indexer,col_indexer] = value instead\n",
      "\n",
      "See the caveats in the documentation: https://pandas.pydata.org/pandas-docs/stable/user_guide/indexing.html#returning-a-view-versus-a-copy\n",
      "  source['notice_time'] = source['notice_time'].apply(lambda x: x.strftime('%Y-%m-%d'))\n"
     ]
    },
    {
     "data": {
      "text/plain": [
       "105      2021-08-30\n",
       "106      2021-08-30\n",
       "142      2021-06-06\n",
       "157      2021-04-09\n",
       "160      2021-01-19\n",
       "            ...    \n",
       "33768    2020-11-03\n",
       "33814    2020-10-22\n",
       "33859    2020-10-08\n",
       "33892    2020-09-25\n",
       "33893    2020-09-25\n",
       "Name: notice_time, Length: 961, dtype: object"
      ]
     },
     "execution_count": 73,
     "metadata": {},
     "output_type": "execute_result"
    }
   ],
   "source": [
    "source['notice_time'] = source['notice_time'].apply(lambda x: x.strftime('%Y-%m-%d'))\n",
    "source['notice_time']"
   ]
  },
  {
   "cell_type": "code",
   "execution_count": 74,
   "id": "5e1eae25",
   "metadata": {},
   "outputs": [],
   "source": [
    "new = source[(source['countries'] == '香港')\n",
    "      ]['notice_time'].value_counts()   #这里是所有类型的offer通知"
   ]
  },
  {
   "cell_type": "code",
   "execution_count": 75,
   "id": "95066e7b",
   "metadata": {},
   "outputs": [],
   "source": [
    "new = new.to_dict()"
   ]
  },
  {
   "cell_type": "code",
   "execution_count": 76,
   "id": "bfeb0551",
   "metadata": {},
   "outputs": [
    {
     "data": {
      "text/html": [
       "<div>\n",
       "<style scoped>\n",
       "    .dataframe tbody tr th:only-of-type {\n",
       "        vertical-align: middle;\n",
       "    }\n",
       "\n",
       "    .dataframe tbody tr th {\n",
       "        vertical-align: top;\n",
       "    }\n",
       "\n",
       "    .dataframe thead th {\n",
       "        text-align: right;\n",
       "    }\n",
       "</style>\n",
       "<table border=\"1\" class=\"dataframe\">\n",
       "  <thead>\n",
       "    <tr style=\"text-align: right;\">\n",
       "      <th></th>\n",
       "      <th>date</th>\n",
       "      <th>offers</th>\n",
       "    </tr>\n",
       "  </thead>\n",
       "  <tbody>\n",
       "    <tr>\n",
       "      <th>0</th>\n",
       "      <td>2020-11-12</td>\n",
       "      <td>31</td>\n",
       "    </tr>\n",
       "    <tr>\n",
       "      <th>1</th>\n",
       "      <td>2021-03-04</td>\n",
       "      <td>26</td>\n",
       "    </tr>\n",
       "    <tr>\n",
       "      <th>2</th>\n",
       "      <td>2021-01-14</td>\n",
       "      <td>21</td>\n",
       "    </tr>\n",
       "    <tr>\n",
       "      <th>3</th>\n",
       "      <td>2021-01-26</td>\n",
       "      <td>17</td>\n",
       "    </tr>\n",
       "    <tr>\n",
       "      <th>4</th>\n",
       "      <td>2020-12-20</td>\n",
       "      <td>16</td>\n",
       "    </tr>\n",
       "    <tr>\n",
       "      <th>...</th>\n",
       "      <td>...</td>\n",
       "      <td>...</td>\n",
       "    </tr>\n",
       "    <tr>\n",
       "      <th>192</th>\n",
       "      <td>2020-11-16</td>\n",
       "      <td>1</td>\n",
       "    </tr>\n",
       "    <tr>\n",
       "      <th>193</th>\n",
       "      <td>2020-12-19</td>\n",
       "      <td>1</td>\n",
       "    </tr>\n",
       "    <tr>\n",
       "      <th>194</th>\n",
       "      <td>2020-10-22</td>\n",
       "      <td>1</td>\n",
       "    </tr>\n",
       "    <tr>\n",
       "      <th>195</th>\n",
       "      <td>2021-05-13</td>\n",
       "      <td>1</td>\n",
       "    </tr>\n",
       "    <tr>\n",
       "      <th>196</th>\n",
       "      <td>2020-11-14</td>\n",
       "      <td>1</td>\n",
       "    </tr>\n",
       "  </tbody>\n",
       "</table>\n",
       "<p>197 rows × 2 columns</p>\n",
       "</div>"
      ],
      "text/plain": [
       "           date  offers\n",
       "0    2020-11-12      31\n",
       "1    2021-03-04      26\n",
       "2    2021-01-14      21\n",
       "3    2021-01-26      17\n",
       "4    2020-12-20      16\n",
       "..          ...     ...\n",
       "192  2020-11-16       1\n",
       "193  2020-12-19       1\n",
       "194  2020-10-22       1\n",
       "195  2021-05-13       1\n",
       "196  2020-11-14       1\n",
       "\n",
       "[197 rows x 2 columns]"
      ]
     },
     "execution_count": 76,
     "metadata": {},
     "output_type": "execute_result"
    }
   ],
   "source": [
    "hk_after = pd.DataFrame({'date':new.keys(),'offers':new.values()})\n",
    "hk_after"
   ]
  },
  {
   "cell_type": "code",
   "execution_count": 77,
   "id": "fdeada17",
   "metadata": {},
   "outputs": [],
   "source": [
    "hk_after['date'] = pd.to_datetime(hk_after['date'])"
   ]
  },
  {
   "cell_type": "code",
   "execution_count": 78,
   "id": "0e035370",
   "metadata": {},
   "outputs": [],
   "source": [
    "hk_after['year'] = hk_after['date'].apply(lambda x: x.strftime('%Y'))"
   ]
  },
  {
   "cell_type": "code",
   "execution_count": 79,
   "id": "10573a37",
   "metadata": {},
   "outputs": [
    {
     "data": {
      "text/plain": [
       "0      2020\n",
       "1      2021\n",
       "2      2021\n",
       "3      2021\n",
       "4      2020\n",
       "       ... \n",
       "192    2020\n",
       "193    2020\n",
       "194    2020\n",
       "195    2021\n",
       "196    2020\n",
       "Name: year, Length: 197, dtype: object"
      ]
     },
     "execution_count": 79,
     "metadata": {},
     "output_type": "execute_result"
    }
   ],
   "source": [
    "hk_after['year']"
   ]
  },
  {
   "cell_type": "code",
   "execution_count": 80,
   "id": "1042183a",
   "metadata": {},
   "outputs": [
    {
     "data": {
      "text/html": [
       "<div>\n",
       "<style scoped>\n",
       "    .dataframe tbody tr th:only-of-type {\n",
       "        vertical-align: middle;\n",
       "    }\n",
       "\n",
       "    .dataframe tbody tr th {\n",
       "        vertical-align: top;\n",
       "    }\n",
       "\n",
       "    .dataframe thead th {\n",
       "        text-align: right;\n",
       "    }\n",
       "</style>\n",
       "<table border=\"1\" class=\"dataframe\">\n",
       "  <thead>\n",
       "    <tr style=\"text-align: right;\">\n",
       "      <th></th>\n",
       "      <th>date</th>\n",
       "      <th>offers</th>\n",
       "      <th>year</th>\n",
       "    </tr>\n",
       "  </thead>\n",
       "  <tbody>\n",
       "    <tr>\n",
       "      <th>0</th>\n",
       "      <td>2020-11-12</td>\n",
       "      <td>31</td>\n",
       "      <td>2020</td>\n",
       "    </tr>\n",
       "    <tr>\n",
       "      <th>1</th>\n",
       "      <td>2021-03-04</td>\n",
       "      <td>26</td>\n",
       "      <td>2021</td>\n",
       "    </tr>\n",
       "    <tr>\n",
       "      <th>2</th>\n",
       "      <td>2021-01-14</td>\n",
       "      <td>21</td>\n",
       "      <td>2021</td>\n",
       "    </tr>\n",
       "    <tr>\n",
       "      <th>3</th>\n",
       "      <td>2021-01-26</td>\n",
       "      <td>17</td>\n",
       "      <td>2021</td>\n",
       "    </tr>\n",
       "    <tr>\n",
       "      <th>4</th>\n",
       "      <td>2020-12-20</td>\n",
       "      <td>16</td>\n",
       "      <td>2020</td>\n",
       "    </tr>\n",
       "    <tr>\n",
       "      <th>...</th>\n",
       "      <td>...</td>\n",
       "      <td>...</td>\n",
       "      <td>...</td>\n",
       "    </tr>\n",
       "    <tr>\n",
       "      <th>192</th>\n",
       "      <td>2020-11-16</td>\n",
       "      <td>1</td>\n",
       "      <td>2020</td>\n",
       "    </tr>\n",
       "    <tr>\n",
       "      <th>193</th>\n",
       "      <td>2020-12-19</td>\n",
       "      <td>1</td>\n",
       "      <td>2020</td>\n",
       "    </tr>\n",
       "    <tr>\n",
       "      <th>194</th>\n",
       "      <td>2020-10-22</td>\n",
       "      <td>1</td>\n",
       "      <td>2020</td>\n",
       "    </tr>\n",
       "    <tr>\n",
       "      <th>195</th>\n",
       "      <td>2021-05-13</td>\n",
       "      <td>1</td>\n",
       "      <td>2021</td>\n",
       "    </tr>\n",
       "    <tr>\n",
       "      <th>196</th>\n",
       "      <td>2020-11-14</td>\n",
       "      <td>1</td>\n",
       "      <td>2020</td>\n",
       "    </tr>\n",
       "  </tbody>\n",
       "</table>\n",
       "<p>197 rows × 3 columns</p>\n",
       "</div>"
      ],
      "text/plain": [
       "          date  offers  year\n",
       "0   2020-11-12      31  2020\n",
       "1   2021-03-04      26  2021\n",
       "2   2021-01-14      21  2021\n",
       "3   2021-01-26      17  2021\n",
       "4   2020-12-20      16  2020\n",
       "..         ...     ...   ...\n",
       "192 2020-11-16       1  2020\n",
       "193 2020-12-19       1  2020\n",
       "194 2020-10-22       1  2020\n",
       "195 2021-05-13       1  2021\n",
       "196 2020-11-14       1  2020\n",
       "\n",
       "[197 rows x 3 columns]"
      ]
     },
     "execution_count": 80,
     "metadata": {},
     "output_type": "execute_result"
    }
   ],
   "source": [
    "hk_after"
   ]
  },
  {
   "cell_type": "code",
   "execution_count": 81,
   "id": "e7dcfc12",
   "metadata": {},
   "outputs": [],
   "source": [
    "hk_after.to_csv('hk_after_offers_for_calender.csv')"
   ]
  },
  {
   "cell_type": "markdown",
   "id": "cfb414b1",
   "metadata": {},
   "source": [
    "### visualize data of HK"
   ]
  },
  {
   "cell_type": "code",
   "execution_count": 82,
   "id": "bc8a30c8",
   "metadata": {},
   "outputs": [],
   "source": [
    "# import data\n",
    "df = pd.read_csv('hk_after_offers_for_calender.csv',parse_dates=['date'])\n",
    "df.set_index('date', inplace=True)"
   ]
  },
  {
   "cell_type": "code",
   "execution_count": 83,
   "id": "951ad68b",
   "metadata": {},
   "outputs": [],
   "source": [
    "df.index = pd.to_datetime(df.index)\n",
    "df = df.sort_index()"
   ]
  },
  {
   "cell_type": "code",
   "execution_count": 84,
   "id": "68563d02",
   "metadata": {},
   "outputs": [
    {
     "name": "stderr",
     "output_type": "stream",
     "text": [
      "<ipython-input-84-1e949567b836>:1: FutureWarning: Indexing a DataFrame with a datetimelike index using a single string to slice the rows, like `frame[string]`, is deprecated and will be removed in a future version. Use `frame.loc[string]` instead.\n",
      "  df_sub = df['2020']\n"
     ]
    }
   ],
   "source": [
    "df_sub = df['2020']"
   ]
  },
  {
   "cell_type": "code",
   "execution_count": 85,
   "id": "4e6b46e1",
   "metadata": {
    "scrolled": true
   },
   "outputs": [
    {
     "data": {
      "text/plain": [
       "<matplotlib.colorbar.Colorbar at 0x7f978b141310>"
      ]
     },
     "execution_count": 85,
     "metadata": {},
     "output_type": "execute_result"
    },
    {
     "data": {
      "image/png": "[encoded data removed]",
      "text/plain": [
       "<Figure size 1080x720 with 3 Axes>"
      ]
     },
     "metadata": {
      "needs_background": "light"
     },
     "output_type": "display_data"
    }
   ],
   "source": [
    "fig,ax=calmap.calendarplot(df['offers'],\n",
    "                           fig_kws={'figsize': (15,10)}, \n",
    "                           #cmap= 'YlGn',\n",
    "                           #cmap= 'seismic',\n",
    "                           cmap = 'bwr',\n",
    "                           yearlabel_kws={'color':'black', 'fontsize':18}, \n",
    "                           subplot_kws={'title':'2020.9 - 2021.8 : Hong Kong'},\n",
    "                          #linewidth=0\n",
    "                          )\n",
    "\n",
    "fig.colorbar(ax[0].get_children()[1], ax=ax.ravel().tolist(),orientation='horizontal')"
   ]
  },
  {
   "cell_type": "markdown",
   "id": "53062806",
   "metadata": {},
   "source": [
    "## (3) Word Cloud: Words of Cloud of Major Applied by Applicants\n",
    "- IV: major\n",
    "- DV: Number of major"
   ]
  },
  {
   "cell_type": "code",
   "execution_count": 87,
   "id": "9f902bfa",
   "metadata": {},
   "outputs": [],
   "source": [
    "import pandas as pd"
   ]
  },
  {
   "cell_type": "code",
   "execution_count": 88,
   "id": "0e7b3f03",
   "metadata": {},
   "outputs": [
    {
     "name": "stderr",
     "output_type": "stream",
     "text": [
      "/Users/hujiaying/opt/anaconda3/lib/python3.8/site-packages/IPython/core/interactiveshell.py:3165: DtypeWarning: Columns (6) have mixed types.Specify dtype option on import or set low_memory=False.\n",
      "  has_raised = await self.run_ast_nodes(code_ast.body, cell_name,\n"
     ]
    }
   ],
   "source": [
    "df = pd.read_csv('index_new_time.csv')"
   ]
  },
  {
   "cell_type": "markdown",
   "id": "2007aa76",
   "metadata": {},
   "source": [
    "### extract the professional text"
   ]
  },
  {
   "cell_type": "code",
   "execution_count": 89,
   "id": "df8c2fc2",
   "metadata": {},
   "outputs": [],
   "source": [
    "pf = df[\n",
    "    (   df['time_year'] == 2020) & \n",
    "        ((df['time_month'] >= 9) & \n",
    "        (df['time_month'] <= 12)    )     |\n",
    "    (   df['time_year'] == 2021) & \n",
    "        ((df['time_month'] >= 1) & \n",
    "        (df['time_month'] <= 8)    )     \n",
    "\n",
    "]"
   ]
  },
  {
   "cell_type": "code",
   "execution_count": 90,
   "id": "894ee30b",
   "metadata": {
    "scrolled": true
   },
   "outputs": [
    {
     "data": {
      "text/html": [
       "<div>\n",
       "<style scoped>\n",
       "    .dataframe tbody tr th:only-of-type {\n",
       "        vertical-align: middle;\n",
       "    }\n",
       "\n",
       "    .dataframe tbody tr th {\n",
       "        vertical-align: top;\n",
       "    }\n",
       "\n",
       "    .dataframe thead th {\n",
       "        text-align: right;\n",
       "    }\n",
       "</style>\n",
       "<table border=\"1\" class=\"dataframe\">\n",
       "  <thead>\n",
       "    <tr style=\"text-align: right;\">\n",
       "      <th></th>\n",
       "      <th>Unnamed: 0</th>\n",
       "      <th>Unnamed: 0.1</th>\n",
       "      <th>case</th>\n",
       "      <th>Unnamed: 0.1.1</th>\n",
       "      <th>Unnamed: 0.1.1.1</th>\n",
       "      <th>id</th>\n",
       "      <th>uniqid</th>\n",
       "      <th>schoolname</th>\n",
       "      <th>professional</th>\n",
       "      <th>countries</th>\n",
       "      <th>...</th>\n",
       "      <th>gre</th>\n",
       "      <th>ielts</th>\n",
       "      <th>ptea</th>\n",
       "      <th>sub</th>\n",
       "      <th>gmat</th>\n",
       "      <th>undergraduate_subject</th>\n",
       "      <th>undergraduate_sid</th>\n",
       "      <th>undergraduate_gpa</th>\n",
       "      <th>graduate_subject</th>\n",
       "      <th>case.1</th>\n",
       "    </tr>\n",
       "  </thead>\n",
       "  <tbody>\n",
       "    <tr>\n",
       "      <th>4</th>\n",
       "      <td>4</td>\n",
       "      <td>4</td>\n",
       "      <td>4</td>\n",
       "      <td>4</td>\n",
       "      <td>4</td>\n",
       "      <td>120429</td>\n",
       "      <td>vnz00uD4uCCC</td>\n",
       "      <td>Eidgenossische Technische Hochschule Zürich</td>\n",
       "      <td>Mechanical and Process Engineering</td>\n",
       "      <td>瑞士</td>\n",
       "      <td>...</td>\n",
       "      <td>{'v': '163', 'q': '170', 'aw': '4.0', 'z': '333'}</td>\n",
       "      <td>{'r': '', 'l': '', 's': '', 'w': '', 'z': ''}</td>\n",
       "      <td>{'r': '', 'l': '', 's': '', 'w': '', 'z': ''}</td>\n",
       "      <td>{'zy': '0', 'z': ''}</td>\n",
       "      <td>{'q': '', 'v': '', 'z': ''}</td>\n",
       "      <td>New Energy Science and Engineering</td>\n",
       "      <td>211</td>\n",
       "      <td>87/100</td>\n",
       "      <td>Energy Science and Technology</td>\n",
       "      <td>4</td>\n",
       "    </tr>\n",
       "    <tr>\n",
       "      <th>30</th>\n",
       "      <td>30</td>\n",
       "      <td>30</td>\n",
       "      <td>30</td>\n",
       "      <td>32</td>\n",
       "      <td>32</td>\n",
       "      <td>120400</td>\n",
       "      <td>KjufufauzPH9</td>\n",
       "      <td>University of Edinburgh</td>\n",
       "      <td>Law</td>\n",
       "      <td>英国</td>\n",
       "      <td>...</td>\n",
       "      <td>{'v': '', 'q': '', 'aw': '', 'z': ''}</td>\n",
       "      <td>{'r': '', 'l': '', 's': '', 'w': '', 'z': ''}</td>\n",
       "      <td>{'r': '', 'l': '', 's': '', 'w': '', 'z': ''}</td>\n",
       "      <td>{'zy': '0', 'z': ''}</td>\n",
       "      <td>{'q': '', 'v': '', 'z': ''}</td>\n",
       "      <td>NaN</td>\n",
       "      <td>NaN</td>\n",
       "      <td>NaN</td>\n",
       "      <td>NaN</td>\n",
       "      <td>30</td>\n",
       "    </tr>\n",
       "    <tr>\n",
       "      <th>36</th>\n",
       "      <td>36</td>\n",
       "      <td>36</td>\n",
       "      <td>36</td>\n",
       "      <td>39</td>\n",
       "      <td>39</td>\n",
       "      <td>120391</td>\n",
       "      <td>KfCzfWbu90yr</td>\n",
       "      <td>Simon Fraser University</td>\n",
       "      <td>TLGC</td>\n",
       "      <td>加拿大</td>\n",
       "      <td>...</td>\n",
       "      <td>{'v': '', 'q': '', 'aw': '', 'z': ''}</td>\n",
       "      <td>{'r': '8.5', 'l': '8', 's': '6.5', 'w': '6.5',...</td>\n",
       "      <td>{'r': '73', 'l': '77', 's': '89', 'w': '73', '...</td>\n",
       "      <td>{'zy': '0', 'z': ''}</td>\n",
       "      <td>{'q': '', 'v': '', 'z': ''}</td>\n",
       "      <td>会计</td>\n",
       "      <td>211</td>\n",
       "      <td>83</td>\n",
       "      <td>NaN</td>\n",
       "      <td>36</td>\n",
       "    </tr>\n",
       "    <tr>\n",
       "      <th>47</th>\n",
       "      <td>47</td>\n",
       "      <td>47</td>\n",
       "      <td>47</td>\n",
       "      <td>51</td>\n",
       "      <td>51</td>\n",
       "      <td>120379</td>\n",
       "      <td>zPnTzf1mLzfO</td>\n",
       "      <td>The University of New South Wales</td>\n",
       "      <td>Information Technology</td>\n",
       "      <td>澳大利亚</td>\n",
       "      <td>...</td>\n",
       "      <td>{'v': '', 'q': '', 'aw': '', 'z': ''}</td>\n",
       "      <td>{'r': '', 'l': '', 's': '', 'w': '', 'z': ''}</td>\n",
       "      <td>{'r': '66', 'l': '66', 's': '72', 'w': '68', '...</td>\n",
       "      <td>{'zy': '0', 'z': ''}</td>\n",
       "      <td>{'q': '', 'v': '', 'z': ''}</td>\n",
       "      <td>信息安全</td>\n",
       "      <td>211</td>\n",
       "      <td>2.7/4.0</td>\n",
       "      <td>NaN</td>\n",
       "      <td>47</td>\n",
       "    </tr>\n",
       "    <tr>\n",
       "      <th>48</th>\n",
       "      <td>48</td>\n",
       "      <td>48</td>\n",
       "      <td>48</td>\n",
       "      <td>52</td>\n",
       "      <td>52</td>\n",
       "      <td>120378</td>\n",
       "      <td>LrbzjmiOn48i</td>\n",
       "      <td>The University of Sydney</td>\n",
       "      <td>Information Technology</td>\n",
       "      <td>澳大利亚</td>\n",
       "      <td>...</td>\n",
       "      <td>{'v': '', 'q': '', 'aw': '', 'z': ''}</td>\n",
       "      <td>{'r': '', 'l': '', 's': '', 'w': '', 'z': ''}</td>\n",
       "      <td>{'r': '66', 'l': '66', 's': '72', 'w': '68', '...</td>\n",
       "      <td>{'zy': '0', 'z': ''}</td>\n",
       "      <td>{'q': '', 'v': '', 'z': ''}</td>\n",
       "      <td>信息安全</td>\n",
       "      <td>211</td>\n",
       "      <td>2.7/4.0</td>\n",
       "      <td>NaN</td>\n",
       "      <td>48</td>\n",
       "    </tr>\n",
       "    <tr>\n",
       "      <th>...</th>\n",
       "      <td>...</td>\n",
       "      <td>...</td>\n",
       "      <td>...</td>\n",
       "      <td>...</td>\n",
       "      <td>...</td>\n",
       "      <td>...</td>\n",
       "      <td>...</td>\n",
       "      <td>...</td>\n",
       "      <td>...</td>\n",
       "      <td>...</td>\n",
       "      <td>...</td>\n",
       "      <td>...</td>\n",
       "      <td>...</td>\n",
       "      <td>...</td>\n",
       "      <td>...</td>\n",
       "      <td>...</td>\n",
       "      <td>...</td>\n",
       "      <td>...</td>\n",
       "      <td>...</td>\n",
       "      <td>...</td>\n",
       "      <td>...</td>\n",
       "    </tr>\n",
       "    <tr>\n",
       "      <th>33987</th>\n",
       "      <td>33987</td>\n",
       "      <td>33987</td>\n",
       "      <td>33987</td>\n",
       "      <td>54393</td>\n",
       "      <td>5345</td>\n",
       "      <td>111445</td>\n",
       "      <td>rH1nPry9aT5q</td>\n",
       "      <td>The University of Manchester</td>\n",
       "      <td>communication engineering</td>\n",
       "      <td>英国</td>\n",
       "      <td>...</td>\n",
       "      <td>{'v': '', 'q': '', 'aw': '', 'z': ''}</td>\n",
       "      <td>{'r': '7.5', 'l': '7.5', 's': '5.5', 'w': '5.5...</td>\n",
       "      <td>{'r': '', 'l': '', 's': '', 'w': '', 'z': ''}</td>\n",
       "      <td>{'zy': '0', 'z': ''}</td>\n",
       "      <td>{'q': '', 'v': '', 'z': ''}</td>\n",
       "      <td>通信工程</td>\n",
       "      <td>NaN</td>\n",
       "      <td>78.89</td>\n",
       "      <td>NaN</td>\n",
       "      <td>33987</td>\n",
       "    </tr>\n",
       "    <tr>\n",
       "      <th>34150</th>\n",
       "      <td>34150</td>\n",
       "      <td>34150</td>\n",
       "      <td>34150</td>\n",
       "      <td>54713</td>\n",
       "      <td>5665</td>\n",
       "      <td>111250</td>\n",
       "      <td>OTnXSLXS5mnf</td>\n",
       "      <td>University of Wisconsin 威斯康星大学</td>\n",
       "      <td>Economics and Econometrics 经济学和计量经济学</td>\n",
       "      <td>美国</td>\n",
       "      <td>...</td>\n",
       "      <td>{'z': '', 'v': '154', 'q': '', 'aw': '3.5'}</td>\n",
       "      <td>{'z': '', 'l': '', 'r': '', 's': '', 'w': ''}</td>\n",
       "      <td>{'r': '', 'l': '', 's': '', 'w': '', 'z': ''}</td>\n",
       "      <td>{'zy': '0', 'z': ''}</td>\n",
       "      <td>{'z': '', 'q': '', 'v': ''}</td>\n",
       "      <td>经济与金融</td>\n",
       "      <td>NaN</td>\n",
       "      <td>3.3</td>\n",
       "      <td>NaN</td>\n",
       "      <td>34150</td>\n",
       "    </tr>\n",
       "    <tr>\n",
       "      <th>34708</th>\n",
       "      <td>34708</td>\n",
       "      <td>34708</td>\n",
       "      <td>34708</td>\n",
       "      <td>55793</td>\n",
       "      <td>6745</td>\n",
       "      <td>110597</td>\n",
       "      <td>mjaGP5nzHn5u</td>\n",
       "      <td>The University of Warwick</td>\n",
       "      <td>Computer Science</td>\n",
       "      <td>英国</td>\n",
       "      <td>...</td>\n",
       "      <td>{'v': '', 'q': '', 'aw': '', 'z': ''}</td>\n",
       "      <td>{'r': '7', 'l': '7', 's': '6', 'w': '6.5', 'z'...</td>\n",
       "      <td>{'r': '', 'l': '', 's': '', 'w': '', 'z': ''}</td>\n",
       "      <td>{'zy': '0', 'z': ''}</td>\n",
       "      <td>{'q': '', 'v': '', 'z': ''}</td>\n",
       "      <td>网络工程</td>\n",
       "      <td>NaN</td>\n",
       "      <td>3.19/4</td>\n",
       "      <td>NaN</td>\n",
       "      <td>34708</td>\n",
       "    </tr>\n",
       "    <tr>\n",
       "      <th>35152</th>\n",
       "      <td>35152</td>\n",
       "      <td>35152</td>\n",
       "      <td>35152</td>\n",
       "      <td>56660</td>\n",
       "      <td>7612</td>\n",
       "      <td>110070</td>\n",
       "      <td>4ia4OTGTfiiy</td>\n",
       "      <td>Sciences Po</td>\n",
       "      <td>International Management and Sustainability</td>\n",
       "      <td>法国</td>\n",
       "      <td>...</td>\n",
       "      <td>{'v': '', 'q': '', 'aw': '', 'z': ''}</td>\n",
       "      <td>{'r': '8. 5', 'l': '7', 's': '6. 5', 'w': '6. ...</td>\n",
       "      <td>NaN</td>\n",
       "      <td>{'zy': '0', 'z': ''}</td>\n",
       "      <td>{'q': '', 'v': '', 'z': ''}</td>\n",
       "      <td>工商管理</td>\n",
       "      <td>NaN</td>\n",
       "      <td>GPA 3.8/5.0 (Top 5 in 105)</td>\n",
       "      <td>NaN</td>\n",
       "      <td>35152</td>\n",
       "    </tr>\n",
       "    <tr>\n",
       "      <th>35674</th>\n",
       "      <td>35674</td>\n",
       "      <td>35674</td>\n",
       "      <td>35674</td>\n",
       "      <td>57688</td>\n",
       "      <td>8640</td>\n",
       "      <td>109479</td>\n",
       "      <td>TH9KLvX885Or</td>\n",
       "      <td>University of Edinburgh</td>\n",
       "      <td>signal processing and communication</td>\n",
       "      <td>英国</td>\n",
       "      <td>...</td>\n",
       "      <td>{'v': '', 'q': '', 'aw': '', 'z': ''}</td>\n",
       "      <td>{'r': '', 'l': '', 's': '', 'w': '', 'z': ''}</td>\n",
       "      <td>NaN</td>\n",
       "      <td>{'zy': '0', 'z': ''}</td>\n",
       "      <td>{'q': '', 'v': '', 'z': ''}</td>\n",
       "      <td>EE</td>\n",
       "      <td>NaN</td>\n",
       "      <td>3.5</td>\n",
       "      <td>NaN</td>\n",
       "      <td>35674</td>\n",
       "    </tr>\n",
       "  </tbody>\n",
       "</table>\n",
       "<p>7198 rows × 41 columns</p>\n",
       "</div>"
      ],
      "text/plain": [
       "       Unnamed: 0  Unnamed: 0.1   case  Unnamed: 0.1.1  Unnamed: 0.1.1.1  \\\n",
       "4               4             4      4               4                 4   \n",
       "30             30            30     30              32                32   \n",
       "36             36            36     36              39                39   \n",
       "47             47            47     47              51                51   \n",
       "48             48            48     48              52                52   \n",
       "...           ...           ...    ...             ...               ...   \n",
       "33987       33987         33987  33987           54393              5345   \n",
       "34150       34150         34150  34150           54713              5665   \n",
       "34708       34708         34708  34708           55793              6745   \n",
       "35152       35152         35152  35152           56660              7612   \n",
       "35674       35674         35674  35674           57688              8640   \n",
       "\n",
       "           id        uniqid                                   schoolname  \\\n",
       "4      120429  vnz00uD4uCCC  Eidgenossische Technische Hochschule Zürich   \n",
       "30     120400  KjufufauzPH9                      University of Edinburgh   \n",
       "36     120391  KfCzfWbu90yr                      Simon Fraser University   \n",
       "47     120379  zPnTzf1mLzfO            The University of New South Wales   \n",
       "48     120378  LrbzjmiOn48i                     The University of Sydney   \n",
       "...       ...           ...                                          ...   \n",
       "33987  111445  rH1nPry9aT5q                 The University of Manchester   \n",
       "34150  111250  OTnXSLXS5mnf               University of Wisconsin 威斯康星大学   \n",
       "34708  110597  mjaGP5nzHn5u                    The University of Warwick   \n",
       "35152  110070  4ia4OTGTfiiy                                  Sciences Po   \n",
       "35674  109479  TH9KLvX885Or                      University of Edinburgh   \n",
       "\n",
       "                                      professional countries  ...  \\\n",
       "4               Mechanical and Process Engineering        瑞士  ...   \n",
       "30                                             Law        英国  ...   \n",
       "36                                            TLGC       加拿大  ...   \n",
       "47                          Information Technology      澳大利亚  ...   \n",
       "48                          Information Technology      澳大利亚  ...   \n",
       "...                                            ...       ...  ...   \n",
       "33987                    communication engineering        英国  ...   \n",
       "34150         Economics and Econometrics 经济学和计量经济学        美国  ...   \n",
       "34708                             Computer Science        英国  ...   \n",
       "35152  International Management and Sustainability        法国  ...   \n",
       "35674          signal processing and communication        英国  ...   \n",
       "\n",
       "                                                     gre  \\\n",
       "4      {'v': '163', 'q': '170', 'aw': '4.0', 'z': '333'}   \n",
       "30                 {'v': '', 'q': '', 'aw': '', 'z': ''}   \n",
       "36                 {'v': '', 'q': '', 'aw': '', 'z': ''}   \n",
       "47                 {'v': '', 'q': '', 'aw': '', 'z': ''}   \n",
       "48                 {'v': '', 'q': '', 'aw': '', 'z': ''}   \n",
       "...                                                  ...   \n",
       "33987              {'v': '', 'q': '', 'aw': '', 'z': ''}   \n",
       "34150        {'z': '', 'v': '154', 'q': '', 'aw': '3.5'}   \n",
       "34708              {'v': '', 'q': '', 'aw': '', 'z': ''}   \n",
       "35152              {'v': '', 'q': '', 'aw': '', 'z': ''}   \n",
       "35674              {'v': '', 'q': '', 'aw': '', 'z': ''}   \n",
       "\n",
       "                                                   ielts  \\\n",
       "4          {'r': '', 'l': '', 's': '', 'w': '', 'z': ''}   \n",
       "30         {'r': '', 'l': '', 's': '', 'w': '', 'z': ''}   \n",
       "36     {'r': '8.5', 'l': '8', 's': '6.5', 'w': '6.5',...   \n",
       "47         {'r': '', 'l': '', 's': '', 'w': '', 'z': ''}   \n",
       "48         {'r': '', 'l': '', 's': '', 'w': '', 'z': ''}   \n",
       "...                                                  ...   \n",
       "33987  {'r': '7.5', 'l': '7.5', 's': '5.5', 'w': '5.5...   \n",
       "34150      {'z': '', 'l': '', 'r': '', 's': '', 'w': ''}   \n",
       "34708  {'r': '7', 'l': '7', 's': '6', 'w': '6.5', 'z'...   \n",
       "35152  {'r': '8. 5', 'l': '7', 's': '6. 5', 'w': '6. ...   \n",
       "35674      {'r': '', 'l': '', 's': '', 'w': '', 'z': ''}   \n",
       "\n",
       "                                                    ptea  \\\n",
       "4          {'r': '', 'l': '', 's': '', 'w': '', 'z': ''}   \n",
       "30         {'r': '', 'l': '', 's': '', 'w': '', 'z': ''}   \n",
       "36     {'r': '73', 'l': '77', 's': '89', 'w': '73', '...   \n",
       "47     {'r': '66', 'l': '66', 's': '72', 'w': '68', '...   \n",
       "48     {'r': '66', 'l': '66', 's': '72', 'w': '68', '...   \n",
       "...                                                  ...   \n",
       "33987      {'r': '', 'l': '', 's': '', 'w': '', 'z': ''}   \n",
       "34150      {'r': '', 'l': '', 's': '', 'w': '', 'z': ''}   \n",
       "34708      {'r': '', 'l': '', 's': '', 'w': '', 'z': ''}   \n",
       "35152                                                NaN   \n",
       "35674                                                NaN   \n",
       "\n",
       "                        sub                         gmat  \\\n",
       "4      {'zy': '0', 'z': ''}  {'q': '', 'v': '', 'z': ''}   \n",
       "30     {'zy': '0', 'z': ''}  {'q': '', 'v': '', 'z': ''}   \n",
       "36     {'zy': '0', 'z': ''}  {'q': '', 'v': '', 'z': ''}   \n",
       "47     {'zy': '0', 'z': ''}  {'q': '', 'v': '', 'z': ''}   \n",
       "48     {'zy': '0', 'z': ''}  {'q': '', 'v': '', 'z': ''}   \n",
       "...                     ...                          ...   \n",
       "33987  {'zy': '0', 'z': ''}  {'q': '', 'v': '', 'z': ''}   \n",
       "34150  {'zy': '0', 'z': ''}  {'z': '', 'q': '', 'v': ''}   \n",
       "34708  {'zy': '0', 'z': ''}  {'q': '', 'v': '', 'z': ''}   \n",
       "35152  {'zy': '0', 'z': ''}  {'q': '', 'v': '', 'z': ''}   \n",
       "35674  {'zy': '0', 'z': ''}  {'q': '', 'v': '', 'z': ''}   \n",
       "\n",
       "                    undergraduate_subject undergraduate_sid  \\\n",
       "4      New Energy Science and Engineering               211   \n",
       "30                                    NaN               NaN   \n",
       "36                                     会计               211   \n",
       "47                                   信息安全               211   \n",
       "48                                   信息安全               211   \n",
       "...                                   ...               ...   \n",
       "33987                                通信工程               NaN   \n",
       "34150                               经济与金融               NaN   \n",
       "34708                                网络工程               NaN   \n",
       "35152                                工商管理               NaN   \n",
       "35674                                  EE               NaN   \n",
       "\n",
       "                undergraduate_gpa               graduate_subject  case.1  \n",
       "4                          87/100  Energy Science and Technology       4  \n",
       "30                            NaN                            NaN      30  \n",
       "36                             83                            NaN      36  \n",
       "47                        2.7/4.0                            NaN      47  \n",
       "48                        2.7/4.0                            NaN      48  \n",
       "...                           ...                            ...     ...  \n",
       "33987                       78.89                            NaN   33987  \n",
       "34150                         3.3                            NaN   34150  \n",
       "34708                      3.19/4                            NaN   34708  \n",
       "35152  GPA 3.8/5.0 (Top 5 in 105)                            NaN   35152  \n",
       "35674                         3.5                            NaN   35674  \n",
       "\n",
       "[7198 rows x 41 columns]"
      ]
     },
     "execution_count": 90,
     "metadata": {},
     "output_type": "execute_result"
    }
   ],
   "source": [
    "pf"
   ]
  },
  {
   "cell_type": "code",
   "execution_count": 91,
   "id": "8f33f810",
   "metadata": {},
   "outputs": [],
   "source": [
    "pf = pf['professional'].to_list()"
   ]
  },
  {
   "cell_type": "code",
   "execution_count": 92,
   "id": "396edb43",
   "metadata": {},
   "outputs": [
    {
     "data": {
      "text/plain": [
       "['Mechanical and Process Engineering',\n",
       " 'Law',\n",
       " 'TLGC',\n",
       " 'Information Technology',\n",
       " 'Information Technology',\n",
       " 'Computer Science',\n",
       " 'Computer Science',\n",
       " 'industrial design',\n",
       " 'Autonomous Systems Engineering',\n",
       " 'mpp',\n",
       " 'Materials Engineering',\n",
       " 'Materials Engineering',\n",
       " 'Materials Engineering',\n",
       " 'Materials Engineering',\n",
       " 'Materials Engineering',\n",
       " 'Civil Engineering',\n",
       " 'Transport',\n",
       " 'Data Science',\n",
       " 'Statistics',\n",
       " 'Graphic Design',\n",
       " 'Design',\n",
       " 'Graphic Communication',\n",
       " 'Design and Visual Communications',\n",
       " 'Graphic Design',\n",
       " 'Graphic Design',\n",
       " 'Communication Design',\n",
       " 'Graphic Design',\n",
       " 'Visual Communication Design',\n",
       " 'Fashion and Luxury',\n",
       " 'Fashion Business',\n",
       " 'Master of Professional Studies degree in Fashion Management',\n",
       " 'Integrated Marketing-brand management',\n",
       " 'Furniture Design',\n",
       " 'Material Future',\n",
       " 'Design Product',\n",
       " 'Industrial and Product Design',\n",
       " 'Furniture Design',\n",
       " 'Furniture Design',\n",
       " 'Furniture Design',\n",
       " 'Cyber Security',\n",
       " '中国环保研究',\n",
       " 'Computer Science',\n",
       " 'Computer Science',\n",
       " 'align computer science',\n",
       " 'Computer Science',\n",
       " 'Computer Science',\n",
       " 'Computer Science',\n",
       " 'Computer Science',\n",
       " 'Computer Science',\n",
       " 'Computer Science',\n",
       " 'Computer Science',\n",
       " 'Computer Science',\n",
       " 'Computer Science',\n",
       " 'Computer Science',\n",
       " 'Computer Science',\n",
       " 'big data technology',\n",
       " 'data science',\n",
       " 'health data science',\n",
       " 'data science and analyticss',\n",
       " 'Human computer Interaction',\n",
       " 'design for Interaction',\n",
       " 'MFE',\n",
       " 'Environmental data science and machine learning',\n",
       " 'Computer Science',\n",
       " 'Statistics',\n",
       " 'Agricultural Economics',\n",
       " 'Agricultural Economics',\n",
       " 'Economics and Econometrics',\n",
       " 'Economics and Econometrics',\n",
       " 'ECE',\n",
       " '肿瘤学',\n",
       " 'Economics',\n",
       " 'Management and Technology',\n",
       " 'cyber security',\n",
       " 'School of Law',\n",
       " 'Faculty of Law',\n",
       " 'Faculty of Law',\n",
       " 'digital humanities',\n",
       " 'Operations Management',\n",
       " 'Civil Engineering',\n",
       " 'Civil Engineering',\n",
       " 'Civil Engineering',\n",
       " 'Civil Engineering',\n",
       " 'Civil Engineering',\n",
       " 'Civil Engineering',\n",
       " 'Civil Engineering',\n",
       " 'Civil Engineering',\n",
       " 'Civil Engineering',\n",
       " 'Civil Engineering',\n",
       " 'Civil Engineering',\n",
       " 'Civil Engineering',\n",
       " 'Civil Engineering',\n",
       " 'Civil Engineering',\n",
       " 'Data Science and Artificial Intelligence',\n",
       " 'Technology of Biogenic Resources',\n",
       " 'Material Science and Engineering',\n",
       " 'Industrial Biotechnology',\n",
       " 'Polymer Science',\n",
       " 'Industrial Chemistry',\n",
       " 'Bioengineering and Biomedical Engineering',\n",
       " 'Materials Science',\n",
       " 'Sustainble Materials',\n",
       " 'Advanced Materials and Process(map)',\n",
       " 'Material Science and Simulation',\n",
       " 'Master of Applied Data Science',\n",
       " 'Performing Arts Management',\n",
       " 'Computer Science',\n",
       " 'DEPARTMENT OF MECHANICAL ENGINEERING',\n",
       " 'Biomedical Engineering',\n",
       " 'Electrical and Computer Engineering',\n",
       " 'Life Sciences Engineering',\n",
       " 'Resilience Engineering',\n",
       " 'energy management',\n",
       " 'MEL in HPB',\n",
       " 'Electrical Engineering for Communications &amp; Information Processing',\n",
       " 'Multilingual Communication',\n",
       " 'International Business Economics and Management',\n",
       " 'Computer Science',\n",
       " 'CS',\n",
       " 'Master of Applied Data Science (MADS)',\n",
       " 'Computer Science',\n",
       " 'Computer Science',\n",
       " 'Computer Science',\n",
       " 'Computer Science',\n",
       " 'Computer Science',\n",
       " 'Computer Science',\n",
       " 'Computer Science',\n",
       " 'Computer Science',\n",
       " 'Data Science',\n",
       " 'MIMI',\n",
       " 'Law',\n",
       " 'Law',\n",
       " 'Law',\n",
       " 'Law',\n",
       " 'Law',\n",
       " 'Law',\n",
       " 'Data Science',\n",
       " 'Telecommunication and Information Security',\n",
       " 'Master of System Engineering',\n",
       " 'ECE (Software Engineering)',\n",
       " 'Master of Appiled Computing',\n",
       " 'Master of Information Security Technology',\n",
       " 'ECE (Software Engineering)',\n",
       " 'MS-Cybersecurity',\n",
       " 'Law',\n",
       " 'Law',\n",
       " 'Law',\n",
       " 'Law',\n",
       " 'Electrical and Electronics Engineering',\n",
       " 'Applied Data Science',\n",
       " 'Chemical Engineering',\n",
       " 'Law 法律',\n",
       " 'Computer Science',\n",
       " 'Computer Science',\n",
       " 'Computer Science',\n",
       " 'CS second degree',\n",
       " 'BCS',\n",
       " 'MIM',\n",
       " 'AI and Digital Media 人工智能与数字媒体',\n",
       " 'Media and Communication（原Mass Communication）',\n",
       " '会计学',\n",
       " '会计学',\n",
       " 'East Asian Languages and Literatures 东亚语言与文学',\n",
       " 'East Asian Languages and Literatures 东亚语言与文学',\n",
       " 'Asian Studies 亚洲研究 （by research)',\n",
       " 'Chinese Language and Literature 中国语言文学',\n",
       " 'Chinese Studies (by research)',\n",
       " '应用金融',\n",
       " 'Finance',\n",
       " 'Neuroscience',\n",
       " 'Neuroscience',\n",
       " 'Molecular Nano Bio Photonics',\n",
       " 'Brain and cognition',\n",
       " 'Behavioral and cognition',\n",
       " 'Cognitive Science of language',\n",
       " 'Neuroscience',\n",
       " 'neurasmus',\n",
       " 'Neuroscience',\n",
       " 'Master of Telecommunications and Information Security (MTIS)',\n",
       " 'Management Information Systems',\n",
       " 'Balkan, Eurasian and Central European Studies',\n",
       " 'MTIS',\n",
       " '中国环保研究理学硕士',\n",
       " 'ECE',\n",
       " 'ECE',\n",
       " 'EE',\n",
       " 'EE',\n",
       " 'Communication Engineering',\n",
       " 'EEIT',\n",
       " 'Electrical Engineering',\n",
       " 'Computing',\n",
       " '教育学',\n",
       " '中国研究',\n",
       " '英语研究',\n",
       " 'Department of Planning and Environmental Management',\n",
       " 'Department of Urbanism',\n",
       " 'Department of Urban Planning and Design',\n",
       " 'neuroengineering',\n",
       " '法学',\n",
       " '国际经济法',\n",
       " '学习科学与人类发展教育',\n",
       " 'Learning sciences and technologies',\n",
       " 'MPS in Analytics program at Toronto',\n",
       " 'Computer Science',\n",
       " 'Computer Science',\n",
       " 'Computer Science',\n",
       " 'Information Technology',\n",
       " 'Information Technology',\n",
       " 'Information Technology',\n",
       " 'Electrical and Electronics Engineering',\n",
       " 'Elite Master’s in Neuroengineering',\n",
       " 'Social Work and Youth Services',\n",
       " 'Social Work and Youth Services',\n",
       " '信息工程',\n",
       " 'Economics 经济',\n",
       " 'applied linguistics',\n",
       " 'applied econimic',\n",
       " 'Film',\n",
       " 'Film',\n",
       " 'Film',\n",
       " 'Film Studies',\n",
       " 'behavioural finance',\n",
       " 'Electrical and Electronics Engineering',\n",
       " '微电子',\n",
       " 'Transportation Economics',\n",
       " 'RTL',\n",
       " 'Computer Science',\n",
       " 'ECE',\n",
       " 'Computer Science',\n",
       " 'Computer Science',\n",
       " 'ECE',\n",
       " 'Electrical and Computer Engineering',\n",
       " 'Economics',\n",
       " 'Informatik',\n",
       " 'Machine Learning',\n",
       " 'Applied Computer Science',\n",
       " 'Computer Science',\n",
       " 'M1 Master parisien de recherche en Informatique',\n",
       " 'MMT',\n",
       " 'Economics',\n",
       " 'Computer Science',\n",
       " 'Nuclear Energy',\n",
       " 'Mechanical Engineering',\n",
       " 'Energy Science and Technology',\n",
       " 'Integrated Building Systems',\n",
       " 'Building Performance and Sustainability',\n",
       " 'Sustainable energy',\n",
       " 'Division of Advanced Nuclear Engineering',\n",
       " 'Mathematics in Science and Engineering',\n",
       " 'Technology Management',\n",
       " 'Simulation science',\n",
       " 'Computational Mechanics',\n",
       " 'Earth Oriented Space Science and Technology (ESPACE)',\n",
       " 'Aerospace',\n",
       " 'robotics',\n",
       " '网络安全数学',\n",
       " '系统设计工程',\n",
       " 'Computer Science 计算机科学',\n",
       " 'Biology and Biological Sciences',\n",
       " 'Mathmods',\n",
       " 'Communication（MA）（FT / PT）',\n",
       " 'Mass Communication',\n",
       " 'eee',\n",
       " 'Robotics, Cognition and Intelligence',\n",
       " 'Electrical Engineering, Information Technology and Computer Engineering',\n",
       " 'Autonomous System',\n",
       " 'electrical and computer engineering',\n",
       " 'Mathematics',\n",
       " 'Applied Economics',\n",
       " 'Economics and Econometrics',\n",
       " 'Quantitative Methods in Social Science',\n",
       " 'Electrical and Electronics Engineering',\n",
       " 'Economics 经济',\n",
       " 'space science',\n",
       " 'data science',\n",
       " 'eee',\n",
       " 'Informatics',\n",
       " 'Computer Science and Engineering',\n",
       " 'Smart Mobility Data Science &amp; Analytics',\n",
       " 'Interactive Media Technology',\n",
       " 'Sustainability and Business',\n",
       " 'Global Strategy and Innovation Management',\n",
       " 'finance economics',\n",
       " 'Economics and Econometrics',\n",
       " 'Economics and Econometrics',\n",
       " 'Information Technology',\n",
       " 'Data Science',\n",
       " 'Computer Engineering',\n",
       " 'Statistics Science',\n",
       " 'Computer Science',\n",
       " 'Data Science And Engineering',\n",
       " 'Electronic Engineering(MSc)（FT / PT）',\n",
       " 'Electrical and Electronics Engineering',\n",
       " 'Electrical and Electronics Engineering',\n",
       " 'icd',\n",
       " 'Electrical and Electronics Engineering',\n",
       " 'Computer Science',\n",
       " 'CCA',\n",
       " 'Electrical and Electronics Engineering',\n",
       " 'Electrical and Electronics Engineering',\n",
       " 'Information Technology',\n",
       " 'Electrical and Electronics Engineering',\n",
       " 'Electrical and Electronics Engineering',\n",
       " 'Electronic and Information Engineering（MSc）（FT / PT）',\n",
       " 'Electrical and Electronic Engineering（MSc）（FT / PT）',\n",
       " 'green electronics',\n",
       " 'icd',\n",
       " 'Chemical Engineering',\n",
       " 'International Shipping and Transport Logistics(MSc)（FT / PT）',\n",
       " 'Information Systems',\n",
       " 'Information Studies',\n",
       " '数据科学',\n",
       " '经济学',\n",
       " 'Accounting and Finance',\n",
       " 'Finance and Economics',\n",
       " 'ECE',\n",
       " 'Bioengineering and Biomedical Engineering 生物工程与生物医学工程',\n",
       " 'Master of Technology in Intelligent Systems',\n",
       " 'Financial Technology',\n",
       " 'Life science engineering',\n",
       " 'Artificial Intelligence 人工智能',\n",
       " '考古',\n",
       " 'Transnational Intellectual Property and Technology Law',\n",
       " 'Data Science (IPP的那个)',\n",
       " 'Data Science',\n",
       " 'Informatique',\n",
       " 'IASD',\n",
       " 'Chinese',\n",
       " 'Computer Science',\n",
       " 'Physics 物理',\n",
       " 'Information and Communications Engineering',\n",
       " 'Cyber Security',\n",
       " 'Materials Science',\n",
       " 'Electrical and Electronics Engineering',\n",
       " 'Electrical and Electronics Engineering',\n",
       " 'DFintech',\n",
       " 'Department of Media and Communication',\n",
       " 'Comparative and Public History(MA)（FT / PT）',\n",
       " 'informatics',\n",
       " 'Dual Master of Archival Studies (M.A.S.) and Master of Library and Information Studies (M.L.I.S.)',\n",
       " 'Philosophy',\n",
       " 'Public Policy with Social Change',\n",
       " 'GSICCS',\n",
       " 'TCFL',\n",
       " 'Information Technology(MSc)（FT / PT）',\n",
       " '国际政治与经济',\n",
       " 'Information Studies',\n",
       " 'Information Systems',\n",
       " 'Industry 4.0',\n",
       " 'media studies（媒体研究）',\n",
       " 'Communication (Integrated Marketing Communication)',\n",
       " 'Development and International Cooperation Sciences',\n",
       " 'ASEAN Studies 东盟研究',\n",
       " '法学',\n",
       " 'Economics and Econometrics',\n",
       " 'Finance 金融',\n",
       " 'Engineering',\n",
       " 'Finance 金融',\n",
       " 'Computer Science',\n",
       " 'Computer Science',\n",
       " 'Computational and Applied Mathematics',\n",
       " 'Machine Learning',\n",
       " 'Chemical and Biomolecular Engineering (MSc)（FT / PT）',\n",
       " 'Electrical and Electronics Engineering',\n",
       " 'Human-Computer Interaction',\n",
       " 'Human-Computer Interaction',\n",
       " 'Statistics',\n",
       " 'Statistics',\n",
       " 'Statistics',\n",
       " 'Statistical Science',\n",
       " 'Applied Statistics',\n",
       " 'Statistics',\n",
       " 'Applied mathematics and statistics',\n",
       " 'Statistics',\n",
       " 'Computer Science - Aglin',\n",
       " 'Applied Mathematics',\n",
       " 'Statistical Practice',\n",
       " 'Statistics',\n",
       " 'Applied Statistics for Social Science Research',\n",
       " 'Behavioural economics',\n",
       " 'Computer Science',\n",
       " 'Chemical Engineering',\n",
       " 'Chemical and Biomolecular Engineering（Mphil/PhD）',\n",
       " 'IC Design Engineering',\n",
       " 'Educational Research',\n",
       " 'Electrical and Electronics Engineering',\n",
       " 'EI',\n",
       " 'Electrical and Electronics Engineering',\n",
       " 'Computer Science',\n",
       " 'Civil Engineering',\n",
       " 'Urban, Community and Regional Planning',\n",
       " 'English and Speech Teacher Education',\n",
       " 'Management Information Systems 管理信息系统',\n",
       " 'Geography',\n",
       " 'Geography',\n",
       " 'Urban, Community and Regional Planning',\n",
       " 'Artificial Intelligence',\n",
       " 'Artificial Intelligence',\n",
       " 'Managerial Economics',\n",
       " 'Department of Information Systems',\n",
       " 'Laws（LLM）（FT）',\n",
       " 'Language Studies (Language &amp; Law / Linguistics / Translation &amp; Interpretation / Translation ',\n",
       " 'Electrical Engineering',\n",
       " 'Geomatics Engineering (GEOENGINE)',\n",
       " 'Transport Engineering and Mobility',\n",
       " 'Electrical Engineering, Information Technology and Computer Engineering',\n",
       " 'Rail, Transport and Logistics (RTL)',\n",
       " 'Earth Oriented Space Science and Technology (ESPACE)',\n",
       " 'Knowledge and Technology Management（Mphil/PhD）（FT/PT）',\n",
       " 'BIOMEDICAL DATA SCIENCE',\n",
       " 'informatique',\n",
       " '人机交互',\n",
       " 'Environmental Engineering',\n",
       " 'Computer Science',\n",
       " 'Cybersecurity',\n",
       " 'Computer Science',\n",
       " 'Biomedical Engineering',\n",
       " 'Neuroscience',\n",
       " 'Life Science Engineering',\n",
       " 'Neural System and Computation',\n",
       " 'Neural & Behavioural Science',\n",
       " 'General LLM',\n",
       " 'Asian &amp; International Studies（PhD）',\n",
       " 'Computer Science',\n",
       " 'Data Science',\n",
       " 'Informatics',\n",
       " 'Software Systems Engineering',\n",
       " 'Mcomp(AI)',\n",
       " 'Computer Science（MSc）（FT / PT）',\n",
       " 'Master of Arts by Research',\n",
       " '建筑保护（给了面试没给结果）呜呜呜申请太晚加上没准备口语被拒了',\n",
       " '可持续城市发展',\n",
       " 'conservation of historical building',\n",
       " 'Human Computer Interaction',\n",
       " 'Computer Science',\n",
       " '联合培养——金融学博士',\n",
       " 'Data Science and Machine Learning',\n",
       " 'Keio Media Design',\n",
       " 'Computer Science',\n",
       " 'Human Computer Interaction',\n",
       " 'Computer Science',\n",
       " 'Joint Computer Science (big data track)',\n",
       " 'Joint Computer Scinece (big data track)',\n",
       " 'Computer Scinece',\n",
       " 'Electrical and Computer Engineering',\n",
       " 'Computer Science(Visual Computing)',\n",
       " 'Information Technology (Digital Media)',\n",
       " 'Computer Science',\n",
       " 'Human-Computer Interaction',\n",
       " 'Computer Science',\n",
       " 'Computer Science',\n",
       " 'Computer Science',\n",
       " 'Computer Science (with thesis)',\n",
       " 'Computer Science (course-based)',\n",
       " 'CS (Digital Arts)',\n",
       " 'Cybersecurity',\n",
       " 'Statistics',\n",
       " 'Development Studies',\n",
       " 'Artificial Intelligence+Data Science',\n",
       " 'Mathematics for educators',\n",
       " '教育学（数学）',\n",
       " '教育学（物理）',\n",
       " '教育学（数学）',\n",
       " 'Mathematics for educators',\n",
       " 'Communications Engineering',\n",
       " 'Artificial Intelligence',\n",
       " 'data science',\n",
       " 'Mass Communication 大众传播',\n",
       " 'ECE',\n",
       " 'Engineering Management',\n",
       " 'data science',\n",
       " 'Agricultural Economics',\n",
       " 'Computer Science',\n",
       " 'Actuarial Science',\n",
       " 'Systems Science and Theory',\n",
       " 'Urban planning',\n",
       " 'Civil Engineering',\n",
       " 'building engineering',\n",
       " 'MSc Advanced Control and Systems Engineering with Extended Research',\n",
       " 'Cartography',\n",
       " 'EIE',\n",
       " 'Simulation Sciences',\n",
       " 'Computer Science',\n",
       " 'Master of Business Administration',\n",
       " 'Law 法律',\n",
       " 'Computer Science',\n",
       " 'Public Policy Analysis',\n",
       " 'International and Public Affairs（Master）（FT / PT）',\n",
       " 'Public Policy Analysis',\n",
       " 'Human Computer Interaction and Design',\n",
       " 'Anthropology and Archaeology',\n",
       " 'Chemical Engineering',\n",
       " 'law',\n",
       " 'Law',\n",
       " 'Law',\n",
       " '物理',\n",
       " 'ITC',\n",
       " '教育学',\n",
       " 'Applied Computer Science',\n",
       " 'Electrical and Compute Engineering',\n",
       " 'System and Technology',\n",
       " 'Biomedical Engineering',\n",
       " 'Department of Computer Science',\n",
       " 'social anthropology',\n",
       " 'east asian studies',\n",
       " 'Anthropology and Archaeology',\n",
       " 'MAPSS- anthropology',\n",
       " 'social anthropology',\n",
       " 'planning growth and regeneration',\n",
       " 'Department of Computer Science',\n",
       " 'Electrical and Computer (Software Engineering)',\n",
       " 'Law',\n",
       " 'data communication',\n",
       " 'Law',\n",
       " 'Government and Politics (Greater China)(MSSc)（FT / PT）',\n",
       " 'Law',\n",
       " 'Law',\n",
       " 'Law',\n",
       " 'Law',\n",
       " 'Law',\n",
       " 'Law',\n",
       " 'Law',\n",
       " 'Law',\n",
       " 'Law',\n",
       " 'Master of Data Science',\n",
       " 'M.Sc. in Computer Science',\n",
       " 'MSc in Computer Science',\n",
       " 'Master of Science in Cybersecurity',\n",
       " 'Master of Data Science',\n",
       " 'M.Sc. in Computer Science',\n",
       " 'TESOL',\n",
       " 'Global media and communication',\n",
       " 'Applied Linguistics',\n",
       " 'Media and Communications',\n",
       " 'Communication and Culture',\n",
       " 'Cultural Studies',\n",
       " 'Theory and Criticism',\n",
       " 'Humanities',\n",
       " 'English Department-CSPT concentration',\n",
       " 'Interdisciplinary Studies',\n",
       " 'CEMS MiM',\n",
       " 'Finance',\n",
       " 'Banking and Finance',\n",
       " 'Cultures of Arts, Science and Techno',\n",
       " 'International Journalism Studies（MA）（FT / PT）',\n",
       " 'Public Policy Analysis',\n",
       " 'Public Policy Analysis',\n",
       " 'Comparative and International Education',\n",
       " 'International Social and Public Policy',\n",
       " 'Electrical Power Systems',\n",
       " 'Architecture',\n",
       " 'Asian Studies',\n",
       " 'Mobile Computing System',\n",
       " 'Artificial Intelligence',\n",
       " 'Computer Science',\n",
       " 'Computer Science',\n",
       " 'Computer Science',\n",
       " 'Computer Science',\n",
       " 'Computer Science',\n",
       " 'Computer Science',\n",
       " 'Computer Science',\n",
       " 'Computer Science',\n",
       " 'Computer Science',\n",
       " 'Computer Science',\n",
       " 'Computer Science',\n",
       " 'Electrical and Electronics Engineering',\n",
       " 'Electrical and Electronics Engineering',\n",
       " 'Computer Science',\n",
       " 'Computer Systems Technician',\n",
       " 'Information Technology',\n",
       " 'Computer Science',\n",
       " 'Computer Science',\n",
       " 'Medieval and Early Modern Studies',\n",
       " 'Medieval Studies',\n",
       " 'Medieval and Renaissance Literary Studies',\n",
       " 'EEE',\n",
       " 'International Business',\n",
       " 'Comparative and Public History(MA)（FT / PT）',\n",
       " 'History',\n",
       " 'Software systems engineering',\n",
       " 'Data science',\n",
       " 'Computer Science',\n",
       " 'Computer systems and networks',\n",
       " 'Computer Science',\n",
       " 'Civil Engineering',\n",
       " 'Laws in Arbitration and Dispute Resolution（LLM）（FT / PT）',\n",
       " 'Computer Software Engineering',\n",
       " 'Finance',\n",
       " 'Economics and Econometrics',\n",
       " 'Cyber Security, privacy and trust',\n",
       " 'MSCS',\n",
       " 'Finance',\n",
       " 'Economics and Social Science',\n",
       " 'Economics and Econometrics',\n",
       " 'Software System Engineering',\n",
       " 'Data Processing Technician',\n",
       " 'Psychology',\n",
       " 'Psychology',\n",
       " 'Social Psychology',\n",
       " 'Psychology',\n",
       " 'Communication and Media Studies',\n",
       " '绿色电子',\n",
       " 'Economic Development',\n",
       " 'Data Science',\n",
       " 'Creative Media（PhD）',\n",
       " 'Anthropology(MA)（FT / PT）',\n",
       " 'Film, Television and Digital Media（MFA）（FT）',\n",
       " 'Computer Science(MSc)（FT / PT）',\n",
       " 'Mechanical Engineering',\n",
       " 'Robotics and Automation Engineering',\n",
       " 'Robotics and Automation Engineering',\n",
       " 'Mechanical Engineering',\n",
       " 'Mechanical and Biomedical Engineering（PhD）',\n",
       " 'Economics',\n",
       " 'Economics',\n",
       " 'Medicine 医药',\n",
       " 'Psychology 心理学',\n",
       " 'school and community psychology',\n",
       " 'Business Analytics',\n",
       " 'Astronomy',\n",
       " 'Information Studies',\n",
       " 'KM',\n",
       " 'Applied Physics',\n",
       " 'Management',\n",
       " 'Strategic Management',\n",
       " 'Management-European Triple Degree-Grand Ecole',\n",
       " 'Management Consultancy',\n",
       " 'Business Administration (Track Strategy)',\n",
       " 'Management with International Finance',\n",
       " 'Management for Business Excellence',\n",
       " 'Accounting Governance and Financial Management',\n",
       " 'Management Consulting',\n",
       " 'Finance and Management',\n",
       " 'Information - UXD Concentration',\n",
       " 'Finance',\n",
       " 'Finance',\n",
       " 'Economics and Econometrics',\n",
       " 'Economics and Econometrics',\n",
       " 'MAPSS',\n",
       " 'Biomedical Sciences',\n",
       " 'Cognitive Science',\n",
       " 'Computer Science',\n",
       " 'Bioinformatics',\n",
       " 'Computer Science',\n",
       " 'Media Informatics',\n",
       " 'Media Informatics',\n",
       " 'Media Informatics',\n",
       " 'Civil Engineering',\n",
       " 'Information Studies',\n",
       " 'Electrical and Electronics Engineering',\n",
       " 'EMECS',\n",
       " 'EEIT',\n",
       " 'Aerospace',\n",
       " 'Sociology 社会学',\n",
       " 'Department of Sociology',\n",
       " 'Media, Culture and Creative Cities（MSocSc）（PT）',\n",
       " 'Communication（MA）（FT ）',\n",
       " 'International Journalism Studies（MA）（FT）',\n",
       " 'International Business',\n",
       " 'Biomedical Computing',\n",
       " 'Simulation Science',\n",
       " 'Finance and Economics',\n",
       " 'Electrical Engineering, Information Technology and Computer Engineering',\n",
       " 'computer control and automation',\n",
       " 'Department of Accountancy and Law(hkpfs)',\n",
       " 'Industrial Ecology',\n",
       " 'Corporate Environmental Management',\n",
       " 'Environmental Studies and Sustainability',\n",
       " 'Sevice Management (Sustainability)',\n",
       " 'Innovation, Human Development and Sustainability',\n",
       " 'Data Science and Artificial Intelligence',\n",
       " 'Artificial Intelligence',\n",
       " 'Computational Mechanics',\n",
       " 'Construction and Robotics',\n",
       " 'Civil Engineering',\n",
       " 'Computer Science',\n",
       " 'Computer Science',\n",
       " 'Computer Science',\n",
       " 'Applied Data Science',\n",
       " 'Computational Mechanics',\n",
       " 'Computer Science',\n",
       " 'Sociology',\n",
       " 'Linguistics',\n",
       " 'Global Studies',\n",
       " 'Global Health',\n",
       " 'Development Studies',\n",
       " 'Multimodal Communication',\n",
       " 'Multilingualism',\n",
       " 'Social and Cultural Anthropology',\n",
       " 'Data Science and AI',\n",
       " 'general',\n",
       " 'EE',\n",
       " 'CCA',\n",
       " 'Data Science and Machine Learning',\n",
       " 'Statistics',\n",
       " 'Statistics',\n",
       " 'Big Data Technology',\n",
       " 'Data science',\n",
       " 'Data Science',\n",
       " 'data science',\n",
       " 'data science',\n",
       " 'Computational and Applied Mathematics',\n",
       " 'Mathematics',\n",
       " 'statistics and data science',\n",
       " 'Mathematics',\n",
       " 'spatial analysis',\n",
       " 'Environmental Studies',\n",
       " 'Urban, Community and Regional Planning',\n",
       " 'Food Science',\n",
       " 'Fiber, Textile and Weaving',\n",
       " 'Agricultural Extension Services',\n",
       " 'Civil Engineering',\n",
       " 'global business',\n",
       " 'Business Administration and Management',\n",
       " 'leadership',\n",
       " 'MDS computational linguistic',\n",
       " 'Finance 金融',\n",
       " 'History（PhD）',\n",
       " 'Agronomy, Range, and Crop Science',\n",
       " 'Department of Land Surveying and Geo-Informatics',\n",
       " 'Electrical Engineering',\n",
       " 'Electronic and Electrical Engineering',\n",
       " 'Energy and Sustainability with Electrical Power Engineering',\n",
       " 'Electronic and Electrical Engineering',\n",
       " 'Electrical Engineering',\n",
       " 'Electrical Power System Engineering',\n",
       " 'Electrical and Electronics Engineering',\n",
       " 'Biomedical Engineering(MSc)（FT / PT）',\n",
       " 'Mechanical Engineering',\n",
       " 'Mechanical Engineering',\n",
       " '专业会计',\n",
       " 'Simulation Science',\n",
       " 'Immunology+Biochemistry',\n",
       " '教育学',\n",
       " 'Linguistics, Interpretation, and Translation',\n",
       " 'Linguistics, Interpretation, and Translation',\n",
       " 'Linguistics, Interpretation, and Translation',\n",
       " '翻译学',\n",
       " 'Architecture',\n",
       " 'knowledge management',\n",
       " 'Software Engineering',\n",
       " 'SECCLO',\n",
       " 'HPCS',\n",
       " 'Computer Science',\n",
       " 'Computer science and engineering',\n",
       " 'Embedded Systems',\n",
       " 'Computer Science',\n",
       " 'master of architecture',\n",
       " 'Master of architecture',\n",
       " 'Bioinformatics',\n",
       " 'Economics and Econometrics',\n",
       " 'International Trade, Finance and Development',\n",
       " 'Economics（Master）（FT / PT）',\n",
       " 'financial economics',\n",
       " 'Psychology',\n",
       " 'Clinical Psychology',\n",
       " 'knowledge Management',\n",
       " 'Data Science',\n",
       " 'Artificial Intelligence',\n",
       " 'Big Data Technology',\n",
       " 'Systems Engineering and Engineering Management(MSc)（FT / PT）',\n",
       " 'Information Systems',\n",
       " 'Information Systems Management(MSc)',\n",
       " 'Cybersecurity',\n",
       " 'Chinese Language and Literature （MA）（FT / PT）',\n",
       " 'Finance',\n",
       " 'Public Administration（MPA）（FT / PT）',\n",
       " 'Laws（LLM）（FT / PT）',\n",
       " 'Information Technology(MSc)（FT / PT）',\n",
       " 'Bioengineering and Biomedical Engineering 生物工程与生物医学工程',\n",
       " 'mappm',\n",
       " 'Economics and Econometrics',\n",
       " 'Economics and Econometrics',\n",
       " 'Finance',\n",
       " 'Economics and Econometrics',\n",
       " 'Economics and Econometrics',\n",
       " 'Economics and Econometrics',\n",
       " 'Economics and Econometrics',\n",
       " 'Finance（Mphil-PhD）',\n",
       " 'economics(PhD)',\n",
       " 'Finance（PhD）',\n",
       " 'Economics（PhD）',\n",
       " 'Biomedical Engineering(MSc)（FT / PT）',\n",
       " 'Logistics and Supply Chain Management',\n",
       " 'transportation system',\n",
       " 'Data Science',\n",
       " 'Professional computer science（big data）',\n",
       " 'MSDAI',\n",
       " 'Data Science',\n",
       " 'Cyber Security',\n",
       " 'MSAI',\n",
       " 'Data Science and AI',\n",
       " 'DAE',\n",
       " 'MSIS',\n",
       " 'ESPACE',\n",
       " 'Telecommunications(MSc)（FT）',\n",
       " 'MSIS',\n",
       " 'Aerospace Engineering',\n",
       " 'Computer Science',\n",
       " 'Telecommunications and Information Security',\n",
       " 'Information Security',\n",
       " 'Financial Economics',\n",
       " 'PPD',\n",
       " 'APE',\n",
       " 'Business Economics',\n",
       " 'Telecommunications and Information Security(MTIS)',\n",
       " 'hpc with data science',\n",
       " 'APPLIED LINGUISTICS',\n",
       " 'Civil Engineering',\n",
       " 'Civil Engineering',\n",
       " 'ECE MEng in Power Engineering',\n",
       " 'Architecture',\n",
       " 'Computer Science',\n",
       " 'Management and Economics',\n",
       " 'Business Economics',\n",
       " 'Information Technology',\n",
       " '能源与环境法（eel）',\n",
       " 'Comparative and Public History(MA)（FT ）',\n",
       " 'Mathematics',\n",
       " 'Mathematics',\n",
       " 'construction and real estate',\n",
       " 'Industrial Engineering',\n",
       " 'General LLM',\n",
       " 'General LLM',\n",
       " 'General LLM',\n",
       " 'General LLM',\n",
       " 'American law',\n",
       " 'Global Prosperity',\n",
       " 'APE （ Analysis and Policy in Economics ）',\n",
       " 'Applied Economics',\n",
       " 'Economics 经济学',\n",
       " 'Political Science and Political Economy',\n",
       " 'architecture and urbanism',\n",
       " 'Advanced study of architecture',\n",
       " 'public policy - economic stream',\n",
       " 'Applied Econ',\n",
       " 'politics and society',\n",
       " 'Juris Doctor(JD)（FT / PT）',\n",
       " 'Film, Curation and Exhibition',\n",
       " 'Division of China Studies',\n",
       " 'econ',\n",
       " 'Electrical and Electronics Engineering',\n",
       " 'drug innovation',\n",
       " 'Health Care Management',\n",
       " 'Industry 4.0',\n",
       " 'Robotics and Computation',\n",
       " 'Mobility Engineering (Track: Automotive)',\n",
       " 'Systems, Control and Mechatronics',\n",
       " 'Innovative and Sustainable Energy Engineering',\n",
       " 'Mechanical Engineering 全奖 15k欧每年',\n",
       " 'EWEM: European Wind Energy Master',\n",
       " 'SENSE: Smart Electrical Networks and Systems (KTH+KU Leuven) 8k欧每年',\n",
       " 'RENE: Renewable Energy (Ecole Polytechnique)',\n",
       " 'Systems and Control (Track: Robotics and Mechatronics)',\n",
       " 'QEM',\n",
       " 'IDEA',\n",
       " 'Finance',\n",
       " 'Artificial Intelligence',\n",
       " 'Information Systems',\n",
       " 'information system',\n",
       " 'Biology',\n",
       " 'Laws（LLM）（FT / PT）',\n",
       " 'ECE',\n",
       " 'Computer Science',\n",
       " 'materials science and engineering',\n",
       " 'Mobility Engineering, automotive track',\n",
       " 'Systems, Control and Mechatronics',\n",
       " 'Mass Communication',\n",
       " 'CS-align',\n",
       " 'Chemical Engineering',\n",
       " 'Chemical Engineering',\n",
       " 'EE',\n",
       " 'Electrical and Electronics Engineering',\n",
       " 'Arts,Entertainment,and Media Management 艺术,娱乐和媒体管理',\n",
       " 'Operations research center',\n",
       " 'ORFE',\n",
       " 'Statistical Science',\n",
       " 'Economics and Econometrics',\n",
       " 'Civil Engineering',\n",
       " 'Computer Science',\n",
       " 'Architectural Sciences and Technology',\n",
       " 'Civil Engineering',\n",
       " 'Civil Engineering',\n",
       " '生物医学',\n",
       " 'urban analytics',\n",
       " 'Cultural management',\n",
       " 'VIsual art management',\n",
       " 'art Administration',\n",
       " 'art management',\n",
       " 'Arts Administration',\n",
       " 'Arts Administration',\n",
       " 'Economics（Master）（FT / PT）',\n",
       " 'Economics and Econometrics',\n",
       " 'Accounting and finance',\n",
       " 'Economic and social sicence',\n",
       " 'Finance',\n",
       " 'corporate finance',\n",
       " 'business economics',\n",
       " 'Applied Psychology and Behavioral Economics',\n",
       " 'Economics',\n",
       " 'Applied Behavioral Economics and Individual Choice Behavioral Finance',\n",
       " 'Mechanical Engineering',\n",
       " 'Interaction Design',\n",
       " 'Philosophy',\n",
       " 'Philosophy',\n",
       " 'Behavioral Sciences',\n",
       " '经济与管理',\n",
       " '经济学',\n",
       " 'smart',\n",
       " 'Automotive Engineering',\n",
       " 'Communications Engineeringg',\n",
       " 'Electrical and Electronics Engineering',\n",
       " 'Signal Processing',\n",
       " 'Electronics',\n",
       " 'Communications Engineering',\n",
       " 'Information Technology(MSc)（FT / PT）',\n",
       " 'ee',\n",
       " 'ee',\n",
       " 'ee',\n",
       " 'ece',\n",
       " 'ece',\n",
       " 'ee',\n",
       " 'communication technology',\n",
       " 'Game and Interactive Media Design',\n",
       " 'MESPOM',\n",
       " 'CIRCLE',\n",
       " 'Urban Environmental Management',\n",
       " 'Urban Ecological Plan',\n",
       " 'Business Administration and Management',\n",
       " 'Nordic Master&#039;s programme in Environmental Engineering',\n",
       " 'Nordic Master&#039;s programme in Environmental Engineering',\n",
       " 'GEM（ geo-information science and earth observation for environmental modelling and management）',\n",
       " 'International Business and Marketing',\n",
       " 'Computer Science',\n",
       " 'Computer Science',\n",
       " 'Artificial Intelligence &amp; Advanced Visual Computing',\n",
       " 'Management of  Technology',\n",
       " 'environmental mgt',\n",
       " 'international construction mgt',\n",
       " 'Mechanical Engineering',\n",
       " 'Drug Science',\n",
       " 'Chemical Engineering',\n",
       " 'Law',\n",
       " 'Environmental Management and Engineering（MSc）（FT / PT）',\n",
       " 'Energy and Environment（MSEE）（FT）',\n",
       " 'Intelligent Building Technology and Management(MSc)（FT / PT）',\n",
       " 'Industrial and Systems Engineering',\n",
       " 'History of Political Thought',\n",
       " 'Chinese Studies(MA)（FT）',\n",
       " 'Ic design',\n",
       " 'Artificial Intelligence',\n",
       " 'Logistics and Supply Chain Management',\n",
       " 'management of technology',\n",
       " 'industrial and systems engineering',\n",
       " 'Supply Chain Management',\n",
       " 'Division of Social Science',\n",
       " 'Electrical Engineering',\n",
       " 'Law',\n",
       " 'Law',\n",
       " 'Computer Science',\n",
       " '酒店管理',\n",
       " 'Human Geography',\n",
       " 'Public Policy',\n",
       " 'International Public Affairs',\n",
       " 'Global Markets, Local Creativities',\n",
       " 'Urban Planning',\n",
       " 'DATA SCIENCE AND ENGINEERING',\n",
       " 'Computer Engineering Technician',\n",
       " 'Development Studies',\n",
       " 'BDMA',\n",
       " 'Computer Science',\n",
       " 'Geo-information Science',\n",
       " 'Data Science for Decision Making',\n",
       " 'Geo-information Science and Earth Observation',\n",
       " 'Computer Science（MSc）（FT / PT）',\n",
       " 'Information Technology Management（MSc）（FT / PT）',\n",
       " 'SECCLO',\n",
       " 'Computer Science-Big Data Engineering',\n",
       " 'Economics（PhD）',\n",
       " 'Economics and Econometrics',\n",
       " 'Marketing',\n",
       " 'Mass Communication',\n",
       " 'Economics and Econometrics',\n",
       " 'Wireless Communication',\n",
       " 'Communication Engineering',\n",
       " 'EE',\n",
       " 'Industrial Engineering',\n",
       " 'population health science',\n",
       " 'Civil Engineering',\n",
       " '商业分析/business analytics',\n",
       " 'Operations Research',\n",
       " 'Industrial and Engineering Management',\n",
       " '分析学/Analytics',\n",
       " 'Sociology',\n",
       " 'Civil Engineering',\n",
       " 'Economics and Economic Policy',\n",
       " 'Real Estate',\n",
       " 'Supply Chain Management',\n",
       " 'Chemical Engineering',\n",
       " 'Artificial Intelligence',\n",
       " ...]"
      ]
     },
     "execution_count": 92,
     "metadata": {},
     "output_type": "execute_result"
    }
   ],
   "source": [
    "pf"
   ]
  },
  {
   "cell_type": "code",
   "execution_count": 93,
   "id": "f430f81d",
   "metadata": {},
   "outputs": [],
   "source": [
    "file = open('professional_name_after_covid19.txt','w')\n",
    "for i in pf:\n",
    "    file.write(str(i))\n",
    "file.close()"
   ]
  },
  {
   "cell_type": "markdown",
   "id": "f538b477",
   "metadata": {},
   "source": [
    "### visualize the data - method 1"
   ]
  },
  {
   "cell_type": "code",
   "execution_count": 94,
   "id": "5e3bb4d4",
   "metadata": {},
   "outputs": [],
   "source": [
    "import wordcloud\n",
    "\n",
    "w = wordcloud.WordCloud(      \n",
    "    width=400,\n",
    "    height=200,\n",
    "    background_color='black',\n",
    "    font_path=None, \n",
    "    font_step=1,\n",
    "    min_font_size=4,\n",
    "    max_font_size=None,\n",
    "    max_words=200,\n",
    "    stopwords={},\n",
    "    scale=1,\n",
    "    prefer_horizontal=0.9,\n",
    "    relative_scaling=0.5,\n",
    "    mask=None) "
   ]
  },
  {
   "cell_type": "code",
   "execution_count": 95,
   "id": "dcd11257",
   "metadata": {},
   "outputs": [
    {
     "data": {
      "text/plain": [
       "<wordcloud.wordcloud.WordCloud at 0x7f9768162790>"
      ]
     },
     "execution_count": 95,
     "metadata": {},
     "output_type": "execute_result"
    }
   ],
   "source": [
    "# read the text profile\n",
    "f = open('professional_name_after_covid19.txt',encoding='utf-8')\n",
    "txt = f.read()\n",
    "\n",
    "# construct the word cloud \"w\"，and set params\n",
    "w = wordcloud.WordCloud(width=1000,\n",
    "                        height=700,\n",
    "                        background_color='white',\n",
    "                        stopwords={'FT','PT','and','in','master','a','as','or'},\n",
    "                        font_path=None, \n",
    "                        font_step=3,\n",
    "                        min_font_size=8,\n",
    "                        max_font_size=None,\n",
    "                        max_words=150,\n",
    "                        scale=1,\n",
    "                        prefer_horizontal=0.9,\n",
    "                        relative_scaling=0.5,\n",
    "                        mask=None\n",
    "                \n",
    "                       )\n",
    "\n",
    "# pass txt to \"w\"\n",
    "w.generate(txt)\n",
    "\n",
    "# generate the picture\n",
    "w.to_file('professional_cloud_after_covid19.png')"
   ]
  },
  {
   "cell_type": "markdown",
   "id": "78afa28e",
   "metadata": {},
   "source": [
    "### visualize the data - method 2"
   ]
  },
  {
   "cell_type": "code",
   "execution_count": null,
   "id": "0ff976f9",
   "metadata": {},
   "outputs": [],
   "source": [
    "https://www.jasondavies.com/wordcloud/"
   ]
  },
  {
   "cell_type": "markdown",
   "id": "940e4a4d",
   "metadata": {},
   "source": [
    "# 2. Subjective Factors"
   ]
  },
  {
   "cell_type": "markdown",
   "id": "ae19db47",
   "metadata": {},
   "source": [
    "## (1) Bar Chart: IELTS Score* Proportion of Offer\n",
    "- IV: IELTS Score\n",
    "- DV: Proportion of Receiving Offer"
   ]
  },
  {
   "cell_type": "code",
   "execution_count": 2,
   "id": "77f2c9d4",
   "metadata": {},
   "outputs": [],
   "source": [
    "import pandas as pd\n",
    "import numpy as np\n",
    "df = pd.read_csv('data_clean.csv')"
   ]
  },
  {
   "cell_type": "code",
   "execution_count": 3,
   "id": "27e3ff40",
   "metadata": {},
   "outputs": [],
   "source": [
    "#Locate the time period\n",
    "df = df[(df['time_year'] == 2020) & \n",
    "            ((df['time_month'] >= 9) & (df['time_month'] <= 12))     |\n",
    "            (df['time_year'] == 2021) & \n",
    "            ((df['time_month'] >= 1) & (df['time_month'] < 9))]"
   ]
  },
  {
   "cell_type": "code",
   "execution_count": 4,
   "id": "a70264c5",
   "metadata": {},
   "outputs": [],
   "source": [
    "#Drop the unreasonable score\n",
    "df = df.drop(df[(df.ieltsz <= 1)].index)"
   ]
  },
  {
   "cell_type": "code",
   "execution_count": 7,
   "id": "6ef658d6",
   "metadata": {},
   "outputs": [],
   "source": [
    "z1 = df[df['apply_results'] == 1].groupby('ieltsz')['ieltsz'].size().values\n",
    "z2 = df[df['apply_results'] != 1].groupby('ieltsz')['ieltsz'].size().values"
   ]
  },
  {
   "cell_type": "code",
   "execution_count": 8,
   "id": "9422dbc3",
   "metadata": {},
   "outputs": [],
   "source": [
    "y1 = z1.tolist()\n",
    "y2 = z2.tolist()"
   ]
  },
  {
   "cell_type": "code",
   "execution_count": 9,
   "id": "88624aac",
   "metadata": {},
   "outputs": [
    {
     "name": "stdout",
     "output_type": "stream",
     "text": [
      "[0.8275862068965517, 0.8853503184713376, 0.75139146567718, 0.707488986784141, 0.7278731836195509, 0.6928571428571428, 0.8181818181818182]\n",
      "[0.1724137931034483, 0.11464968152866242, 0.24860853432282004, 0.29251101321585904, 0.27212681638044917, 0.30714285714285716, 0.18181818181818182]\n"
     ]
    },
    {
     "data": {
      "image/png": "[encoded data removed]",
      "text/plain": [
       "<Figure size 1200x800 with 1 Axes>"
      ]
     },
     "metadata": {
      "needs_background": "light"
     },
     "output_type": "display_data"
    }
   ],
   "source": [
    "#stacked bar\n",
    "import matplotlib.pyplot as plt\n",
    "\n",
    "fig, ax = plt.subplots(figsize=(15,10), dpi=80)\n",
    "plt.grid(axis=\"y\", alpha=0.3)\n",
    "labels = ['5.5', '6.0', '6.5', '7.0', '7.5', '8.0', '8.5']\n",
    "data = [y1, y2]\n",
    "x = range(len(labels))\n",
    "width = 0.35\n",
    "\n",
    "# Initialize all bottom_y elements to 0\n",
    "bottom_y = [0] * len(labels)\n",
    "# Calculate the sum of each group of columns in preparation for calculating the percentage\n",
    "sums = [sum(i) for i in zip(y1, y2)]\n",
    "for i in data:\n",
    "    y = [a/b for a, b in zip(i, sums)] # Calculate the height of each column (ie. the percentage)\n",
    "    print(y) # proportion data\n",
    "    plt.bar(x, y, width, bottom=bottom_y)\n",
    "    bottom_y = [(a+b) for a, b in zip(y, bottom_y)]# Calculate the position of the bottom parameter\n",
    "\n",
    "\n",
    "plt.title('Proportion of receiving offer with different IELTS score', fontsize=25)\n",
    "plt.xlabel(\"IELTS Score\",fontsize=20)\n",
    "plt.ylabel(\"Proportion of Offer/ Reject or Waiting\",fontsize=20)\n",
    "plt.xticks(x, labels, fontsize=17)\n",
    "plt.yticks(fontsize=17)\n",
    "plt.legend(['Offer', 'Reject or Waiting'],loc=\"upper left\",fontsize=17)\n",
    "#plt.savefig(\"plot14.jpg\")\n",
    "plt.show()"
   ]
  },
  {
   "cell_type": "markdown",
   "id": "0540802b",
   "metadata": {},
   "source": [
    "## (2) Pie Chart: Graduate University Degree* Proportion of Offer\n",
    "- IV: Acadamic Degree of Graduate University \n",
    "- DV: Proportion of Receiving Offer"
   ]
  },
  {
   "cell_type": "code",
   "execution_count": 11,
   "id": "45110162",
   "metadata": {},
   "outputs": [],
   "source": [
    "import pandas as pd\n",
    "df = pd.read_csv('data_clean.csv')"
   ]
  },
  {
   "cell_type": "code",
   "execution_count": 12,
   "id": "7f86f19f",
   "metadata": {},
   "outputs": [
    {
     "data": {
      "text/plain": [
       "1    72180\n",
       "2    16591\n",
       "Name: apply_results, dtype: int64"
      ]
     },
     "execution_count": 12,
     "metadata": {},
     "output_type": "execute_result"
    }
   ],
   "source": [
    "#Replace '0'(waiting list) with '2'(reject) for convenience\n",
    "df['apply_results'].replace(0,2,inplace=True)\n",
    "df.apply_results.value_counts()"
   ]
  },
  {
   "cell_type": "code",
   "execution_count": 13,
   "id": "08d0bf48",
   "metadata": {},
   "outputs": [],
   "source": [
    "#Locate 2020.9—2021.9\n",
    "time3=df.loc[df['time_year'].isin([2020])] \n",
    "concrete3=time3.loc[df['time_month'].isin([9,10,11,12])]\n",
    "time4=df.loc[df['time_year'].isin([2021])]\n",
    "concrete4=time4.loc[df['time_month'].isin([1,2,3,4,5,6,7,8])]"
   ]
  },
  {
   "cell_type": "code",
   "execution_count": 14,
   "id": "fe1ea75d",
   "metadata": {},
   "outputs": [],
   "source": [
    "#Create a new DataFrame according the to time condition\n",
    "apply2=pd.concat([concrete3,concrete4])"
   ]
  },
  {
   "cell_type": "code",
   "execution_count": 15,
   "id": "6ea300b6",
   "metadata": {
    "scrolled": true
   },
   "outputs": [
    {
     "data": {
      "text/plain": [
       "139        2\n",
       "155        2\n",
       "158        2\n",
       "161        2\n",
       "249      NaN\n",
       "        ... \n",
       "33279    NaN\n",
       "33321    NaN\n",
       "33322    NaN\n",
       "33397    NaN\n",
       "34122    NaN\n",
       "Name: undergraduate_sid, Length: 7198, dtype: object"
      ]
     },
     "execution_count": 15,
     "metadata": {},
     "output_type": "execute_result"
    }
   ],
   "source": [
    "#Check the graduate university degree\n",
    "apply2.undergraduate_sid"
   ]
  },
  {
   "cell_type": "markdown",
   "id": "14a04b1b",
   "metadata": {},
   "source": [
    "### 985\n",
    "- ['undergraduate_sid'] == '1'"
   ]
  },
  {
   "cell_type": "code",
   "execution_count": 17,
   "id": "88c21f79",
   "metadata": {},
   "outputs": [
    {
     "data": {
      "text/plain": [
       "<Figure size 600x600 with 0 Axes>"
      ]
     },
     "metadata": {},
     "output_type": "display_data"
    },
    {
     "data": {
      "image/png": "[encoded data removed]",
      "text/plain": [
       "<Figure size 432x288 with 1 Axes>"
      ]
     },
     "metadata": {},
     "output_type": "display_data"
    }
   ],
   "source": [
    "import numpy as np\n",
    "import pandas as pd\n",
    "import matplotlib.pyplot as plt\n",
    "\n",
    "plt.figure(figsize=(6,6), dpi=100)\n",
    "fig,ax = plt.subplots()\n",
    "\n",
    "x = apply2[apply2['undergraduate_sid'] == '1'].groupby('apply_results')['apply_results'].size()\n",
    "\n",
    "labels=['offer','reject or waiting']\n",
    "colors=['#e8beba','#bdcbdc']\n",
    "pie = ax.pie(x,\n",
    "             startangle=90,\n",
    "             autopct='%1.1f%%',\n",
    "             radius=2.5,\n",
    "             colors=colors,\n",
    "             labels=labels,\n",
    "             textprops={'fontsize': 17, 'color': 'black'},\n",
    "             wedgeprops={'edgecolor': \"black\"},\n",
    "            )\n",
    "\n",
    "plt.title('Proportion of Offer in 985',fontsize=20,pad=150)\n",
    "plt.legend(['offer','reject or waiting'],loc=(-1,1.2),fontsize=20)\n",
    "#plt.savefig('plot15.jpg',dpi=100, bbox_inches='tight')\n",
    "plt.show()"
   ]
  },
  {
   "cell_type": "markdown",
   "id": "5865459e",
   "metadata": {},
   "source": [
    "### 211\n",
    "- ['undergraduate_sid'] == '2'"
   ]
  },
  {
   "cell_type": "code",
   "execution_count": 19,
   "id": "8da627d1",
   "metadata": {},
   "outputs": [
    {
     "data": {
      "text/plain": [
       "<Figure size 600x600 with 0 Axes>"
      ]
     },
     "metadata": {},
     "output_type": "display_data"
    },
    {
     "data": {
      "image/png": "[encoded data removed]",
      "text/plain": [
       "<Figure size 432x288 with 1 Axes>"
      ]
     },
     "metadata": {},
     "output_type": "display_data"
    }
   ],
   "source": [
    "import numpy as np\n",
    "import pandas as pd\n",
    "import matplotlib.pyplot as plt\n",
    "\n",
    "plt.figure(figsize=(6,6), dpi=100)\n",
    "fig,ax = plt.subplots()\n",
    "\n",
    "x = apply2[apply2['undergraduate_sid'] == '2'].groupby('apply_results')['apply_results'].size()\n",
    "\n",
    "labels=['offer','reject or waiting']\n",
    "colors=['#e8beba','#bdcbdc']\n",
    "pie = ax.pie(x,\n",
    "             startangle=90,\n",
    "             autopct='%1.1f%%',\n",
    "             radius=2.5,\n",
    "             colors=colors,\n",
    "             labels=labels,\n",
    "             textprops={'fontsize': 17, 'color': 'black'},\n",
    "             wedgeprops={'edgecolor': \"black\"},\n",
    "            )\n",
    "\n",
    "plt.title('Proportion of Offer in 211',fontsize=20,pad=150)\n",
    "plt.legend(['offer','reject or waiting'],loc=(-1,1.2),fontsize=20)\n",
    "#plt.savefig('plot16.jpg',dpi=100, bbox_inches='tight')\n",
    "plt.show()"
   ]
  },
  {
   "cell_type": "markdown",
   "id": "2369bffd",
   "metadata": {},
   "source": [
    "### neither 985 nor 211\n",
    "- ['undergraduate_sid'] == '3'"
   ]
  },
  {
   "cell_type": "code",
   "execution_count": 20,
   "id": "41a24a4d",
   "metadata": {},
   "outputs": [
    {
     "data": {
      "text/plain": [
       "<Figure size 600x600 with 0 Axes>"
      ]
     },
     "metadata": {},
     "output_type": "display_data"
    },
    {
     "data": {
      "image/png": "[encoded data removed]",
      "text/plain": [
       "<Figure size 432x288 with 1 Axes>"
      ]
     },
     "metadata": {},
     "output_type": "display_data"
    }
   ],
   "source": [
    "import numpy as np\n",
    "import pandas as pd\n",
    "import matplotlib.pyplot as plt\n",
    "\n",
    "plt.figure(figsize=(6,6), dpi=100)\n",
    "fig,ax = plt.subplots()\n",
    "\n",
    "x = apply2[apply2['undergraduate_sid'] == '3'].groupby('apply_results')['apply_results'].size()\n",
    "\n",
    "labels=['offer','reject or waiting']\n",
    "colors=['#e8beba','#bdcbdc']\n",
    "pie = ax.pie(x,\n",
    "             startangle=90,\n",
    "             autopct='%1.1f%%',\n",
    "             radius=2.5,\n",
    "             colors=colors,\n",
    "             labels=labels,\n",
    "             textprops={'fontsize': 17, 'color': 'black'},\n",
    "             wedgeprops={'edgecolor': \"black\"},\n",
    "            )\n",
    "\n",
    "plt.title('Proportion of Offer in neither 985 nor 211',fontsize=20,pad=150)\n",
    "plt.legend(['offer','reject or waiting'],loc=(-1,1.2),fontsize=20)\n",
    "#plt.savefig('plot17.jpg',dpi=100, bbox_inches='tight')\n",
    "plt.show()"
   ]
  }
 ],
 "metadata": {
  "kernelspec": {
   "display_name": "Python 3",
   "language": "python",
   "name": "python3"
  },
  "language_info": {
   "codemirror_mode": {
    "name": "ipython",
    "version": 3
   },
   "file_extension": ".py",
   "mimetype": "text/x-python",
   "name": "python",
   "nbconvert_exporter": "python",
   "pygments_lexer": "ipython3",
   "version": "3.8.8"
  }
 },
 "nbformat": 4,
 "nbformat_minor": 5
}
