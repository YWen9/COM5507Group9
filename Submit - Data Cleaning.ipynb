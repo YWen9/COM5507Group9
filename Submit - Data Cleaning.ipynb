{
 "cells": [
  {
   "cell_type": "markdown",
   "id": "12894577",
   "metadata": {},
   "source": [
    "# Preparation: Combine Dataset\n",
    "\n",
    "- We've alrealy got several csv files, in which 500 pages are stored in each file. \n",
    "- Now, we'll combine all these csv files to 'combined_data.csv'."
   ]
  },
  {
   "cell_type": "code",
   "execution_count": null,
   "id": "237d0fed",
   "metadata": {},
   "outputs": [],
   "source": [
    "import os\n",
    "import glob\n",
    "import pandas as pd\n",
    "\n",
    "#find all the csv files under the same folder and put them in the all_csv_list\n",
    "all_csv='csv'\n",
    "all_csv_list=[i for i in glob.glob('*.{}'.format(all_csv))]   \n",
    "\n",
    "#combine the csv files in all_csv_list\n",
    "combined_csv = pd.concat([pd.read_csv(i) for i in all_csv_list])     \n",
    "combined_csv.to_csv(\"combined_data.csv\", index=False)"
   ]
  },
  {
   "cell_type": "markdown",
   "id": "b5ff6897",
   "metadata": {},
   "source": [
    "# Data Cleaning"
   ]
  },
  {
   "cell_type": "code",
   "execution_count": 99,
   "id": "3e6b9f6b",
   "metadata": {},
   "outputs": [],
   "source": [
    "df = pd.read_csv('combined_data.csv')"
   ]
  },
  {
   "cell_type": "markdown",
   "id": "6a0028b4",
   "metadata": {},
   "source": [
    "## (1) Delete empty data & repeated data"
   ]
  },
  {
   "cell_type": "code",
   "execution_count": 100,
   "id": "7a0f51d1",
   "metadata": {},
   "outputs": [
    {
     "data": {
      "text/plain": [
       "True"
      ]
     },
     "execution_count": 100,
     "metadata": {},
     "output_type": "execute_result"
    }
   ],
   "source": [
    "df = df[~df[\"id\"].isin([\"none\"])]\n",
    "df = df.drop_duplicates(subset=['id'], keep='first')\n",
    "df['id'].is_unique"
   ]
  },
  {
   "cell_type": "markdown",
   "id": "eaa82fdd",
   "metadata": {},
   "source": [
    "## (2)Add unique index: 'case'"
   ]
  },
  {
   "cell_type": "code",
   "execution_count": 101,
   "id": "d06ea92a",
   "metadata": {},
   "outputs": [
    {
     "data": {
      "text/plain": [
       "Index(['Unnamed: 0', 'id', 'uniqid', 'schoolname', 'professional', 'countries',\n",
       "       'sid', 'pid', 'nid', 'offer_id', 'uid', 'degree', 'degree_other',\n",
       "       'apply_results', 'apply_lang', 'year', 'timestamp', 'updatetime',\n",
       "       'semester', 'notice_time', 'vieworder', 'state', 'urls', 'toefl', 'gre',\n",
       "       'ielts', 'ptea', 'sub', 'gmat', 'undergraduate_subject',\n",
       "       'undergraduate_sid', 'undergraduate_gpa', 'graduate_subject', 'case'],\n",
       "      dtype='object')"
      ]
     },
     "execution_count": 101,
     "metadata": {},
     "output_type": "execute_result"
    }
   ],
   "source": [
    "df['case'] = range(len(df))\n",
    "df.index = df['case']\n",
    "df.columns"
   ]
  },
  {
   "cell_type": "markdown",
   "id": "73f48b6f",
   "metadata": {},
   "source": [
    "## (3) Timestamp conversion:\n",
    "convert 'notice_time' to：\n",
    "  - 'time_year'\n",
    "  - 'time_month\n",
    "  - 'time_day'"
   ]
  },
  {
   "cell_type": "code",
   "execution_count": 102,
   "id": "822672e0",
   "metadata": {},
   "outputs": [],
   "source": [
    "df.to_csv('clean1.csv')"
   ]
  },
  {
   "cell_type": "code",
   "execution_count": 103,
   "id": "e1633090",
   "metadata": {},
   "outputs": [
    {
     "name": "stderr",
     "output_type": "stream",
     "text": [
      "/Users/yangpeiwen/opt/anaconda3/lib/python3.8/site-packages/IPython/core/interactiveshell.py:3165: DtypeWarning: Columns (3) have mixed types.Specify dtype option on import or set low_memory=False.\n",
      "  has_raised = await self.run_ast_nodes(code_ast.body, cell_name,\n"
     ]
    }
   ],
   "source": [
    "df = pd.read_csv('clean1.csv')\n",
    "# make sure: type(df['notice_time'][i]) - int64, otherwise - str"
   ]
  },
  {
   "cell_type": "code",
   "execution_count": 104,
   "id": "f0e24fb9",
   "metadata": {},
   "outputs": [],
   "source": [
    "import time\n",
    "\n",
    "time_year = []\n",
    "time_month = []\n",
    "time_day = []\n",
    "\n",
    "#year\n",
    "for i in range(len(df)):\n",
    "    timeArray= time.localtime(df['notice_time'][i])\n",
    "    #otherStyleTime = time.strftime(\"%Y-%m-%d %H:%M:%S\", timeArray)\n",
    "    otherStyleTime = time.strftime(\"%Y\", timeArray)\n",
    "    time_year.append(otherStyleTime)\n",
    "    #print(type(otherStyleTime)) -> str\n",
    "\n",
    "#month\n",
    "for i in range(len(df)):\n",
    "    timeArray= time.localtime(df['notice_time'][i])\n",
    "    otherStyleTime = time.strftime(\"%m\", timeArray)\n",
    "    time_month.append(otherStyleTime)\n",
    "    \n",
    "#day\n",
    "for i in range(len(df)):\n",
    "    timeArray= time.localtime(df['notice_time'][i])\n",
    "    otherStyleTime = time.strftime(\"%d\", timeArray)\n",
    "    time_day.append(otherStyleTime)\n",
    "    \n",
    "df.insert(len(df.columns), 'time_year', time_year)  \n",
    "df.insert(len(df.columns), 'time_month', time_month)  \n",
    "df.insert(len(df.columns), 'time_day', time_day) "
   ]
  },
  {
   "cell_type": "code",
   "execution_count": 105,
   "id": "586f1a42",
   "metadata": {},
   "outputs": [
    {
     "data": {
      "text/plain": [
       "Index(['case', 'Unnamed: 0', 'id', 'uniqid', 'schoolname', 'professional',\n",
       "       'countries', 'sid', 'pid', 'nid', 'offer_id', 'uid', 'degree',\n",
       "       'degree_other', 'apply_results', 'apply_lang', 'year', 'timestamp',\n",
       "       'updatetime', 'semester', 'notice_time', 'vieworder', 'state', 'urls',\n",
       "       'toefl', 'gre', 'ielts', 'ptea', 'sub', 'gmat', 'undergraduate_subject',\n",
       "       'undergraduate_sid', 'undergraduate_gpa', 'graduate_subject', 'case.1',\n",
       "       'time_year', 'time_month', 'time_day'],\n",
       "      dtype='object')"
      ]
     },
     "execution_count": 105,
     "metadata": {},
     "output_type": "execute_result"
    }
   ],
   "source": [
    "df.columns"
   ]
  },
  {
   "cell_type": "markdown",
   "id": "f312517e",
   "metadata": {},
   "source": [
    "## (4) Delete useless Columns & Rows"
   ]
  },
  {
   "cell_type": "code",
   "execution_count": 106,
   "id": "e9370f89",
   "metadata": {},
   "outputs": [],
   "source": [
    "df.to_csv('clean2.csv')"
   ]
  },
  {
   "cell_type": "code",
   "execution_count": 107,
   "id": "0442c130",
   "metadata": {},
   "outputs": [
    {
     "name": "stderr",
     "output_type": "stream",
     "text": [
      "/Users/yangpeiwen/opt/anaconda3/lib/python3.8/site-packages/IPython/core/interactiveshell.py:3165: DtypeWarning: Columns (4) have mixed types.Specify dtype option on import or set low_memory=False.\n",
      "  has_raised = await self.run_ast_nodes(code_ast.body, cell_name,\n"
     ]
    }
   ],
   "source": [
    "df = pd.read_csv('clean2.csv')\n",
    "# make sure: type(df['time_year'][i]) - int64, otherwise - str"
   ]
  },
  {
   "cell_type": "code",
   "execution_count": 108,
   "id": "5e750640",
   "metadata": {
    "scrolled": false
   },
   "outputs": [],
   "source": [
    "# delete useless columns\n",
    "df = df.drop(columns=['uniqid','pid','nid','offer_id','degree_other','apply_lang','timestamp','updatetime','vieworder','state','undergraduate_subject','toefl','gre','ptea','sub','gmat','undergraduate_gpa','graduate_subject'])\n",
    "\n",
    "# delete useless raws\n",
    "df = df.drop(df[(df.time_year < 2015)].index)"
   ]
  },
  {
   "cell_type": "code",
   "execution_count": 109,
   "id": "7199f079",
   "metadata": {},
   "outputs": [
    {
     "data": {
      "text/plain": [
       "Index(['Unnamed: 0', 'case', 'Unnamed: 0.1', 'id', 'schoolname',\n",
       "       'professional', 'countries', 'sid', 'uid', 'degree', 'apply_results',\n",
       "       'year', 'semester', 'notice_time', 'urls', 'ielts', 'undergraduate_sid',\n",
       "       'case.1', 'time_year', 'time_month', 'time_day'],\n",
       "      dtype='object')"
      ]
     },
     "execution_count": 109,
     "metadata": {},
     "output_type": "execute_result"
    }
   ],
   "source": [
    "df.columns"
   ]
  },
  {
   "cell_type": "markdown",
   "id": "bae78066",
   "metadata": {},
   "source": [
    "## (5) Split 'ielts' -> get 'ieltsz'\n",
    "'ieltsz': total grade of IELTS"
   ]
  },
  {
   "cell_type": "code",
   "execution_count": 110,
   "id": "6ba8ae8f",
   "metadata": {
    "scrolled": true
   },
   "outputs": [
    {
     "data": {
      "text/plain": [
       "0    {'r': '7', 'l': '7', 's': '6', 'w': '7', 'z': ...\n",
       "1    {'r': '8.0', 'l': '7.5', 's': '5.5', 'w': '6.0...\n",
       "2        {'r': '', 'l': '', 's': '', 'w': '', 'z': ''}\n",
       "3        {'r': '', 'l': '', 's': '', 'w': '', 'z': ''}\n",
       "4        {'r': '', 'l': '', 's': '', 'w': '', 'z': ''}\n",
       "Name: ielts, dtype: object"
      ]
     },
     "execution_count": 110,
     "metadata": {},
     "output_type": "execute_result"
    }
   ],
   "source": [
    "df['ielts'].head(5)"
   ]
  },
  {
   "cell_type": "code",
   "execution_count": 111,
   "id": "5fecf4b9",
   "metadata": {},
   "outputs": [],
   "source": [
    "ielts_r = []\n",
    "ielts_l = []\n",
    "ielts_s = []\n",
    "ielts_w = []\n",
    "ielts_z = []\n",
    "\n",
    "for i in range(len(df)):     \n",
    "    a = []\n",
    "    br = []\n",
    "    bl = []\n",
    "    bs = []\n",
    "    bw = []\n",
    "    bz = []\n",
    "    cr = []\n",
    "    cl = []\n",
    "    cs = []\n",
    "    cw = []\n",
    "    cz = []\n",
    "    \n",
    "    try:\n",
    "        item = df['ielts'][i]\n",
    "        #print(item)\n",
    "        a = item.split(\",\")\n",
    "\n",
    "        br = a[0].split(\":\")\n",
    "        bl = a[1].split(\":\")\n",
    "        bs = a[2].split(\":\")\n",
    "        bw = a[3].split(\":\")\n",
    "        bz = a[4].split(\":\")\n",
    "\n",
    "        cr = br[1].strip(\" ' \")\n",
    "        cl = bl[1].strip(\" ' \")\n",
    "        cs = bs[1].strip(\" ' \")\n",
    "        cw = bw[1].strip(\" ' \")\n",
    "        cz = bz[1].strip(\" ' \").strip(\" } \").strip(\" ' \")\n",
    "    \n",
    "        ielts_r.append(cr)\n",
    "        ielts_l.append(cl)\n",
    "        ielts_s.append(cs)\n",
    "        ielts_w.append(cw)\n",
    "        ielts_z.append(cz)\n",
    "    \n",
    "    except:\n",
    "        cr = 'none'\n",
    "        cl = 'none'\n",
    "        cs = 'none'\n",
    "        cw = 'none'\n",
    "        cz = 'none'\n",
    "    \n",
    "        ielts_r.append(cr)\n",
    "        ielts_l.append(cl)\n",
    "        ielts_s.append(cs)\n",
    "        ielts_w.append(cw)\n",
    "        ielts_z.append(cz)"
   ]
  },
  {
   "cell_type": "code",
   "execution_count": 112,
   "id": "49c8510f",
   "metadata": {
    "scrolled": true
   },
   "outputs": [
    {
     "data": {
      "text/html": [
       "<div>\n",
       "<style scoped>\n",
       "    .dataframe tbody tr th:only-of-type {\n",
       "        vertical-align: middle;\n",
       "    }\n",
       "\n",
       "    .dataframe tbody tr th {\n",
       "        vertical-align: top;\n",
       "    }\n",
       "\n",
       "    .dataframe thead th {\n",
       "        text-align: right;\n",
       "    }\n",
       "</style>\n",
       "<table border=\"1\" class=\"dataframe\">\n",
       "  <thead>\n",
       "    <tr style=\"text-align: right;\">\n",
       "      <th></th>\n",
       "      <th>IELTS_R</th>\n",
       "      <th>IELTS_L</th>\n",
       "      <th>IELTS_S</th>\n",
       "      <th>IELTS_W</th>\n",
       "      <th>IELTS_Z</th>\n",
       "    </tr>\n",
       "  </thead>\n",
       "  <tbody>\n",
       "    <tr>\n",
       "      <th>0</th>\n",
       "      <td>7</td>\n",
       "      <td>7</td>\n",
       "      <td>6</td>\n",
       "      <td>7</td>\n",
       "      <td>7</td>\n",
       "    </tr>\n",
       "    <tr>\n",
       "      <th>1</th>\n",
       "      <td>8.0</td>\n",
       "      <td>7.5</td>\n",
       "      <td>5.5</td>\n",
       "      <td>6.0</td>\n",
       "      <td>7</td>\n",
       "    </tr>\n",
       "    <tr>\n",
       "      <th>2</th>\n",
       "      <td></td>\n",
       "      <td></td>\n",
       "      <td></td>\n",
       "      <td></td>\n",
       "      <td></td>\n",
       "    </tr>\n",
       "    <tr>\n",
       "      <th>3</th>\n",
       "      <td></td>\n",
       "      <td></td>\n",
       "      <td></td>\n",
       "      <td></td>\n",
       "      <td></td>\n",
       "    </tr>\n",
       "    <tr>\n",
       "      <th>4</th>\n",
       "      <td></td>\n",
       "      <td></td>\n",
       "      <td></td>\n",
       "      <td></td>\n",
       "      <td></td>\n",
       "    </tr>\n",
       "  </tbody>\n",
       "</table>\n",
       "</div>"
      ],
      "text/plain": [
       "  IELTS_R IELTS_L IELTS_S IELTS_W IELTS_Z\n",
       "0       7       7       6       7       7\n",
       "1     8.0     7.5     5.5     6.0       7\n",
       "2                                        \n",
       "3                                        \n",
       "4                                        "
      ]
     },
     "execution_count": 112,
     "metadata": {},
     "output_type": "execute_result"
    }
   ],
   "source": [
    "data_ielts = {\n",
    "    'IELTS_R': ielts_r,\n",
    "    'IELTS_L': ielts_l,\n",
    "    'IELTS_S': ielts_s,\n",
    "    'IELTS_W': ielts_w,\n",
    "    'IELTS_Z': ielts_z\n",
    "}\n",
    "\n",
    "pd_data_ielts = pd.DataFrame.from_dict(data_ielts)\n",
    "pd_data_ielts.head(5)"
   ]
  },
  {
   "cell_type": "code",
   "execution_count": null,
   "id": "a14ca621",
   "metadata": {},
   "outputs": [],
   "source": [
    "pd_data_ielts.to_csv('data_for_ielts.csv')"
   ]
  },
  {
   "cell_type": "code",
   "execution_count": null,
   "id": "7d909974",
   "metadata": {},
   "outputs": [],
   "source": [
    "# Manual cleaning with data_for_ielts.csv"
   ]
  },
  {
   "cell_type": "code",
   "execution_count": 113,
   "id": "a056884d",
   "metadata": {},
   "outputs": [],
   "source": [
    "dfielts = pd.read_csv('data_for_ielts.csv')"
   ]
  },
  {
   "cell_type": "code",
   "execution_count": 114,
   "id": "4cb4f856",
   "metadata": {},
   "outputs": [],
   "source": [
    "# insert 'ieltsz' into df\n",
    "df.insert(len(df.columns), 'ieltsz', dfielts['IELTS_Z']) "
   ]
  },
  {
   "cell_type": "code",
   "execution_count": 115,
   "id": "6d893c96",
   "metadata": {},
   "outputs": [
    {
     "data": {
      "text/plain": [
       "Index(['Unnamed: 0', 'case', 'Unnamed: 0.1', 'id', 'schoolname',\n",
       "       'professional', 'countries', 'sid', 'uid', 'degree', 'apply_results',\n",
       "       'year', 'semester', 'notice_time', 'urls', 'ielts', 'undergraduate_sid',\n",
       "       'case.1', 'time_year', 'time_month', 'time_day', 'ieltsz'],\n",
       "      dtype='object')"
      ]
     },
     "execution_count": 115,
     "metadata": {},
     "output_type": "execute_result"
    }
   ],
   "source": [
    "df.columns"
   ]
  },
  {
   "cell_type": "markdown",
   "id": "df9d54cd",
   "metadata": {},
   "source": [
    "## (6) Tagging: 'apply_results'\n",
    "- 0 - reject\n",
    "- 1 - offer\n",
    "- 2 - waiting"
   ]
  },
  {
   "cell_type": "code",
   "execution_count": 116,
   "id": "ec6c17d7",
   "metadata": {
    "scrolled": true
   },
   "outputs": [
    {
     "data": {
      "text/plain": [
       "1    36146\n",
       "3    28221\n",
       "4    14535\n",
       "2     7813\n",
       "5     2056\n",
       "Name: apply_results, dtype: int64"
      ]
     },
     "execution_count": 116,
     "metadata": {},
     "output_type": "execute_result"
    }
   ],
   "source": [
    "#Original tags: 1-offer; 2-AD小奖; 3-AD无奖; 4-被拒; 5-waiting list\n",
    "df.apply_results.value_counts()"
   ]
  },
  {
   "cell_type": "code",
   "execution_count": 117,
   "id": "5c74ce10",
   "metadata": {},
   "outputs": [],
   "source": [
    "df['apply_results'].replace(4, 0, inplace=True)"
   ]
  },
  {
   "cell_type": "code",
   "execution_count": 118,
   "id": "d9c54275",
   "metadata": {},
   "outputs": [],
   "source": [
    "df['apply_results'].replace([1, 2, 3], 1, inplace=True)"
   ]
  },
  {
   "cell_type": "code",
   "execution_count": 119,
   "id": "a534b53f",
   "metadata": {},
   "outputs": [],
   "source": [
    "df['apply_results'].replace(5, 2, inplace=True)"
   ]
  },
  {
   "cell_type": "code",
   "execution_count": 120,
   "id": "7576d734",
   "metadata": {
    "scrolled": true
   },
   "outputs": [
    {
     "data": {
      "text/plain": [
       "1    72180\n",
       "0    14535\n",
       "2     2056\n",
       "Name: apply_results, dtype: int64"
      ]
     },
     "execution_count": 120,
     "metadata": {},
     "output_type": "execute_result"
    }
   ],
   "source": [
    "df.apply_results.value_counts()"
   ]
  },
  {
   "cell_type": "code",
   "execution_count": 121,
   "id": "0a371a0b",
   "metadata": {},
   "outputs": [],
   "source": [
    "df.to_csv('clean3.csv')"
   ]
  },
  {
   "cell_type": "markdown",
   "id": "ba06a9aa",
   "metadata": {},
   "source": [
    "## (7) Tagging: 'undergraduate_sid'\n",
    "- 1 - 985\n",
    "- 2 - 211\n",
    "- 3 - neither 985 or 211"
   ]
  },
  {
   "cell_type": "markdown",
   "id": "899b1158",
   "metadata": {},
   "source": [
    "### ① Crawl the List of 985 Universities"
   ]
  },
  {
   "cell_type": "code",
   "execution_count": 24,
   "id": "743e0a54",
   "metadata": {},
   "outputs": [],
   "source": [
    "#Crawl the List of 985 Universities\n",
    "from lxml import etree\n",
    "from selenium import webdriver\n",
    "import time\n",
    "\n",
    "sch985 = []\n",
    "\n",
    "bro = webdriver.Chrome(executable_path='/Users/yangpeiwen/Desktop/semesterA/Day3/groupwork/chromedriver')\n",
    "#bro = webdriver.Chrome(executable_path='YOUR PATH')\n",
    "url = 'https://daxue.eol.cn/985.shtml'\n",
    "bro.get(url)\n",
    "time.sleep(2)\n",
    "page_text = bro.page_source\n",
    "\n",
    "tree = etree.HTML(page_text)\n",
    "div_list = tree.xpath('/html/body/div[3]/div[2]/div[2]/table/tbody/tr')\n",
    "for div in div_list:\n",
    "    try:\n",
    "        sch = div.xpath('./td[2]/a/text()')[0]\n",
    "    except:\n",
    "        sch = div.xpath('./td[1]/a/text()')[0]\n",
    "    sch985.append(sch)"
   ]
  },
  {
   "cell_type": "markdown",
   "id": "c4c1f67d",
   "metadata": {},
   "source": [
    "### ② Crawl the List of 211 Universities"
   ]
  },
  {
   "cell_type": "code",
   "execution_count": 25,
   "id": "7bcd05e0",
   "metadata": {},
   "outputs": [],
   "source": [
    "#Crawl the List of 211 Universities\n",
    "from lxml import etree\n",
    "from selenium import webdriver\n",
    "import time\n",
    "\n",
    "sch211 = []\n",
    "\n",
    "bro = webdriver.Chrome(executable_path='/Users/yangpeiwen/Desktop/semesterA/Day3/groupwork/chromedriver')\n",
    "#bro = webdriver.Chrome(executable_path='YOUR PATH')\n",
    "url = 'https://daxue.eol.cn/211.shtml'\n",
    "bro.get(url)\n",
    "time.sleep(2)\n",
    "page_text = bro.page_source\n",
    "\n",
    "tree = etree.HTML(page_text)\n",
    "div_list = tree.xpath('/html/body/div[3]/div[2]/div[3]/table/tbody/tr')\n",
    "for div in div_list:\n",
    "    try:\n",
    "        sch = div.xpath('./td[2]/a/text()')[0]\n",
    "    except:\n",
    "        sch = div.xpath('./td[1]/a/text()')[0]\n",
    "    sch211.append(sch)"
   ]
  },
  {
   "cell_type": "markdown",
   "id": "99c730d6",
   "metadata": {},
   "source": [
    "### ③ Supplementary the Lists"
   ]
  },
  {
   "cell_type": "code",
   "execution_count": 26,
   "id": "c47dbaf0",
   "metadata": {},
   "outputs": [],
   "source": [
    "#neither 985 or 211\n",
    "schneither = ['双非','长沙理工大学','华东政法大学','西南政法大学','南方科技大学','北京建筑大学','双非一本','南方科技大学','北京建筑大学','深圳大学','华南农业大学','北京电影学院','上海对外经贸大学','外交学院','西安建筑科技大学','北京语言大学','中国科技大学','南京林业大学','青岛大学','西北政法大学','南京信息工程大学','中国科学院大学/ 丹麦哥本哈根大学','一本双非',' 山东财经大学',' 华东政法大学','中央美术学院','中科院','广东工业大学','国内中外合办大学','华政','科学院','南方医科大学','南京工业大学','沈阳体育学院','四川外国语大学','四川美术学院','浙江工业大学','中国科学院大学','中科院某研究所','北京第二外国语学院','北京师范大学珠海分校','东北财经大学','中科院地理所','一本双非','依然双非','浙江传媒','浙江传媒学院','西政','西南政法','西北政法大学','天津体育学院','四川大学锦城学院','广东外语外贸大学','河南科技大学','华侨大学','空军工程大学','南京信息工程大学','中国戏曲学院','中国民航大学','西南林业大学','扬州大学','双非二本','首都师范大学','山西大学','沈阳建筑大学','山东科技大学','青岛大学','青岛理工大学',' 深圳大学','安徽财经大学','安徽农业大学','非985，非211，','二流大学','福建工程学院','湖北工业大学','河北科技师范学院','南京邮电大学','普通二本','天津大学仁爱学院','四川外国语大学（非211，985）','西安外国语大学','宁波诺丁汉大学','华北计算技术研究所','国际关系学院','北京工商大学嘉华学院']\n",
    "\n",
    "#985\n",
    "add985 = ['985&211','211/985','G5','哈尔滨工业大学（威海）','哈工大','国内985','中流985','北京师范大学-香港浸会大学联合国际学院',' 中国人民大学',' 北京航空航天大学','HKUST','北京大学','985', ' 东北大学',' 浙江大学','北航','Top 20 985','中上985','211，985',' 复旦大学','985211','985，211',' 清华大学',' 四川大学','211&985','985 & 211','985/211','wuhan university','Xiamen Univerisity','北大/清华/人大/复旦','某前十985','清/北/人/复/交','清北复交','浙江大学 211 & 985','浙大/电子科大/哈工大',' 上海交通大学','C9','SYSU','复旦','中山大学， The Hong Kong Polytechnic University','中興大學（台灣）／同濟大學','浙大/复旦/南大/南开/武大/华中科大/上海交大/天大','西北工业大学 985',' 吉林大学',' 华中科技大学','985+211','985， 双一流','RUC','复旦/浙大/南大/交大/南开/武大/川大','哈工大威海','南京大学约翰·霍普金斯大学中美文化研究中心','清华',' 哈尔滨工业大学（威海）',' 厦门大学','985 211','THU','WHU','北清科武复交','末流985','人大','普通理工科985','211985']\n",
    "sch985.extend(add985)\n",
    "\n",
    "#211\n",
    "add211 = ['211','普通211',' 华南农业大学','212',' 苏州大学',' 中国政法大学','双非一本  省属211','一线城市211','中国政法大学/211',' 暨南大学',' 天津医科大学','211高校','211院校','211法学院','南京师范大学211','211大学','北邮','北邮+伦敦玛丽女王大学','北京邮电大学+QMUL','中部某女子师范211','中南财经政法大学+滑铁卢大学（2+2）']\n",
    "sch211.extend(add211)"
   ]
  },
  {
   "cell_type": "markdown",
   "id": "d744cf7a",
   "metadata": {},
   "source": [
    "### ④ Tagging"
   ]
  },
  {
   "cell_type": "code",
   "execution_count": 122,
   "id": "c7157e08",
   "metadata": {},
   "outputs": [],
   "source": [
    "df = pd.read_csv('clean3.csv')"
   ]
  },
  {
   "cell_type": "code",
   "execution_count": 123,
   "id": "2497ac08",
   "metadata": {
    "scrolled": false
   },
   "outputs": [
    {
     "name": "stderr",
     "output_type": "stream",
     "text": [
      "<ipython-input-123-cc5510a5a4e6>:10: SettingWithCopyWarning: \n",
      "A value is trying to be set on a copy of a slice from a DataFrame\n",
      "\n",
      "See the caveats in the documentation: https://pandas.pydata.org/pandas-docs/stable/user_guide/indexing.html#returning-a-view-versus-a-copy\n",
      "  df['undergraduate_sid'][i] = '3'\n",
      "<ipython-input-123-cc5510a5a4e6>:8: SettingWithCopyWarning: \n",
      "A value is trying to be set on a copy of a slice from a DataFrame\n",
      "\n",
      "See the caveats in the documentation: https://pandas.pydata.org/pandas-docs/stable/user_guide/indexing.html#returning-a-view-versus-a-copy\n",
      "  df['undergraduate_sid'][i] = '2'\n",
      "<ipython-input-123-cc5510a5a4e6>:5: SettingWithCopyWarning: \n",
      "A value is trying to be set on a copy of a slice from a DataFrame\n",
      "\n",
      "See the caveats in the documentation: https://pandas.pydata.org/pandas-docs/stable/user_guide/indexing.html#returning-a-view-versus-a-copy\n",
      "  df['undergraduate_sid'][i] = '1'\n"
     ]
    }
   ],
   "source": [
    "#1 - 985; 2 - 211; 3 - neither 985 or 211\n",
    "\n",
    "for i in range(len(df)):\n",
    "    if df['undergraduate_sid'][i] in sch985:\n",
    "        df['undergraduate_sid'][i] = '1'\n",
    "        #df['undergraduate_sid'][i].replace(df['undergraduate_sid'][i],'1')\n",
    "    if df['undergraduate_sid'][i] in sch211:\n",
    "        df['undergraduate_sid'][i] = '2'\n",
    "    if df['undergraduate_sid'][i] in schneither:\n",
    "        df['undergraduate_sid'][i] = '3'"
   ]
  },
  {
   "cell_type": "code",
   "execution_count": 124,
   "id": "d9578103",
   "metadata": {
    "scrolled": true
   },
   "outputs": [
    {
     "data": {
      "text/plain": [
       "2                                             18175\n",
       "3                                              6975\n",
       "1                                              2377\n",
       "香港中文大学                                           76\n",
       "The Chinese University of Hong Kong              60\n",
       "美研                                               40\n",
       "City University of Hong Kong                     39\n",
       "美本                                               38\n",
       "香港大学                                             38\n",
       "University of Toronto                            37\n",
       "University College London                        37\n",
       "CUHK                                             37\n",
       "University of Auckland                           36\n",
       "UWM                                              32\n",
       "HKU                                              31\n",
       "Columbia University                              30\n",
       "美国                                               28\n",
       "National University of Singapore                 27\n",
       "UW-Madison                                       26\n",
       "美硕                                               25\n",
       "香港理工大学                                           25\n",
       "新加坡国立大学                                          24\n",
       "香港科技大学                                           24\n",
       "Carnegie Mellon University                       23\n",
       "UCL                                              22\n",
       "Texas Tech U                                     22\n",
       "东京大学                                             21\n",
       "Imperial College London                          21\n",
       "香港浸会大学                                           21\n",
       "KU Leuven                                        21\n",
       "University of Illinois at Urbana-Champaign       20\n",
       "ECUPL                                            19\n",
       "university of stirling                           18\n",
       "University of Edinburgh                          18\n",
       "UCSD                                             17\n",
       "NUS                                              17\n",
       "国外院校                                             17\n",
       "The University of Hong Kong                      17\n",
       "Columbia University                              17\n",
       "香港城市大学                                           17\n",
       "University of Southern California                16\n",
       "University of Michigan                           16\n",
       "西交利物浦大学                                          16\n",
       "美本（文理）                                           15\n",
       "HK某校                                             15\n",
       "UCLA                                             15\n",
       "York University                                  14\n",
       "Simon Fraser University                          14\n",
       "HKUST; 北京大学                                      14\n",
       "University of Hong Kong                          14\n",
       "Hong Kong Baptist University                     14\n",
       "海外院校                                             14\n",
       "利兹大学                                             14\n",
       "UIUC                                             14\n",
       "University of Wisconsin-Madison                  14\n",
       "华威大学                                             13\n",
       "University of California, San Diego              13\n",
       "芝加哥大学                                            13\n",
       "Ivy                                              13\n",
       "英国G5                                             13\n",
       "Name: undergraduate_sid, dtype: int64"
      ]
     },
     "execution_count": 124,
     "metadata": {},
     "output_type": "execute_result"
    }
   ],
   "source": [
    "df.undergraduate_sid.value_counts().head(60)"
   ]
  },
  {
   "cell_type": "code",
   "execution_count": 125,
   "id": "4dddac8a",
   "metadata": {},
   "outputs": [],
   "source": [
    "df.to_csv('data_clean.csv')"
   ]
  },
  {
   "cell_type": "markdown",
   "id": "4717b512",
   "metadata": {},
   "source": [
    "# Please be noticed that:"
   ]
  },
  {
   "cell_type": "markdown",
   "id": "38aede27",
   "metadata": {},
   "source": [
    "### we used this 'data_clean.csv' file above as the data source for most of our data visualization. \n",
    "### However, some of the visualization was drawn using another file ('index_new_time.csv') as the data source, and the process of how to get that file will be shown later."
   ]
  },
  {
   "cell_type": "markdown",
   "id": "d6655663",
   "metadata": {},
   "source": [
    "### Please rest assured that there's no essential difference between these two files. The only difference are the number of reserved columns, the order of the colums and the number of reserved rows."
   ]
  },
  {
   "cell_type": "markdown",
   "id": "ff1664a9",
   "metadata": {},
   "source": [
    "### In other words, compared to 'data_clean.csv', the 'index_new_time.csv' can be regarded as a not fully processed file, and the missing cleaning process will be supplemented in the visualization process with the same processing criteria if we use this file rather than 'data_clean.csv'."
   ]
  },
  {
   "cell_type": "markdown",
   "id": "a1f4cd39",
   "metadata": {},
   "source": [
    " ### Here shows the process of how to get 'index_new_time.csv'："
   ]
  },
  {
   "cell_type": "code",
   "execution_count": 13,
   "id": "6987cf32",
   "metadata": {},
   "outputs": [],
   "source": [
    "import pandas as pd"
   ]
  },
  {
   "cell_type": "code",
   "execution_count": 14,
   "id": "c284620b",
   "metadata": {},
   "outputs": [],
   "source": [
    "df = pd.read_csv('combined_data.csv')"
   ]
  },
  {
   "cell_type": "code",
   "execution_count": 15,
   "id": "833d9279",
   "metadata": {},
   "outputs": [
    {
     "data": {
      "text/plain": [
       "True"
      ]
     },
     "execution_count": 15,
     "metadata": {},
     "output_type": "execute_result"
    }
   ],
   "source": [
    "df = df[~df[\"id\"].isin([\"none\"])]\n",
    "df = df.drop_duplicates(subset=['id'], keep='first')\n",
    "df['id'].is_unique"
   ]
  },
  {
   "cell_type": "code",
   "execution_count": 17,
   "id": "d424df10",
   "metadata": {},
   "outputs": [
    {
     "data": {
      "text/html": [
       "<div>\n",
       "<style scoped>\n",
       "    .dataframe tbody tr th:only-of-type {\n",
       "        vertical-align: middle;\n",
       "    }\n",
       "\n",
       "    .dataframe tbody tr th {\n",
       "        vertical-align: top;\n",
       "    }\n",
       "\n",
       "    .dataframe thead th {\n",
       "        text-align: right;\n",
       "    }\n",
       "</style>\n",
       "<table border=\"1\" class=\"dataframe\">\n",
       "  <thead>\n",
       "    <tr style=\"text-align: right;\">\n",
       "      <th></th>\n",
       "      <th>Unnamed: 0</th>\n",
       "      <th>id</th>\n",
       "      <th>uniqid</th>\n",
       "      <th>schoolname</th>\n",
       "      <th>professional</th>\n",
       "      <th>countries</th>\n",
       "      <th>sid</th>\n",
       "      <th>pid</th>\n",
       "      <th>nid</th>\n",
       "      <th>offer_id</th>\n",
       "      <th>...</th>\n",
       "      <th>gre</th>\n",
       "      <th>ielts</th>\n",
       "      <th>ptea</th>\n",
       "      <th>sub</th>\n",
       "      <th>gmat</th>\n",
       "      <th>undergraduate_subject</th>\n",
       "      <th>undergraduate_sid</th>\n",
       "      <th>undergraduate_gpa</th>\n",
       "      <th>graduate_subject</th>\n",
       "      <th>case</th>\n",
       "    </tr>\n",
       "  </thead>\n",
       "  <tbody>\n",
       "    <tr>\n",
       "      <th>0</th>\n",
       "      <td>0</td>\n",
       "      <td>120433</td>\n",
       "      <td>aWGCambCyvPv</td>\n",
       "      <td>The Chinese University of Hong Kong</td>\n",
       "      <td>Master of Comparative and Public History</td>\n",
       "      <td>香港</td>\n",
       "      <td>308</td>\n",
       "      <td>0</td>\n",
       "      <td>951</td>\n",
       "      <td>43964</td>\n",
       "      <td>...</td>\n",
       "      <td>{'v': '', 'q': '', 'aw': '', 'z': ''}</td>\n",
       "      <td>{'r': '7', 'l': '7', 's': '6', 'w': '7', 'z': ...</td>\n",
       "      <td>{'r': '', 'l': '', 's': '', 'w': '', 'z': ''}</td>\n",
       "      <td>{'zy': '0', 'z': ''}</td>\n",
       "      <td>{'q': '', 'v': '', 'z': ''}</td>\n",
       "      <td>广播电视工程</td>\n",
       "      <td>双非</td>\n",
       "      <td>GPA 3.87/4.00</td>\n",
       "      <td>NaN</td>\n",
       "      <td>0</td>\n",
       "    </tr>\n",
       "    <tr>\n",
       "      <th>1</th>\n",
       "      <td>1</td>\n",
       "      <td>120432</td>\n",
       "      <td>Kbey9ajufbeq</td>\n",
       "      <td>Imperial College London</td>\n",
       "      <td>Artificial Intelligence and Machine Learning</td>\n",
       "      <td>英国</td>\n",
       "      <td>328</td>\n",
       "      <td>0</td>\n",
       "      <td>720</td>\n",
       "      <td>43963</td>\n",
       "      <td>...</td>\n",
       "      <td>{'v': '', 'q': '', 'aw': '', 'z': ''}</td>\n",
       "      <td>{'r': '8.0', 'l': '7.5', 's': '5.5', 'w': '6.0...</td>\n",
       "      <td>{'r': '', 'l': '', 's': '', 'w': '', 'z': ''}</td>\n",
       "      <td>{'zy': '0', 'z': ''}</td>\n",
       "      <td>{'q': '', 'v': '', 'z': ''}</td>\n",
       "      <td>软件工程</td>\n",
       "      <td>211</td>\n",
       "      <td>87、17%</td>\n",
       "      <td>NaN</td>\n",
       "      <td>1</td>\n",
       "    </tr>\n",
       "    <tr>\n",
       "      <th>2</th>\n",
       "      <td>2</td>\n",
       "      <td>120431</td>\n",
       "      <td>0eemrrWSf8Gj</td>\n",
       "      <td>KU Leuven</td>\n",
       "      <td>Mechanical Engineering</td>\n",
       "      <td>比利时</td>\n",
       "      <td>670</td>\n",
       "      <td>495</td>\n",
       "      <td>1050</td>\n",
       "      <td>43962</td>\n",
       "      <td>...</td>\n",
       "      <td>{'v': '163', 'q': '170', 'aw': '4.0', 'z': '333'}</td>\n",
       "      <td>{'r': '', 'l': '', 's': '', 'w': '', 'z': ''}</td>\n",
       "      <td>{'r': '', 'l': '', 's': '', 'w': '', 'z': ''}</td>\n",
       "      <td>{'zy': '0', 'z': ''}</td>\n",
       "      <td>{'q': '', 'v': '', 'z': ''}</td>\n",
       "      <td>New Energy Science and Engineering</td>\n",
       "      <td>211</td>\n",
       "      <td>87/100</td>\n",
       "      <td>Energy Science and Technology</td>\n",
       "      <td>2</td>\n",
       "    </tr>\n",
       "  </tbody>\n",
       "</table>\n",
       "<p>3 rows × 34 columns</p>\n",
       "</div>"
      ],
      "text/plain": [
       "   Unnamed: 0      id        uniqid                           schoolname  \\\n",
       "0           0  120433  aWGCambCyvPv  The Chinese University of Hong Kong   \n",
       "1           1  120432  Kbey9ajufbeq              Imperial College London   \n",
       "2           2  120431  0eemrrWSf8Gj                            KU Leuven   \n",
       "\n",
       "                                   professional countries  sid  pid   nid  \\\n",
       "0      Master of Comparative and Public History        香港  308    0   951   \n",
       "1  Artificial Intelligence and Machine Learning        英国  328    0   720   \n",
       "2                        Mechanical Engineering       比利时  670  495  1050   \n",
       "\n",
       "  offer_id  ...                                                gre  \\\n",
       "0    43964  ...              {'v': '', 'q': '', 'aw': '', 'z': ''}   \n",
       "1    43963  ...              {'v': '', 'q': '', 'aw': '', 'z': ''}   \n",
       "2    43962  ...  {'v': '163', 'q': '170', 'aw': '4.0', 'z': '333'}   \n",
       "\n",
       "                                               ielts  \\\n",
       "0  {'r': '7', 'l': '7', 's': '6', 'w': '7', 'z': ...   \n",
       "1  {'r': '8.0', 'l': '7.5', 's': '5.5', 'w': '6.0...   \n",
       "2      {'r': '', 'l': '', 's': '', 'w': '', 'z': ''}   \n",
       "\n",
       "                                            ptea                   sub  \\\n",
       "0  {'r': '', 'l': '', 's': '', 'w': '', 'z': ''}  {'zy': '0', 'z': ''}   \n",
       "1  {'r': '', 'l': '', 's': '', 'w': '', 'z': ''}  {'zy': '0', 'z': ''}   \n",
       "2  {'r': '', 'l': '', 's': '', 'w': '', 'z': ''}  {'zy': '0', 'z': ''}   \n",
       "\n",
       "                          gmat               undergraduate_subject  \\\n",
       "0  {'q': '', 'v': '', 'z': ''}                              广播电视工程   \n",
       "1  {'q': '', 'v': '', 'z': ''}                                软件工程   \n",
       "2  {'q': '', 'v': '', 'z': ''}  New Energy Science and Engineering   \n",
       "\n",
       "  undergraduate_sid undergraduate_gpa               graduate_subject case  \n",
       "0                双非     GPA 3.87/4.00                            NaN    0  \n",
       "1               211            87、17%                            NaN    1  \n",
       "2               211            87/100  Energy Science and Technology    2  \n",
       "\n",
       "[3 rows x 34 columns]"
      ]
     },
     "execution_count": 17,
     "metadata": {},
     "output_type": "execute_result"
    }
   ],
   "source": [
    "df['case'] = range(len(df))\n",
    "df.drop(columns=['uniqid','pid','nid','degree_other','vieworder','state','timestamp','updatetime']) \n",
    "df.head(3)"
   ]
  },
  {
   "cell_type": "code",
   "execution_count": 5,
   "id": "93607f75",
   "metadata": {},
   "outputs": [],
   "source": [
    "df.to_csv('df111_retest.csv')"
   ]
  },
  {
   "cell_type": "code",
   "execution_count": 6,
   "id": "18c83beb",
   "metadata": {},
   "outputs": [
    {
     "name": "stderr",
     "output_type": "stream",
     "text": [
      "/Users/yangpeiwen/opt/anaconda3/lib/python3.8/site-packages/IPython/core/interactiveshell.py:3165: DtypeWarning: Columns (3) have mixed types.Specify dtype option on import or set low_memory=False.\n",
      "  has_raised = await self.run_ast_nodes(code_ast.body, cell_name,\n"
     ]
    }
   ],
   "source": [
    "df = pd.read_csv('df111_retest.csv')"
   ]
  },
  {
   "cell_type": "code",
   "execution_count": 7,
   "id": "f4f5edd9",
   "metadata": {},
   "outputs": [],
   "source": [
    "df.index = df['case']\n",
    "df.to_csv('dfindex_retest.csv')"
   ]
  },
  {
   "cell_type": "code",
   "execution_count": 8,
   "id": "2400301d",
   "metadata": {},
   "outputs": [
    {
     "name": "stderr",
     "output_type": "stream",
     "text": [
      "/Users/yangpeiwen/opt/anaconda3/lib/python3.8/site-packages/IPython/core/interactiveshell.py:3165: DtypeWarning: Columns (4) have mixed types.Specify dtype option on import or set low_memory=False.\n",
      "  has_raised = await self.run_ast_nodes(code_ast.body, cell_name,\n"
     ]
    }
   ],
   "source": [
    "df = pd.read_csv('dfindex_retest.csv')"
   ]
  },
  {
   "cell_type": "code",
   "execution_count": 9,
   "id": "b054cc50",
   "metadata": {},
   "outputs": [
    {
     "data": {
      "text/plain": [
       "numpy.int64"
      ]
     },
     "execution_count": 9,
     "metadata": {},
     "output_type": "execute_result"
    }
   ],
   "source": [
    "type(df['notice_time'][1])"
   ]
  },
  {
   "cell_type": "code",
   "execution_count": 10,
   "id": "a5543857",
   "metadata": {},
   "outputs": [],
   "source": [
    "import time\n",
    "\n",
    "time_year = []\n",
    "time_month = []\n",
    "time_day = []\n",
    "\n",
    "#year\n",
    "for i in range(len(df)):\n",
    "    timeArray= time.localtime(df['notice_time'][i])\n",
    "    #otherStyleTime = time.strftime(\"%Y-%m-%d %H:%M:%S\", timeArray)\n",
    "    otherStyleTime = time.strftime(\"%Y\", timeArray)\n",
    "    time_year.append(otherStyleTime)\n",
    "    #print(type(otherStyleTime)) -> str\n",
    "\n",
    "#month\n",
    "for i in range(len(df)):\n",
    "    timeArray= time.localtime(df['notice_time'][i])\n",
    "    otherStyleTime = time.strftime(\"%m\", timeArray)\n",
    "    time_month.append(otherStyleTime)\n",
    "    \n",
    "#day\n",
    "for i in range(len(df)):\n",
    "    timeArray= time.localtime(df['notice_time'][i])\n",
    "    otherStyleTime = time.strftime(\"%d\", timeArray)\n",
    "    time_day.append(otherStyleTime)"
   ]
  },
  {
   "cell_type": "code",
   "execution_count": 11,
   "id": "57c9d8b0",
   "metadata": {},
   "outputs": [
    {
     "data": {
      "text/plain": [
       "Index(['case', 'Unnamed: 0', 'Unnamed: 0.1', 'id', 'uniqid', 'schoolname',\n",
       "       'professional', 'countries', 'sid', 'pid', 'nid', 'offer_id', 'uid',\n",
       "       'degree', 'degree_other', 'apply_results', 'apply_lang', 'year',\n",
       "       'timestamp', 'updatetime', 'time_year', 'time_month', 'time_day',\n",
       "       'semester', 'notice_time', 'vieworder', 'state', 'urls', 'toefl', 'gre',\n",
       "       'ielts', 'ptea', 'sub', 'gmat', 'undergraduate_subject',\n",
       "       'undergraduate_sid', 'undergraduate_gpa', 'graduate_subject', 'case.1'],\n",
       "      dtype='object')"
      ]
     },
     "execution_count": 11,
     "metadata": {},
     "output_type": "execute_result"
    }
   ],
   "source": [
    "df.insert(20, 'time_year', time_year)  \n",
    "df.insert(21, 'time_month', time_month)  \n",
    "df.insert(22, 'time_day', time_day) \n",
    "df.columns"
   ]
  },
  {
   "cell_type": "code",
   "execution_count": 12,
   "id": "d4615d20",
   "metadata": {},
   "outputs": [
    {
     "data": {
      "text/plain": [
       "0        2020\n",
       "1        2021\n",
       "2        2021\n",
       "3        2021\n",
       "4        2021\n",
       "         ... \n",
       "96071    2018\n",
       "96072    2018\n",
       "96073    2018\n",
       "96074    2018\n",
       "96075    2018\n",
       "Name: time_year, Length: 96076, dtype: object"
      ]
     },
     "execution_count": 12,
     "metadata": {},
     "output_type": "execute_result"
    }
   ],
   "source": [
    "df['time_year']"
   ]
  },
  {
   "cell_type": "code",
   "execution_count": null,
   "id": "199c186c",
   "metadata": {},
   "outputs": [],
   "source": [
    "import pandas as pd\n",
    "df.to_csv('index_new_time.csv')"
   ]
  }
 ],
 "metadata": {
  "kernelspec": {
   "display_name": "Python 3",
   "language": "python",
   "name": "python3"
  },
  "language_info": {
   "codemirror_mode": {
    "name": "ipython",
    "version": 3
   },
   "file_extension": ".py",
   "mimetype": "text/x-python",
   "name": "python",
   "nbconvert_exporter": "python",
   "pygments_lexer": "ipython3",
   "version": "3.8.8"
  }
 },
 "nbformat": 4,
 "nbformat_minor": 5
}
