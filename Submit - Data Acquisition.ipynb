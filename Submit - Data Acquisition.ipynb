{
 "cells": [
  {
   "cell_type": "code",
   "execution_count": 1,
   "id": "2de11127",
   "metadata": {},
   "outputs": [],
   "source": [
    "import requests\n",
    "from pprint import pprint\n",
    "import time\n",
    "import csv\n",
    "import random  # generate a random number\n",
    "import pandas as pd  # generate data frame\n",
    "from time import sleep  # stop the loop and have a rest"
   ]
  },
  {
   "cell_type": "code",
   "execution_count": 2,
   "id": "915ddf75",
   "metadata": {},
   "outputs": [],
   "source": [
    "url = \"http://www.gter.net/offer.json\"   # the website we will crawl"
   ]
  },
  {
   "cell_type": "markdown",
   "id": "5c4f242e",
   "metadata": {},
   "source": [
    "# Preparation for Data Acquisition:"
   ]
  },
  {
   "cell_type": "markdown",
   "id": "247b9c24",
   "metadata": {},
   "source": [
    "## (1) Set params and cookies"
   ]
  },
  {
   "cell_type": "code",
   "execution_count": 3,
   "id": "cda45ec6",
   "metadata": {},
   "outputs": [],
   "source": [
    "params = {\n",
    "    \"page\":\"1\",\n",
    "    \"page_num\":\"24\",\n",
    "    \"kw\":\"\",\n",
    "    \"_api_json\":\"1011:eda058e9211428817cf9066e2e9f4289\"   #set your own _api_json\n",
    "}\n",
    "\n",
    "#set your own headers\n",
    "headers = {\n",
    "    \"User-Agent\": \"Mozilla/5.0 (Macintosh; Intel Mac OS X 10_15_7) AppleWebKit/537.36 (KHTML, like Gecko) Chrome/95.0.4638.69 Safari/537.36\",\n",
    "    \"Referer\":\"http://www.gter.net/offer/index.html\",\n",
    "    #\"Referer\": \"http://www.gter.net/offer/index.html\",\n",
    "    \"Cookie\":\"_miucms_session=87c253ef81cd3c0dbd2f726295fcf2df; Hm_lvt_4bd66cbe45a640b607fe46c48f658746=1636212427,1636296170,1636334798,1636383978; __gads=ID=319b7a305235b976-22f39d359fce00d8:T=1636456630:RT=1636456630:S=ALNI_Ma0xASiQXp0tIEHxQzAt-E4RTqGbQ; VMhOIbxho_member=e5d96cc381330ebb30b4d75b99f1a16f; Hm_lpvt_4bd66cbe45a640b607fe46c48f658746=1636456662\",\n",
    "    #\"Cookie\": \"__gads=ID=921442125a149d9a-22743d7d8cce0097:T=1635951646:RT=1635951646:S=ALNI_MYROB6CvJrz9p7qn3AbuJQEpzYfWQ; miucms_session=232513f3e1aedb0a33e7a635ce169565; 4B5x_c0ae_saltkey=5yXyOhC8; 4B5x_c0ae_lastvisit=1636004094; 4B5x_c0ae_ulastactivity=5d68uKzZ06nGp8jWcFmwpJJS9FYFt8jDwfu3sWH6GX%2B%2B27EIZCW%2F; 4B5x_c0ae_smile=1D1; _miucms_session=3c81fd71875d17e46121b2c55a3f4f09; Hm_lvt_4bd66cbe45a640b607fe46c48f658746=1635943720,1635990030,1636007373,1636166825; 4B5x_c0ae_sid=PhyC3W; 4B5x_c0ae_visitedfid=565D812D811; 4B5x_c0ae_lastact=1636169649%09home.php%09misc; _miucms_session_gter=1a88dace73481bcadc2641ba749fe9e7; VMhOIbxho_member=b9362d2b856fc8e9a6d1e2fa6088e919; Hm_lpvt_4bd66cbe45a640b607fe46c48f658746=1636202793\",\n",
    "    \"X-Requested-With\": \"XMLHttpRequest\"\n",
    "}"
   ]
  },
  {
   "cell_type": "markdown",
   "id": "4935278c",
   "metadata": {},
   "source": [
    "## (2) Create dictionaries to store data"
   ]
  },
  {
   "cell_type": "code",
   "execution_count": 4,
   "id": "38952ded",
   "metadata": {},
   "outputs": [],
   "source": [
    "id = []\n",
    "uniqid = []\n",
    "schoolname = []\n",
    "professional = []\n",
    "countries = []\n",
    "sid = []\n",
    "pid = []\n",
    "nid = []\n",
    "offer_id = []\n",
    "uid = []\n",
    "degree = []\n",
    "degree_other = []\n",
    "apply_results = []\n",
    "apply_lang = []\n",
    "year = []\n",
    "timestamp = []\n",
    "updatetime = []\n",
    "semester = []\n",
    "notice_time = []\n",
    "vieworder = []\n",
    "state = []\n",
    "urls = []\n",
    "toefl = []\n",
    "gre = []\n",
    "ielts = []\n",
    "ptea = []\n",
    "sub = []\n",
    "gmat = []\n",
    "undergraduate_subject = []\n",
    "undergraduate_sid = []\n",
    "undergraduate_gpa = []\n",
    "graduate_subject = []\n",
    "graduate_sids = []\n",
    "graduate_gpa = []"
   ]
  },
  {
   "cell_type": "markdown",
   "id": "7418ff74",
   "metadata": {},
   "source": [
    "## (3) Use function to crawl the url and store the data"
   ]
  },
  {
   "cell_type": "code",
   "execution_count": 5,
   "id": "aaa973b7",
   "metadata": {},
   "outputs": [],
   "source": [
    "def parse(start,end):\n",
    "    for pages in range(int(start),int(end)):\n",
    "\n",
    "        params['page']=str(pages)\n",
    "        #res=requests.post(url,data=params4,headers=headers4)\n",
    "        \n",
    "        try:\n",
    "            res=requests.post(url,data=params,headers=headers)\n",
    "            data = res.json()['data']\n",
    "            #print(res.status_code)\n",
    "            #print(res.text)\n",
    "        except:\n",
    "            #res=requests.post(url,data=params4,headers=headers4)\n",
    "            print(res.status_code)\n",
    "            #print(res.text)\n",
    "            print(\"当前页码获取失败：\",pages)\n",
    "            break\n",
    "\n",
    "        for info in data:\n",
    "            try:\n",
    "                id.append(info['id'])\n",
    "                uniqid.append(info['uniqid'])\n",
    "                schoolname.append(info['schoolname'])\n",
    "                professional.append(info['professional'])\n",
    "                countries.append(info['countries'])\n",
    "                sid.append(info['sid'])\n",
    "                pid.append(info['pid'])\n",
    "                nid.append(info['nid'])\n",
    "                offer_id.append(info['offer_id'])\n",
    "                uid.append(info['uid'])\n",
    "                degree.append(info['degree'])\n",
    "                degree_other.append(info['degree_other'])\n",
    "                apply_results.append(info['apply_results'])\n",
    "                apply_lang.append(info['apply_lang'])\n",
    "                year.append(info['year'])\n",
    "                timestamp.append(info['timestamp'])\n",
    "                updatetime.append(info['updatetime'])\n",
    "                semester.append(info['semester'])\n",
    "                notice_time.append(info['notice_time'])\n",
    "                vieworder.append(info['vieworder'])\n",
    "                state.append(info['state'])\n",
    "                urls.append(info['url'])\n",
    "                toefl.append(info['toefl'])\n",
    "                gre.append(info['gre'])\n",
    "                ielts.append(info['ielts'])\n",
    "                ptea.append(info['ptea'])\n",
    "                sub.append(info['sub'])\n",
    "                gmat.append(info['gmat'])\n",
    "                undergraduate_subject.append(info['undergraduate_subject'])\n",
    "                undergraduate_sid.append(info['undergraduate_sid'])\n",
    "                undergraduate_gpa.append(info['undergraduate_gpa'])\n",
    "                graduate_subject.append(info['graduate_subject'])\n",
    "                graduate_sids.append(info['graduate_sid'])\n",
    "                graduate_gpa.append(info['graduate_gpa'])\n",
    "                \n",
    "            except:\n",
    "                id.append(\"none\")\n",
    "                uniqid.append(\"none\")\n",
    "                schoolname.append(\"none\")\n",
    "                professional.append(\"none\")\n",
    "                countries.append(\"none\")\n",
    "                sid.append(\"none\")\n",
    "                pid.append(\"none\")\n",
    "                nid.append(\"none\")\n",
    "                offer_id.append(\"none\")\n",
    "                uid.append(\"none\")\n",
    "                degree.append(\"none\")\n",
    "                degree_other.append(\"none\")\n",
    "                apply_results.append(\"none\")\n",
    "                apply_lang.append(\"none\")\n",
    "                year.append(\"none\")\n",
    "                timestamp.append(\"none\")\n",
    "                updatetime.append(\"none\")\n",
    "                semester.append(\"none\")\n",
    "                notice_time.append(\"none\")\n",
    "                vieworder.append(\"none\")\n",
    "                state.append(\"none\")\n",
    "                urls.append(\"none\")\n",
    "                toefl.append(\"none\")\n",
    "                gre.append(\"none\")\n",
    "                ielts.append(\"none\")\n",
    "                ptea.append(\"none\")\n",
    "                sub.append(\"none\")\n",
    "                gmat.append(\"none\")\n",
    "                undergraduate_subject.append(\"none\")\n",
    "                undergraduate_sid.append(\"none\")\n",
    "                undergraduate_gpa.append(\"none\")\n",
    "                graduate_subject.append(\"none\")\n",
    "                graduate_sids.append(\"none\")\n",
    "                graduate_gpa.append(\"none\")\n",
    "                \n",
    "        print(\"数据获取成功：\",pages)\n",
    "        time.sleep(5)"
   ]
  },
  {
   "cell_type": "markdown",
   "id": "ca32b7d3",
   "metadata": {},
   "source": [
    "# Start to Crawl !"
   ]
  },
  {
   "cell_type": "code",
   "execution_count": null,
   "id": "382dbeab",
   "metadata": {},
   "outputs": [],
   "source": [
    "#take this one for example\n",
    "parse(4001,4501)"
   ]
  },
  {
   "cell_type": "markdown",
   "id": "870f8429",
   "metadata": {},
   "source": [
    "## store the raw data to a csv document\n",
    "- For each 500 pages, create a csv file to store it."
   ]
  },
  {
   "cell_type": "code",
   "execution_count": 6,
   "id": "14a9c502",
   "metadata": {},
   "outputs": [],
   "source": [
    "offer_dict={\n",
    "    'id':id,\n",
    "    'uniqid':uniqid,\n",
    "    'schoolname':schoolname,\n",
    "    'professional':professional,\n",
    "    'countries':countries,\n",
    "    'sid':sid,\n",
    "    'pid':pid,\n",
    "    'nid':nid,\n",
    "    'offer_id':offer_id,\n",
    "    'uid':uid,\n",
    "    'degree':degree,\n",
    "    'degree_other':degree_other,\n",
    "    'apply_results':apply_results,\n",
    "    'apply_lang':apply_lang,\n",
    "    'year':year,\n",
    "    'timestamp':timestamp,\n",
    "    'updatetime':updatetime,\n",
    "    'semester':semester,\n",
    "    'notice_time':notice_time,\n",
    "    'vieworder':vieworder,\n",
    "    'state':state,\n",
    "    'urls':urls,\n",
    "    'toefl':toefl,\n",
    "    'gre':gre,\n",
    "    'ielts':ielts,\n",
    "    'ptea':ptea,\n",
    "    'sub':sub,\n",
    "    'gmat':gmat,\n",
    "    'undergraduate_subject':undergraduate_subject,\n",
    "    'undergraduate_sid':undergraduate_sid,\n",
    "    'undergraduate_gpa':undergraduate_gpa,\n",
    "    'graduate_subject':graduate_subject\n",
    "}"
   ]
  },
  {
   "cell_type": "code",
   "execution_count": null,
   "id": "fc104e23",
   "metadata": {},
   "outputs": [],
   "source": [
    "offer_data = pd.DataFrame(offer_dict)\n",
    "offer_data"
   ]
  },
  {
   "cell_type": "code",
   "execution_count": null,
   "id": "fb2b03a8",
   "metadata": {},
   "outputs": [],
   "source": [
    "#take this one for example\n",
    "offer_data.to_csv('full_offer_data_page_4001_4500.csv')"
   ]
  }
 ],
 "metadata": {
  "kernelspec": {
   "display_name": "Python 3",
   "language": "python",
   "name": "python3"
  },
  "language_info": {
   "codemirror_mode": {
    "name": "ipython",
    "version": 3
   },
   "file_extension": ".py",
   "mimetype": "text/x-python",
   "name": "python",
   "nbconvert_exporter": "python",
   "pygments_lexer": "ipython3",
   "version": "3.8.8"
  }
 },
 "nbformat": 4,
 "nbformat_minor": 5
}
